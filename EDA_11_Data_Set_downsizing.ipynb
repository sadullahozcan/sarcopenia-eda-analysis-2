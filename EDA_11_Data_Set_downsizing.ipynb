{
  "nbformat": 4,
  "nbformat_minor": 0,
  "metadata": {
    "colab": {
      "provenance": [],
      "authorship_tag": "ABX9TyPwpCFKQIR0TvIgjz2pO96N",
      "include_colab_link": true
    },
    "kernelspec": {
      "name": "python3",
      "display_name": "Python 3"
    },
    "language_info": {
      "name": "python"
    }
  },
  "cells": [
    {
      "cell_type": "markdown",
      "metadata": {
        "id": "view-in-github",
        "colab_type": "text"
      },
      "source": [
        "<a href=\"https://colab.research.google.com/github/sadullahozcan/sarcopenia-eda-analysis-2/blob/main/EDA_11_Data_Set_downsizing.ipynb\" target=\"_parent\"><img src=\"https://colab.research.google.com/assets/colab-badge.svg\" alt=\"Open In Colab\"/></a>"
      ]
    },
    {
      "cell_type": "code",
      "execution_count": null,
      "metadata": {
        "id": "b3-bs959mM2k"
      },
      "outputs": [],
      "source": [
        "import pandas as pd\n",
        "import numpy as np"
      ]
    },
    {
      "cell_type": "code",
      "source": [
        "from google import colab\n",
        "colab.drive.mount('/content/drive')"
      ],
      "metadata": {
        "colab": {
          "base_uri": "https://localhost:8080/"
        },
        "id": "9Rol5v9ImYHY",
        "outputId": "a27ede13-d7b9-4472-a78c-d2730c5d43bd"
      },
      "execution_count": null,
      "outputs": [
        {
          "output_type": "stream",
          "name": "stdout",
          "text": [
            "Mounted at /content/drive\n"
          ]
        }
      ]
    },
    {
      "cell_type": "code",
      "source": [
        "df = pd.read_excel('/content/drive/MyDrive/PROJECTS/Sarcopenia_Project/Data_Set_Files_2/sarcopenia-data-set_columns_corrected_13_optimized.xlsx')"
      ],
      "metadata": {
        "id": "PeQpjkQkmaKk"
      },
      "execution_count": null,
      "outputs": []
    },
    {
      "cell_type": "code",
      "source": [
        "print(f\"Orijinal veri seti boyutu: {len(df)} satır\")"
      ],
      "metadata": {
        "colab": {
          "base_uri": "https://localhost:8080/"
        },
        "id": "2_197fCdnT4a",
        "outputId": "8a4f1bdf-deda-4932-b87b-2a7b00075119"
      },
      "execution_count": null,
      "outputs": [
        {
          "output_type": "stream",
          "name": "stdout",
          "text": [
            "Orijinal veri seti boyutu: 5016 satır\n"
          ]
        }
      ]
    },
    {
      "cell_type": "code",
      "source": [
        "# Yeni hedef satır sayısı\n",
        "hedef_satir_sayisi = 4999\n",
        "\n",
        "# Rastgele örnekleme yapalım\n",
        "# 'n' parametresi ile doğrudan istediğiniz satır sayısını belirtebilirsiniz.\n",
        "# 'random_state' ise sonuçların tekrarlanabilir olmasını sağlar (aynı kodu tekrar çalıştırdığınızda aynı örneklemi alırsınız).\n",
        "sampled_df = df.sample(n=hedef_satir_sayisi, random_state=42)\n",
        "\n",
        "print(f\"Örneklenmiş veri seti boyutu: {len(sampled_df)} satır\")\n",
        "\n",
        "# Örneklenmiş veri setinin ilk 5 satırını görmek için\n",
        "print(sampled_df.head())"
      ],
      "metadata": {
        "colab": {
          "base_uri": "https://localhost:8080/"
        },
        "id": "0VaxXEztnTpU",
        "outputId": "4b59fa6b-c201-425a-d3dc-e78f93bf1844"
      },
      "execution_count": null,
      "outputs": [
        {
          "output_type": "stream",
          "name": "stdout",
          "text": [
            "Örneklenmiş veri seti boyutu: 4999 satır\n",
            "        AT  Age_Group_AGE 60-80    BMI   CST  DM_Type2  \\\n",
            "2588  43.5                    1  38.44   9.6         1   \n",
            "3199  43.3                    0  38.86  10.2         0   \n",
            "2986  31.4                    1  30.90  15.3         1   \n",
            "4515  51.0                    1  34.70  15.1         1   \n",
            "1666  33.8                    0  31.50  10.3         1   \n",
            "\n",
            "      Exercise_Status_3-4/week  Gait_Speed  Gender_M  Grip_Str  OP  STAR  \\\n",
            "2588                         0        0.76         0      20.0   1  1.13   \n",
            "3199                         0        0.94         0      25.0   0  1.11   \n",
            "2986                         0        0.95         0      18.0   0  1.02   \n",
            "4515                         0        0.74         1      28.0   0  1.47   \n",
            "1666                         1        1.23         1      40.0   0  1.07   \n",
            "\n",
            "      Total_Number_of_Chronic_Diseases  Waist_Hip_Ratio  AT_STAR_Interaction  \\\n",
            "2588                                 3             0.87               49.155   \n",
            "3199                                 1             0.98               48.063   \n",
            "2986                                 3             0.83               32.028   \n",
            "4515                                 6             1.08               74.970   \n",
            "1666                                 6             1.02               36.166   \n",
            "\n",
            "      Gender_M_OP_Interaction  CST_Gait_Speed_Interaction  BMI_square  \\\n",
            "2588                        0                       7.296   1477.6336   \n",
            "3199                        0                       9.588   1510.0996   \n",
            "2986                        0                      14.535    954.8100   \n",
            "4515                        0                      11.174   1204.0900   \n",
            "1666                        0                      12.669    992.2500   \n",
            "\n",
            "      Sarcopenia  \n",
            "2588           0  \n",
            "3199           0  \n",
            "2986           0  \n",
            "4515           0  \n",
            "1666           0  \n"
          ]
        }
      ]
    },
    {
      "cell_type": "code",
      "source": [
        "sampled_df.to_excel('/content/drive/MyDrive/PROJECTS/Sarcopenia_Project/Data_Set_Files_2/sarcopenia-data-set_columns_corrected_13_optimized_sampled.xlsx', index=False)"
      ],
      "metadata": {
        "id": "ccqRRkPImaEz"
      },
      "execution_count": null,
      "outputs": []
    },
    {
      "cell_type": "code",
      "source": [
        "sampled_df.to_csv('/content/drive/MyDrive/PROJECTS/Sarcopenia_Project/Data_Set_Files_2/sarcopenia-data-set_columns_corrected_13_optimized_sampled.csv', index=False)"
      ],
      "metadata": {
        "id": "4fJLA9JIoHWi"
      },
      "execution_count": null,
      "outputs": []
    },
    {
      "cell_type": "code",
      "source": [
        "print(f\"Sampled veri seti boyutu: {len(sampled_df)} satır\")"
      ],
      "metadata": {
        "colab": {
          "base_uri": "https://localhost:8080/"
        },
        "id": "QVIigcnmoNaQ",
        "outputId": "dc23f4f8-8df1-4a62-a002-41122a4cd048"
      },
      "execution_count": null,
      "outputs": [
        {
          "output_type": "stream",
          "name": "stdout",
          "text": [
            "Sampled veri seti boyutu: 4999 satır\n"
          ]
        }
      ]
    },
    {
      "cell_type": "code",
      "source": [],
      "metadata": {
        "id": "U8RNPYMRt89q"
      },
      "execution_count": null,
      "outputs": []
    }
  ]
}