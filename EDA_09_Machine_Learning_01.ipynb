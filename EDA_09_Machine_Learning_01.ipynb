{
  "cells": [
    {
      "cell_type": "markdown",
      "metadata": {
        "id": "view-in-github",
        "colab_type": "text"
      },
      "source": [
        "<a href=\"https://colab.research.google.com/github/sadullahozcan/sarcopenia-eda-analysis-2/blob/main/EDA_09_Machine_Learning_01.ipynb\" target=\"_parent\"><img src=\"https://colab.research.google.com/assets/colab-badge.svg\" alt=\"Open In Colab\"/></a>"
      ]
    },
    {
      "cell_type": "markdown",
      "source": [
        "**Step 1: Library Imports**"
      ],
      "metadata": {
        "id": "WLlAWhLSOWcn"
      }
    },
    {
      "cell_type": "code",
      "source": [
        "import pandas as pd\n",
        "import numpy as np\n",
        "import seaborn as sns; sns.set()\n",
        "import matplotlib.pyplot as plt\n",
        "%matplotlib inline\n",
        "import io\n",
        "\n",
        "from sklearn import preprocessing\n",
        "from sklearn.model_selection import train_test_split\n",
        "from sklearn.tree import DecisionTreeClassifier\n",
        "from xgboost import XGBClassifier\n",
        "from sklearn.metrics import accuracy_score, precision_score, recall_score, f1_score, confusion_matrix"
      ],
      "outputs": [],
      "execution_count": null,
      "metadata": {
        "id": "V01fnDiANgCZ"
      }
    },
    {
      "cell_type": "code",
      "source": [
        "from google import colab\n",
        "colab.drive.mount('/content/drive')"
      ],
      "metadata": {
        "colab": {
          "base_uri": "https://localhost:8080/"
        },
        "id": "U4v5tJ8InLTx",
        "outputId": "98d7853f-0510-4cc3-d03b-7701b873ac38"
      },
      "execution_count": null,
      "outputs": [
        {
          "output_type": "stream",
          "name": "stdout",
          "text": [
            "Drive already mounted at /content/drive; to attempt to forcibly remount, call drive.mount(\"/content/drive\", force_remount=True).\n"
          ]
        }
      ]
    },
    {
      "cell_type": "markdown",
      "source": [
        "**Step 2: Load Cleaned Data**\n"
      ],
      "metadata": {
        "id": "ANthmwhfOSCm"
      }
    },
    {
      "cell_type": "code",
      "source": [
        "df = pd.read_excel('/content/drive/MyDrive/PROJECTS/Sarcopenia_Project/Data_Set_Files_2/sarcopenia-data-set_columns_corrected_12.xlsx')"
      ],
      "metadata": {
        "id": "NNyzDUwJnNKf"
      },
      "execution_count": null,
      "outputs": []
    },
    {
      "cell_type": "code",
      "source": [
        "df.head()"
      ],
      "metadata": {
        "colab": {
          "base_uri": "https://localhost:8080/",
          "height": 273
        },
        "id": "7cjFSC-JsK60",
        "outputId": "a9832141-fbfc-4f09-d11c-4e2ace4e0246"
      },
      "execution_count": null,
      "outputs": [
        {
          "output_type": "execute_result",
          "data": {
            "text/plain": [
              "   DM_Type2     OP  Total_Number_of_Chronic_Diseases    AT   CST  Gait_Speed  \\\n",
              "0      True   True                                 3  50.2  12.5        1.21   \n",
              "1     False  False                                 0  49.0  12.1        1.42   \n",
              "2     False  False                                 0  37.3   8.7        1.18   \n",
              "3     False   True                                 4  29.5   8.3        1.23   \n",
              "4     False  False                                 3  39.5  11.0        1.31   \n",
              "\n",
              "   Grip_Str  STAR  Waist_Hip_Ratio   BMI  ...  Job_retired  \\\n",
              "0      32.0  1.81             1.00  27.8  ...        False   \n",
              "1      47.0  1.38             1.12  35.5  ...        False   \n",
              "2      33.0  1.20             0.96  31.2  ...        False   \n",
              "3      25.0  1.11             1.03  26.6  ...        False   \n",
              "4      31.0  1.26             0.97  31.3  ...        False   \n",
              "\n",
              "   Job_security_personel  Job_self-employment  Job_teacher  \\\n",
              "0                  False                False        False   \n",
              "1                  False                False        False   \n",
              "2                   True                False        False   \n",
              "3                  False                False        False   \n",
              "4                  False                False         True   \n",
              "\n",
              "   Job_white_collar_below_55  Job_worker  Work_Status_unknown  \\\n",
              "0                      False       False                False   \n",
              "1                      False       False                False   \n",
              "2                      False       False                False   \n",
              "3                       True       False                False   \n",
              "4                      False       False                False   \n",
              "\n",
              "   Work_Status_working  Exercise_Status_1-2/week  Exercise_Status_3-4/week  \n",
              "0                False                     False                      True  \n",
              "1                False                     False                     False  \n",
              "2                False                     False                      True  \n",
              "3                False                      True                     False  \n",
              "4                False                      True                     False  \n",
              "\n",
              "[5 rows x 38 columns]"
            ],
            "text/html": [
              "\n",
              "  <div id=\"df-1df3aa9e-1763-407e-b2dd-44d44262bdfa\" class=\"colab-df-container\">\n",
              "    <div>\n",
              "<style scoped>\n",
              "    .dataframe tbody tr th:only-of-type {\n",
              "        vertical-align: middle;\n",
              "    }\n",
              "\n",
              "    .dataframe tbody tr th {\n",
              "        vertical-align: top;\n",
              "    }\n",
              "\n",
              "    .dataframe thead th {\n",
              "        text-align: right;\n",
              "    }\n",
              "</style>\n",
              "<table border=\"1\" class=\"dataframe\">\n",
              "  <thead>\n",
              "    <tr style=\"text-align: right;\">\n",
              "      <th></th>\n",
              "      <th>DM_Type2</th>\n",
              "      <th>OP</th>\n",
              "      <th>Total_Number_of_Chronic_Diseases</th>\n",
              "      <th>AT</th>\n",
              "      <th>CST</th>\n",
              "      <th>Gait_Speed</th>\n",
              "      <th>Grip_Str</th>\n",
              "      <th>STAR</th>\n",
              "      <th>Waist_Hip_Ratio</th>\n",
              "      <th>BMI</th>\n",
              "      <th>...</th>\n",
              "      <th>Job_retired</th>\n",
              "      <th>Job_security_personel</th>\n",
              "      <th>Job_self-employment</th>\n",
              "      <th>Job_teacher</th>\n",
              "      <th>Job_white_collar_below_55</th>\n",
              "      <th>Job_worker</th>\n",
              "      <th>Work_Status_unknown</th>\n",
              "      <th>Work_Status_working</th>\n",
              "      <th>Exercise_Status_1-2/week</th>\n",
              "      <th>Exercise_Status_3-4/week</th>\n",
              "    </tr>\n",
              "  </thead>\n",
              "  <tbody>\n",
              "    <tr>\n",
              "      <th>0</th>\n",
              "      <td>True</td>\n",
              "      <td>True</td>\n",
              "      <td>3</td>\n",
              "      <td>50.2</td>\n",
              "      <td>12.5</td>\n",
              "      <td>1.21</td>\n",
              "      <td>32.0</td>\n",
              "      <td>1.81</td>\n",
              "      <td>1.00</td>\n",
              "      <td>27.8</td>\n",
              "      <td>...</td>\n",
              "      <td>False</td>\n",
              "      <td>False</td>\n",
              "      <td>False</td>\n",
              "      <td>False</td>\n",
              "      <td>False</td>\n",
              "      <td>False</td>\n",
              "      <td>False</td>\n",
              "      <td>False</td>\n",
              "      <td>False</td>\n",
              "      <td>True</td>\n",
              "    </tr>\n",
              "    <tr>\n",
              "      <th>1</th>\n",
              "      <td>False</td>\n",
              "      <td>False</td>\n",
              "      <td>0</td>\n",
              "      <td>49.0</td>\n",
              "      <td>12.1</td>\n",
              "      <td>1.42</td>\n",
              "      <td>47.0</td>\n",
              "      <td>1.38</td>\n",
              "      <td>1.12</td>\n",
              "      <td>35.5</td>\n",
              "      <td>...</td>\n",
              "      <td>False</td>\n",
              "      <td>False</td>\n",
              "      <td>False</td>\n",
              "      <td>False</td>\n",
              "      <td>False</td>\n",
              "      <td>False</td>\n",
              "      <td>False</td>\n",
              "      <td>False</td>\n",
              "      <td>False</td>\n",
              "      <td>False</td>\n",
              "    </tr>\n",
              "    <tr>\n",
              "      <th>2</th>\n",
              "      <td>False</td>\n",
              "      <td>False</td>\n",
              "      <td>0</td>\n",
              "      <td>37.3</td>\n",
              "      <td>8.7</td>\n",
              "      <td>1.18</td>\n",
              "      <td>33.0</td>\n",
              "      <td>1.20</td>\n",
              "      <td>0.96</td>\n",
              "      <td>31.2</td>\n",
              "      <td>...</td>\n",
              "      <td>False</td>\n",
              "      <td>True</td>\n",
              "      <td>False</td>\n",
              "      <td>False</td>\n",
              "      <td>False</td>\n",
              "      <td>False</td>\n",
              "      <td>False</td>\n",
              "      <td>False</td>\n",
              "      <td>False</td>\n",
              "      <td>True</td>\n",
              "    </tr>\n",
              "    <tr>\n",
              "      <th>3</th>\n",
              "      <td>False</td>\n",
              "      <td>True</td>\n",
              "      <td>4</td>\n",
              "      <td>29.5</td>\n",
              "      <td>8.3</td>\n",
              "      <td>1.23</td>\n",
              "      <td>25.0</td>\n",
              "      <td>1.11</td>\n",
              "      <td>1.03</td>\n",
              "      <td>26.6</td>\n",
              "      <td>...</td>\n",
              "      <td>False</td>\n",
              "      <td>False</td>\n",
              "      <td>False</td>\n",
              "      <td>False</td>\n",
              "      <td>True</td>\n",
              "      <td>False</td>\n",
              "      <td>False</td>\n",
              "      <td>False</td>\n",
              "      <td>True</td>\n",
              "      <td>False</td>\n",
              "    </tr>\n",
              "    <tr>\n",
              "      <th>4</th>\n",
              "      <td>False</td>\n",
              "      <td>False</td>\n",
              "      <td>3</td>\n",
              "      <td>39.5</td>\n",
              "      <td>11.0</td>\n",
              "      <td>1.31</td>\n",
              "      <td>31.0</td>\n",
              "      <td>1.26</td>\n",
              "      <td>0.97</td>\n",
              "      <td>31.3</td>\n",
              "      <td>...</td>\n",
              "      <td>False</td>\n",
              "      <td>False</td>\n",
              "      <td>False</td>\n",
              "      <td>True</td>\n",
              "      <td>False</td>\n",
              "      <td>False</td>\n",
              "      <td>False</td>\n",
              "      <td>False</td>\n",
              "      <td>True</td>\n",
              "      <td>False</td>\n",
              "    </tr>\n",
              "  </tbody>\n",
              "</table>\n",
              "<p>5 rows × 38 columns</p>\n",
              "</div>\n",
              "    <div class=\"colab-df-buttons\">\n",
              "\n",
              "  <div class=\"colab-df-container\">\n",
              "    <button class=\"colab-df-convert\" onclick=\"convertToInteractive('df-1df3aa9e-1763-407e-b2dd-44d44262bdfa')\"\n",
              "            title=\"Convert this dataframe to an interactive table.\"\n",
              "            style=\"display:none;\">\n",
              "\n",
              "  <svg xmlns=\"http://www.w3.org/2000/svg\" height=\"24px\" viewBox=\"0 -960 960 960\">\n",
              "    <path d=\"M120-120v-720h720v720H120Zm60-500h600v-160H180v160Zm220 220h160v-160H400v160Zm0 220h160v-160H400v160ZM180-400h160v-160H180v160Zm440 0h160v-160H620v160ZM180-180h160v-160H180v160Zm440 0h160v-160H620v160Z\"/>\n",
              "  </svg>\n",
              "    </button>\n",
              "\n",
              "  <style>\n",
              "    .colab-df-container {\n",
              "      display:flex;\n",
              "      gap: 12px;\n",
              "    }\n",
              "\n",
              "    .colab-df-convert {\n",
              "      background-color: #E8F0FE;\n",
              "      border: none;\n",
              "      border-radius: 50%;\n",
              "      cursor: pointer;\n",
              "      display: none;\n",
              "      fill: #1967D2;\n",
              "      height: 32px;\n",
              "      padding: 0 0 0 0;\n",
              "      width: 32px;\n",
              "    }\n",
              "\n",
              "    .colab-df-convert:hover {\n",
              "      background-color: #E2EBFA;\n",
              "      box-shadow: 0px 1px 2px rgba(60, 64, 67, 0.3), 0px 1px 3px 1px rgba(60, 64, 67, 0.15);\n",
              "      fill: #174EA6;\n",
              "    }\n",
              "\n",
              "    .colab-df-buttons div {\n",
              "      margin-bottom: 4px;\n",
              "    }\n",
              "\n",
              "    [theme=dark] .colab-df-convert {\n",
              "      background-color: #3B4455;\n",
              "      fill: #D2E3FC;\n",
              "    }\n",
              "\n",
              "    [theme=dark] .colab-df-convert:hover {\n",
              "      background-color: #434B5C;\n",
              "      box-shadow: 0px 1px 3px 1px rgba(0, 0, 0, 0.15);\n",
              "      filter: drop-shadow(0px 1px 2px rgba(0, 0, 0, 0.3));\n",
              "      fill: #FFFFFF;\n",
              "    }\n",
              "  </style>\n",
              "\n",
              "    <script>\n",
              "      const buttonEl =\n",
              "        document.querySelector('#df-1df3aa9e-1763-407e-b2dd-44d44262bdfa button.colab-df-convert');\n",
              "      buttonEl.style.display =\n",
              "        google.colab.kernel.accessAllowed ? 'block' : 'none';\n",
              "\n",
              "      async function convertToInteractive(key) {\n",
              "        const element = document.querySelector('#df-1df3aa9e-1763-407e-b2dd-44d44262bdfa');\n",
              "        const dataTable =\n",
              "          await google.colab.kernel.invokeFunction('convertToInteractive',\n",
              "                                                    [key], {});\n",
              "        if (!dataTable) return;\n",
              "\n",
              "        const docLinkHtml = 'Like what you see? Visit the ' +\n",
              "          '<a target=\"_blank\" href=https://colab.research.google.com/notebooks/data_table.ipynb>data table notebook</a>'\n",
              "          + ' to learn more about interactive tables.';\n",
              "        element.innerHTML = '';\n",
              "        dataTable['output_type'] = 'display_data';\n",
              "        await google.colab.output.renderOutput(dataTable, element);\n",
              "        const docLink = document.createElement('div');\n",
              "        docLink.innerHTML = docLinkHtml;\n",
              "        element.appendChild(docLink);\n",
              "      }\n",
              "    </script>\n",
              "  </div>\n",
              "\n",
              "\n",
              "    <div id=\"df-1e1cfd97-ec58-4668-a3a3-3a9a8c324a31\">\n",
              "      <button class=\"colab-df-quickchart\" onclick=\"quickchart('df-1e1cfd97-ec58-4668-a3a3-3a9a8c324a31')\"\n",
              "                title=\"Suggest charts\"\n",
              "                style=\"display:none;\">\n",
              "\n",
              "<svg xmlns=\"http://www.w3.org/2000/svg\" height=\"24px\"viewBox=\"0 0 24 24\"\n",
              "     width=\"24px\">\n",
              "    <g>\n",
              "        <path d=\"M19 3H5c-1.1 0-2 .9-2 2v14c0 1.1.9 2 2 2h14c1.1 0 2-.9 2-2V5c0-1.1-.9-2-2-2zM9 17H7v-7h2v7zm4 0h-2V7h2v10zm4 0h-2v-4h2v4z\"/>\n",
              "    </g>\n",
              "</svg>\n",
              "      </button>\n",
              "\n",
              "<style>\n",
              "  .colab-df-quickchart {\n",
              "      --bg-color: #E8F0FE;\n",
              "      --fill-color: #1967D2;\n",
              "      --hover-bg-color: #E2EBFA;\n",
              "      --hover-fill-color: #174EA6;\n",
              "      --disabled-fill-color: #AAA;\n",
              "      --disabled-bg-color: #DDD;\n",
              "  }\n",
              "\n",
              "  [theme=dark] .colab-df-quickchart {\n",
              "      --bg-color: #3B4455;\n",
              "      --fill-color: #D2E3FC;\n",
              "      --hover-bg-color: #434B5C;\n",
              "      --hover-fill-color: #FFFFFF;\n",
              "      --disabled-bg-color: #3B4455;\n",
              "      --disabled-fill-color: #666;\n",
              "  }\n",
              "\n",
              "  .colab-df-quickchart {\n",
              "    background-color: var(--bg-color);\n",
              "    border: none;\n",
              "    border-radius: 50%;\n",
              "    cursor: pointer;\n",
              "    display: none;\n",
              "    fill: var(--fill-color);\n",
              "    height: 32px;\n",
              "    padding: 0;\n",
              "    width: 32px;\n",
              "  }\n",
              "\n",
              "  .colab-df-quickchart:hover {\n",
              "    background-color: var(--hover-bg-color);\n",
              "    box-shadow: 0 1px 2px rgba(60, 64, 67, 0.3), 0 1px 3px 1px rgba(60, 64, 67, 0.15);\n",
              "    fill: var(--button-hover-fill-color);\n",
              "  }\n",
              "\n",
              "  .colab-df-quickchart-complete:disabled,\n",
              "  .colab-df-quickchart-complete:disabled:hover {\n",
              "    background-color: var(--disabled-bg-color);\n",
              "    fill: var(--disabled-fill-color);\n",
              "    box-shadow: none;\n",
              "  }\n",
              "\n",
              "  .colab-df-spinner {\n",
              "    border: 2px solid var(--fill-color);\n",
              "    border-color: transparent;\n",
              "    border-bottom-color: var(--fill-color);\n",
              "    animation:\n",
              "      spin 1s steps(1) infinite;\n",
              "  }\n",
              "\n",
              "  @keyframes spin {\n",
              "    0% {\n",
              "      border-color: transparent;\n",
              "      border-bottom-color: var(--fill-color);\n",
              "      border-left-color: var(--fill-color);\n",
              "    }\n",
              "    20% {\n",
              "      border-color: transparent;\n",
              "      border-left-color: var(--fill-color);\n",
              "      border-top-color: var(--fill-color);\n",
              "    }\n",
              "    30% {\n",
              "      border-color: transparent;\n",
              "      border-left-color: var(--fill-color);\n",
              "      border-top-color: var(--fill-color);\n",
              "      border-right-color: var(--fill-color);\n",
              "    }\n",
              "    40% {\n",
              "      border-color: transparent;\n",
              "      border-right-color: var(--fill-color);\n",
              "      border-top-color: var(--fill-color);\n",
              "    }\n",
              "    60% {\n",
              "      border-color: transparent;\n",
              "      border-right-color: var(--fill-color);\n",
              "    }\n",
              "    80% {\n",
              "      border-color: transparent;\n",
              "      border-right-color: var(--fill-color);\n",
              "      border-bottom-color: var(--fill-color);\n",
              "    }\n",
              "    90% {\n",
              "      border-color: transparent;\n",
              "      border-bottom-color: var(--fill-color);\n",
              "    }\n",
              "  }\n",
              "</style>\n",
              "\n",
              "      <script>\n",
              "        async function quickchart(key) {\n",
              "          const quickchartButtonEl =\n",
              "            document.querySelector('#' + key + ' button');\n",
              "          quickchartButtonEl.disabled = true;  // To prevent multiple clicks.\n",
              "          quickchartButtonEl.classList.add('colab-df-spinner');\n",
              "          try {\n",
              "            const charts = await google.colab.kernel.invokeFunction(\n",
              "                'suggestCharts', [key], {});\n",
              "          } catch (error) {\n",
              "            console.error('Error during call to suggestCharts:', error);\n",
              "          }\n",
              "          quickchartButtonEl.classList.remove('colab-df-spinner');\n",
              "          quickchartButtonEl.classList.add('colab-df-quickchart-complete');\n",
              "        }\n",
              "        (() => {\n",
              "          let quickchartButtonEl =\n",
              "            document.querySelector('#df-1e1cfd97-ec58-4668-a3a3-3a9a8c324a31 button');\n",
              "          quickchartButtonEl.style.display =\n",
              "            google.colab.kernel.accessAllowed ? 'block' : 'none';\n",
              "        })();\n",
              "      </script>\n",
              "    </div>\n",
              "\n",
              "    </div>\n",
              "  </div>\n"
            ],
            "application/vnd.google.colaboratory.intrinsic+json": {
              "type": "dataframe",
              "variable_name": "df"
            }
          },
          "metadata": {},
          "execution_count": 289
        }
      ]
    },
    {
      "cell_type": "code",
      "source": [
        "sorted(df.columns)"
      ],
      "metadata": {
        "colab": {
          "base_uri": "https://localhost:8080/"
        },
        "id": "DcJKLPZeMjhL",
        "outputId": "892e3071-a202-4e6c-85fd-4e399aefb5d6"
      },
      "execution_count": null,
      "outputs": [
        {
          "output_type": "execute_result",
          "data": {
            "text/plain": [
              "['AT',\n",
              " 'Age_Group_AGE 60-80',\n",
              " 'Age_Group_AGE 80-100',\n",
              " 'BMI',\n",
              " 'CST',\n",
              " 'Chronic_Diseases_COPD',\n",
              " 'Chronic_Diseases_Dyslipidemia',\n",
              " 'Chronic_Diseases_Hipotiroidi',\n",
              " 'Chronic_Diseases_KAH',\n",
              " 'DM_Type2',\n",
              " 'Education_Primary School',\n",
              " 'Education_Secondary School',\n",
              " 'Education_University',\n",
              " 'Education_illiterate',\n",
              " 'Exercise_Status_1-2/week',\n",
              " 'Exercise_Status_3-4/week',\n",
              " 'Gait_Speed',\n",
              " 'Gender_M',\n",
              " 'Grip_Str',\n",
              " 'Job_farmer',\n",
              " 'Job_health care personel',\n",
              " 'Job_housewife',\n",
              " 'Job_no_job',\n",
              " 'Job_numbers_below_ten',\n",
              " 'Job_public officer',\n",
              " 'Job_retired',\n",
              " 'Job_security_personel',\n",
              " 'Job_self-employment',\n",
              " 'Job_teacher',\n",
              " 'Job_white_collar_below_55',\n",
              " 'Job_worker',\n",
              " 'OP',\n",
              " 'STAR',\n",
              " 'Sarcopenia',\n",
              " 'Total_Number_of_Chronic_Diseases',\n",
              " 'Waist_Hip_Ratio',\n",
              " 'Work_Status_unknown',\n",
              " 'Work_Status_working']"
            ]
          },
          "metadata": {},
          "execution_count": 290
        }
      ]
    },
    {
      "cell_type": "code",
      "source": [
        "df.isnull().sum()"
      ],
      "metadata": {
        "colab": {
          "base_uri": "https://localhost:8080/",
          "height": 1000
        },
        "id": "uNxeVL8KQiwu",
        "outputId": "f16cabbe-d92b-4b3c-b48e-577a1dafa35f"
      },
      "execution_count": null,
      "outputs": [
        {
          "output_type": "execute_result",
          "data": {
            "text/plain": [
              "DM_Type2                            0\n",
              "OP                                  0\n",
              "Total_Number_of_Chronic_Diseases    0\n",
              "AT                                  0\n",
              "CST                                 0\n",
              "Gait_Speed                          0\n",
              "Grip_Str                            0\n",
              "STAR                                0\n",
              "Waist_Hip_Ratio                     0\n",
              "BMI                                 0\n",
              "Sarcopenia                          0\n",
              "Gender_M                            0\n",
              "Age_Group_AGE 60-80                 0\n",
              "Age_Group_AGE 80-100                0\n",
              "Education_Primary School            0\n",
              "Education_Secondary School          0\n",
              "Education_University                0\n",
              "Education_illiterate                0\n",
              "Chronic_Diseases_COPD               0\n",
              "Chronic_Diseases_Dyslipidemia       0\n",
              "Chronic_Diseases_Hipotiroidi        0\n",
              "Chronic_Diseases_KAH                0\n",
              "Job_farmer                          0\n",
              "Job_health care personel            0\n",
              "Job_housewife                       0\n",
              "Job_no_job                          0\n",
              "Job_numbers_below_ten               0\n",
              "Job_public officer                  0\n",
              "Job_retired                         0\n",
              "Job_security_personel               0\n",
              "Job_self-employment                 0\n",
              "Job_teacher                         0\n",
              "Job_white_collar_below_55           0\n",
              "Job_worker                          0\n",
              "Work_Status_unknown                 0\n",
              "Work_Status_working                 0\n",
              "Exercise_Status_1-2/week            0\n",
              "Exercise_Status_3-4/week            0\n",
              "dtype: int64"
            ],
            "text/html": [
              "<div>\n",
              "<style scoped>\n",
              "    .dataframe tbody tr th:only-of-type {\n",
              "        vertical-align: middle;\n",
              "    }\n",
              "\n",
              "    .dataframe tbody tr th {\n",
              "        vertical-align: top;\n",
              "    }\n",
              "\n",
              "    .dataframe thead th {\n",
              "        text-align: right;\n",
              "    }\n",
              "</style>\n",
              "<table border=\"1\" class=\"dataframe\">\n",
              "  <thead>\n",
              "    <tr style=\"text-align: right;\">\n",
              "      <th></th>\n",
              "      <th>0</th>\n",
              "    </tr>\n",
              "  </thead>\n",
              "  <tbody>\n",
              "    <tr>\n",
              "      <th>DM_Type2</th>\n",
              "      <td>0</td>\n",
              "    </tr>\n",
              "    <tr>\n",
              "      <th>OP</th>\n",
              "      <td>0</td>\n",
              "    </tr>\n",
              "    <tr>\n",
              "      <th>Total_Number_of_Chronic_Diseases</th>\n",
              "      <td>0</td>\n",
              "    </tr>\n",
              "    <tr>\n",
              "      <th>AT</th>\n",
              "      <td>0</td>\n",
              "    </tr>\n",
              "    <tr>\n",
              "      <th>CST</th>\n",
              "      <td>0</td>\n",
              "    </tr>\n",
              "    <tr>\n",
              "      <th>Gait_Speed</th>\n",
              "      <td>0</td>\n",
              "    </tr>\n",
              "    <tr>\n",
              "      <th>Grip_Str</th>\n",
              "      <td>0</td>\n",
              "    </tr>\n",
              "    <tr>\n",
              "      <th>STAR</th>\n",
              "      <td>0</td>\n",
              "    </tr>\n",
              "    <tr>\n",
              "      <th>Waist_Hip_Ratio</th>\n",
              "      <td>0</td>\n",
              "    </tr>\n",
              "    <tr>\n",
              "      <th>BMI</th>\n",
              "      <td>0</td>\n",
              "    </tr>\n",
              "    <tr>\n",
              "      <th>Sarcopenia</th>\n",
              "      <td>0</td>\n",
              "    </tr>\n",
              "    <tr>\n",
              "      <th>Gender_M</th>\n",
              "      <td>0</td>\n",
              "    </tr>\n",
              "    <tr>\n",
              "      <th>Age_Group_AGE 60-80</th>\n",
              "      <td>0</td>\n",
              "    </tr>\n",
              "    <tr>\n",
              "      <th>Age_Group_AGE 80-100</th>\n",
              "      <td>0</td>\n",
              "    </tr>\n",
              "    <tr>\n",
              "      <th>Education_Primary School</th>\n",
              "      <td>0</td>\n",
              "    </tr>\n",
              "    <tr>\n",
              "      <th>Education_Secondary School</th>\n",
              "      <td>0</td>\n",
              "    </tr>\n",
              "    <tr>\n",
              "      <th>Education_University</th>\n",
              "      <td>0</td>\n",
              "    </tr>\n",
              "    <tr>\n",
              "      <th>Education_illiterate</th>\n",
              "      <td>0</td>\n",
              "    </tr>\n",
              "    <tr>\n",
              "      <th>Chronic_Diseases_COPD</th>\n",
              "      <td>0</td>\n",
              "    </tr>\n",
              "    <tr>\n",
              "      <th>Chronic_Diseases_Dyslipidemia</th>\n",
              "      <td>0</td>\n",
              "    </tr>\n",
              "    <tr>\n",
              "      <th>Chronic_Diseases_Hipotiroidi</th>\n",
              "      <td>0</td>\n",
              "    </tr>\n",
              "    <tr>\n",
              "      <th>Chronic_Diseases_KAH</th>\n",
              "      <td>0</td>\n",
              "    </tr>\n",
              "    <tr>\n",
              "      <th>Job_farmer</th>\n",
              "      <td>0</td>\n",
              "    </tr>\n",
              "    <tr>\n",
              "      <th>Job_health care personel</th>\n",
              "      <td>0</td>\n",
              "    </tr>\n",
              "    <tr>\n",
              "      <th>Job_housewife</th>\n",
              "      <td>0</td>\n",
              "    </tr>\n",
              "    <tr>\n",
              "      <th>Job_no_job</th>\n",
              "      <td>0</td>\n",
              "    </tr>\n",
              "    <tr>\n",
              "      <th>Job_numbers_below_ten</th>\n",
              "      <td>0</td>\n",
              "    </tr>\n",
              "    <tr>\n",
              "      <th>Job_public officer</th>\n",
              "      <td>0</td>\n",
              "    </tr>\n",
              "    <tr>\n",
              "      <th>Job_retired</th>\n",
              "      <td>0</td>\n",
              "    </tr>\n",
              "    <tr>\n",
              "      <th>Job_security_personel</th>\n",
              "      <td>0</td>\n",
              "    </tr>\n",
              "    <tr>\n",
              "      <th>Job_self-employment</th>\n",
              "      <td>0</td>\n",
              "    </tr>\n",
              "    <tr>\n",
              "      <th>Job_teacher</th>\n",
              "      <td>0</td>\n",
              "    </tr>\n",
              "    <tr>\n",
              "      <th>Job_white_collar_below_55</th>\n",
              "      <td>0</td>\n",
              "    </tr>\n",
              "    <tr>\n",
              "      <th>Job_worker</th>\n",
              "      <td>0</td>\n",
              "    </tr>\n",
              "    <tr>\n",
              "      <th>Work_Status_unknown</th>\n",
              "      <td>0</td>\n",
              "    </tr>\n",
              "    <tr>\n",
              "      <th>Work_Status_working</th>\n",
              "      <td>0</td>\n",
              "    </tr>\n",
              "    <tr>\n",
              "      <th>Exercise_Status_1-2/week</th>\n",
              "      <td>0</td>\n",
              "    </tr>\n",
              "    <tr>\n",
              "      <th>Exercise_Status_3-4/week</th>\n",
              "      <td>0</td>\n",
              "    </tr>\n",
              "  </tbody>\n",
              "</table>\n",
              "</div><br><label><b>dtype:</b> int64</label>"
            ]
          },
          "metadata": {},
          "execution_count": 291
        }
      ]
    },
    {
      "cell_type": "code",
      "source": [
        "df.columns"
      ],
      "metadata": {
        "colab": {
          "base_uri": "https://localhost:8080/"
        },
        "id": "SdjeDVWDEplf",
        "outputId": "9f855141-5126-4290-c105-be2014573d41"
      },
      "execution_count": null,
      "outputs": [
        {
          "output_type": "execute_result",
          "data": {
            "text/plain": [
              "Index(['DM_Type2', 'OP', 'Total_Number_of_Chronic_Diseases', 'AT', 'CST',\n",
              "       'Gait_Speed', 'Grip_Str', 'STAR', 'Waist_Hip_Ratio', 'BMI',\n",
              "       'Sarcopenia', 'Gender_M', 'Age_Group_AGE 60-80', 'Age_Group_AGE 80-100',\n",
              "       'Education_Primary School', 'Education_Secondary School',\n",
              "       'Education_University', 'Education_illiterate', 'Chronic_Diseases_COPD',\n",
              "       'Chronic_Diseases_Dyslipidemia', 'Chronic_Diseases_Hipotiroidi',\n",
              "       'Chronic_Diseases_KAH', 'Job_farmer', 'Job_health care personel',\n",
              "       'Job_housewife', 'Job_no_job', 'Job_numbers_below_ten',\n",
              "       'Job_public officer', 'Job_retired', 'Job_security_personel',\n",
              "       'Job_self-employment', 'Job_teacher', 'Job_white_collar_below_55',\n",
              "       'Job_worker', 'Work_Status_unknown', 'Work_Status_working',\n",
              "       'Exercise_Status_1-2/week', 'Exercise_Status_3-4/week'],\n",
              "      dtype='object')"
            ]
          },
          "metadata": {},
          "execution_count": 292
        }
      ]
    },
    {
      "cell_type": "code",
      "source": [
        "#Data Leakage Analysis -- Sonuçlar çok yüksek çıktığından ve over-fitting olmadığı anlaşıldığından data leakage olabileceği dikkate\n",
        "#alınarak sarcopenia ile ilişkisi en yüksek olan feature lar veriden çıkartılarak yeniden run edildiğinde sonuçlar daha düşük çıktı. Burada\n",
        "#birbiriyle korelasyonu yüksek veriler de dikkate alındı.\n",
        "\n",
        "#df.drop(['AT'], axis=1, inplace=True)\n",
        "df.drop(['STAR'], axis=1, inplace=True)\n",
        "df.drop(['Grip_Str'], axis=1, inplace=True) # Doğrudan tanı kriteri olan değişken\n",
        "#df.drop(['CST'], axis=1, inplace=True)\n",
        "#df.drop(['Job_no_job'], axis=1, inplace=True)"
      ],
      "metadata": {
        "id": "08JyxygwJx1_"
      },
      "execution_count": null,
      "outputs": []
    },
    {
      "cell_type": "markdown",
      "source": [
        "**Step 3: Training Models on Subsets of Data**\n",
        "\n",
        "3.1: Create Data Subsets (1,000 Patients)\n",
        "*   **Action:** Original dataset was randomly sampled to create subsets of 1,000 patients.\n",
        "*   **Consideration:** The subsets were also stratified to maintain class distribution, especially since the dataset is imbalanced.\n",
        "\n"
      ],
      "metadata": {
        "id": "MWYpYtgINgCh"
      }
    },
    {
      "cell_type": "code",
      "source": [
        "if len(df) < 1000:\n",
        "  print(\"Warning: Dataset has less than 1,000 patients. Cannot create 1,000 patient subset.\")\n",
        "  df_1000 = None\n",
        "else:\n",
        "  # Stratified sampling for df_1000\n",
        "  # Group by the target variable and sample from each group proportionally\n",
        "  df_1000 = df.groupby('Sarcopenia').sample(n=int(1000 * df['Sarcopenia'].value_counts(normalize=True)[1]), random_state=42)\n",
        "  # If the above leads to slightly less or more than n due to rounding, you might need to adjust\n",
        "  # A safer way to ensure exactly n samples is to oversample/undersample from groups as needed or adjust n slightly\n",
        "  # However, for demonstration and approximate subsets, this proportional sampling is common.\n",
        "\n",
        "  # The following line ensures we have exactly 1000 rows if proportional sampling didn't achieve it exactly\n",
        "  # This can introduce slight deviation from perfect stratification if counts are very small\n",
        "  # A more robust approach might involve ensuring a minimum number of samples per group before sampling\n",
        "  if len(df_1000) < 1000:\n",
        "      remaining_samples = 1000 - len(df_1000)\n",
        "      # Find rows not yet sampled and sample the remainder, ensuring no duplicates\n",
        "      remaining_df = df[~df.index.isin(df_1000.index)]\n",
        "      df_1000 = pd.concat([df_1000, remaining_df.sample(n=remaining_samples, random_state=42)])\n",
        "  elif len(df_1000) > 1000:\n",
        "       df_1000 = df_1000.sample(n=1000, random_state=42)\n",
        "\n",
        "\n",
        "  X_1000 = df_1000.drop('Sarcopenia', axis=1)\n",
        "  y_1000 = df_1000['Sarcopenia']\n",
        "  # Now perform a stratified train-test split on the stratified subset\n",
        "  X_train_1000, X_test_1000, y_train_1000, y_test_1000 = train_test_split(X_1000, y_1000, test_size=0.25, random_state=42, stratify=y_1000)\n"
      ],
      "outputs": [],
      "execution_count": null,
      "metadata": {
        "id": "2OdXL7WfNgCi"
      }
    },
    {
      "cell_type": "markdown",
      "source": [
        "**Step 4: Train and Evaluate Decision Tree on 1,000 Patient Subset**"
      ],
      "metadata": {
        "id": "LIeZlJaeNgCi"
      }
    },
    {
      "cell_type": "code",
      "source": [
        "if df_1000 is not None:\n",
        "  dt_classifier_1000 = DecisionTreeClassifier(random_state=42)\n",
        "  dt_classifier_1000.fit(X_train_1000, y_train_1000)\n",
        "  y_pred_dt_1000 = dt_classifier_1000.predict(X_test_1000)\n",
        "\n",
        "  # Train sonuçlarını hesapla\n",
        "  y_train_pred_dt = dt_classifier_1000.predict(X_train_1000)\n",
        "  train_accuracy_dt = accuracy_score(y_train_1000, y_train_pred_dt)\n",
        "  train_precision_dt = precision_score(y_train_1000, y_train_pred_dt)\n",
        "  train_recall_dt = recall_score(y_train_1000, y_train_pred_dt)\n",
        "  train_f1_dt = f1_score(y_train_1000, y_train_pred_dt)\n",
        "\n",
        "  print(f\"\\nDecision Tree (Train) - Accuracy: {train_accuracy_dt:.4f}\")\n",
        "  print(f\"Decision Tree (Train) - Precision: {train_precision_dt:.4f}\")\n",
        "  print(f\"Decision Tree (Train) - Recall: {train_recall_dt:.4f}\")\n",
        "  print(f\"Decision Tree (Train) - F1-Score: {train_f1_dt:.4f}\")\n",
        "\n",
        "\n",
        "  # Test sonuçlarını hesapla\n",
        "  accuracy_dt_1000 = accuracy_score(y_test_1000, y_pred_dt_1000)\n",
        "  precision_dt_1000 = precision_score(y_test_1000, y_pred_dt_1000)\n",
        "  recall_dt_1000 = recall_score(y_test_1000, y_pred_dt_1000)\n",
        "  f1_dt_1000 = f1_score(y_test_1000, y_pred_dt_1000)\n",
        "\n",
        "  print(f\"\\nDecision Tree (1,000 Patients) - Accuracy: {accuracy_dt_1000:.4f}\")\n",
        "  print(f\"Decision Tree (1,000 Patients) - Precision: {precision_dt_1000:.4f}\")\n",
        "  print(f\"Decision Tree (1,000 Patients) - Recall: {recall_dt_1000:.4f}\")\n",
        "  print(f\"Decision Tree (1,000 Patients) - F1-Score: {f1_dt_1000:.4f}\")"
      ],
      "outputs": [
        {
          "output_type": "stream",
          "name": "stdout",
          "text": [
            "\n",
            "Decision Tree (Train) - Accuracy: 1.0000\n",
            "Decision Tree (Train) - Precision: 1.0000\n",
            "Decision Tree (Train) - Recall: 1.0000\n",
            "Decision Tree (Train) - F1-Score: 1.0000\n",
            "\n",
            "Decision Tree (1,000 Patients) - Accuracy: 0.8600\n",
            "Decision Tree (1,000 Patients) - Precision: 0.7895\n",
            "Decision Tree (1,000 Patients) - Recall: 0.7595\n",
            "Decision Tree (1,000 Patients) - F1-Score: 0.7742\n"
          ]
        }
      ],
      "execution_count": null,
      "metadata": {
        "id": "hytMNsYNNgCi",
        "colab": {
          "base_uri": "https://localhost:8080/"
        },
        "outputId": "cac6412c-dfaa-488b-9fcb-b13f643db071"
      }
    },
    {
      "cell_type": "code",
      "source": [
        "# Confusion Matrix\n",
        "cm_dt_1000 = confusion_matrix(y_test_1000, y_pred_dt_1000)\n",
        "sns.heatmap(cm_dt_1000, annot=True, fmt='d', cmap='Blues')\n",
        "plt.title('Confusion Matrix - Decision Tree (1000)')\n",
        "plt.xlabel('Predicted')\n",
        "plt.ylabel('True')\n",
        "plt.show()"
      ],
      "metadata": {
        "colab": {
          "base_uri": "https://localhost:8080/",
          "height": 480
        },
        "id": "wkSxlNWksOIS",
        "outputId": "e748def8-3981-4686-acf3-bc2362e77dbe"
      },
      "execution_count": null,
      "outputs": [
        {
          "output_type": "display_data",
          "data": {
            "text/plain": [
              "<Figure size 640x480 with 2 Axes>"
            ],
            "image/png": "[encoded data removed]"
          },
          "metadata": {}
        }
      ]
    },
    {
      "cell_type": "markdown",
      "source": [
        "**Step 5: Train and Evaluate XGBoost on 1,000 Patient Subset**"
      ],
      "metadata": {
        "id": "8yGPY7LkNgCj"
      }
    },
    {
      "cell_type": "code",
      "source": [
        "if df_1000 is not None:\n",
        "  xgb_classifier_1000 = XGBClassifier(eval_metric='logloss', random_state=42)\n",
        "  xgb_classifier_1000.fit(X_train_1000, y_train_1000)\n",
        "  y_pred_xgb_1000 = xgb_classifier_1000.predict(X_test_1000)\n",
        "\n",
        "  # Train sonuçlarını hesapla\n",
        "  y_train_pred_xgb = xgb_classifier_1000.predict(X_train_1000)\n",
        "  train_accuracy_xgb = accuracy_score(y_train_1000, y_train_pred_xgb)\n",
        "  train_precision_xgb = precision_score(y_train_1000, y_train_pred_xgb)\n",
        "  train_recall_xgb = recall_score(y_train_1000, y_train_pred_xgb)\n",
        "  train_f1_xgb = f1_score(y_train_1000, y_train_pred_xgb)\n",
        "\n",
        "  print(f\"\\nDecision Tree (Train) - Accuracy: {train_accuracy_dt:.4f}\")\n",
        "  print(f\"Decision Tree (Train) - Precision: {train_precision_dt:.4f}\")\n",
        "  print(f\"Decision Tree (Train) - Recall: {train_recall_dt:.4f}\")\n",
        "  print(f\"Decision Tree (Train) - F1-Score: {train_f1_dt:.4f}\")\n",
        "\n",
        "  # Test sonuçlarını hesapla\n",
        "  accuracy_xgb_1000 = accuracy_score(y_test_1000, y_pred_xgb_1000)\n",
        "  precision_xgb_1000 = precision_score(y_test_1000, y_pred_xgb_1000)\n",
        "  recall_xgb_1000 = recall_score(y_test_1000, y_pred_xgb_1000)\n",
        "  f1_xgb_1000 = f1_score(y_test_1000, y_pred_xgb_1000)\n",
        "\n",
        "  print(f\"\\nXGBoost (1,000 Patients) - Accuracy: {accuracy_xgb_1000:.4f}\")\n",
        "  print(f\"XGBoost (1,000 Patients) - Precision: {precision_xgb_1000:.4f}\")\n",
        "  print(f\"XGBoost (1,000 Patients) - Recall: {recall_xgb_1000:.4f}\")\n",
        "  print(f\"XGBoost (1,000 Patients) - F1-Score: {f1_xgb_1000:.4f}\")"
      ],
      "outputs": [
        {
          "output_type": "stream",
          "name": "stdout",
          "text": [
            "\n",
            "Decision Tree (Train) - Accuracy: 1.0000\n",
            "Decision Tree (Train) - Precision: 1.0000\n",
            "Decision Tree (Train) - Recall: 1.0000\n",
            "Decision Tree (Train) - F1-Score: 1.0000\n",
            "\n",
            "XGBoost (1,000 Patients) - Accuracy: 0.8640\n",
            "XGBoost (1,000 Patients) - Precision: 0.8000\n",
            "XGBoost (1,000 Patients) - Recall: 0.7595\n",
            "XGBoost (1,000 Patients) - F1-Score: 0.7792\n"
          ]
        }
      ],
      "execution_count": null,
      "metadata": {
        "id": "PaLoIVE9NgCj",
        "colab": {
          "base_uri": "https://localhost:8080/"
        },
        "outputId": "78206358-fc3b-417c-a312-a23c50b557ea"
      }
    },
    {
      "cell_type": "code",
      "source": [
        "# Confusion Matrix\n",
        "cm_xgb_1000 = confusion_matrix(y_test_1000, y_pred_xgb_1000)\n",
        "sns.heatmap(cm_xgb_1000, annot=True, fmt='d', cmap='Blues')\n",
        "plt.title('Confusion Matrix - XGBoost (1000)')\n",
        "plt.xlabel('Predicted')\n",
        "plt.ylabel('True')\n",
        "plt.show()"
      ],
      "metadata": {
        "colab": {
          "base_uri": "https://localhost:8080/",
          "height": 480
        },
        "id": "dIdjRAAJs0lh",
        "outputId": "bea5cd01-098a-486d-d8b0-51ee7778be19"
      },
      "execution_count": null,
      "outputs": [
        {
          "output_type": "display_data",
          "data": {
            "text/plain": [
              "<Figure size 640x480 with 2 Axes>"
            ],
            "image/png": "[encoded data removed]"
          },
          "metadata": {}
        }
      ]
    },
    {
      "cell_type": "markdown",
      "source": [
        "**Step 6: Training Models on Subsets of Data**\n",
        "\n",
        "6.1: Create Data Subsets 2,000 Patients\n",
        "* **Action:** Original dataset was randomly sampled to create subsets of 2,000 patients.\n",
        "* **Consideration:** The subsets were also stratified to maintain class distribution, especially since the dataset is imbalanced."
      ],
      "metadata": {
        "id": "25Lz8BcZPu1B"
      }
    },
    {
      "cell_type": "code",
      "source": [
        "if len(df) < 2000:\n",
        "  print(\"Warning: Dataset has less than 2,000 patients. Cannot create 2,000 patient subset.\")\n",
        "  df_2000 = None\n",
        "else:\n",
        "    # Stratified sampling for df_2000\n",
        "    df_2000 = df.groupby('Sarcopenia').sample(n=int(2000 * df['Sarcopenia'].value_counts(normalize=True)[1]), random_state=42)\n",
        "\n",
        "    if len(df_2000) < 2000:\n",
        "        remaining_samples = 2000 - len(df_2000)\n",
        "        remaining_df = df[~df.index.isin(df_2000.index)]\n",
        "        df_2000 = pd.concat([df_2000, remaining_df.sample(n=remaining_samples, random_state=42)])\n",
        "    elif len(df_2000) > 2000:\n",
        "        df_2000 = df_2000.sample(n=2000, random_state=42)\n",
        "\n",
        "\n",
        "    X_2000 = df_2000.drop('Sarcopenia', axis=1)\n",
        "    y_2000 = df_2000['Sarcopenia']\n",
        "    # Now perform a stratified train-test split on the stratified subset\n",
        "    X_train_2000, X_test_2000, y_train_2000, y_test_2000 = train_test_split(X_2000, y_2000, test_size=0.25, random_state=42, stratify=y_2000)"
      ],
      "outputs": [],
      "execution_count": null,
      "metadata": {
        "id": "hSkU2tSgPu1D"
      }
    },
    {
      "cell_type": "markdown",
      "source": [
        "**Step 7: Train and Evaluate Decision Tree on 2,000 Patient Subset**"
      ],
      "metadata": {
        "id": "Hsy1iPrGPu1F"
      }
    },
    {
      "cell_type": "code",
      "source": [
        "if df_2000 is not None:\n",
        "  dt_classifier_2000 = DecisionTreeClassifier(random_state=42)\n",
        "  dt_classifier_2000.fit(X_train_2000, y_train_2000)\n",
        "  y_pred_dt_2000 = dt_classifier_2000.predict(X_test_2000)\n",
        "\n",
        "  # Train sonuçlarını hesapla\n",
        "  y_train_pred_dt = dt_classifier_2000.predict(X_train_2000)\n",
        "  train_accuracy_dt = accuracy_score(y_train_2000, y_train_pred_dt)\n",
        "  train_precision_dt = precision_score(y_train_2000, y_train_pred_dt)\n",
        "  train_recall_dt = recall_score(y_train_2000, y_train_pred_dt)\n",
        "  train_f1_dt = f1_score(y_train_2000, y_train_pred_dt)\n",
        "\n",
        "  print(f\"\\nDecision Tree (Train) - Accuracy: {train_accuracy_dt:.4f}\")\n",
        "  print(f\"Decision Tree (Train) - Precision: {train_precision_dt:.4f}\")\n",
        "  print(f\"Decision Tree (Train) - Recall: {train_recall_dt:.4f}\")\n",
        "  print(f\"Decision Tree (Train) - F1-Score: {train_f1_dt:.4f}\")\n",
        "\n",
        "  # Test sonuçlarını hesapla\n",
        "  accuracy_dt_2000 = accuracy_score(y_test_2000, y_pred_dt_2000)\n",
        "  precision_dt_2000 = precision_score(y_test_2000, y_pred_dt_2000)\n",
        "  recall_dt_2000 = recall_score(y_test_2000, y_pred_dt_2000)\n",
        "  f1_dt_2000 = f1_score(y_test_2000, y_pred_dt_2000)\n",
        "\n",
        "  print(f\"\\nDecision Tree (2,000 Patients) - Accuracy: {accuracy_dt_2000:.4f}\")\n",
        "  print(f\"Decision Tree (2,000 Patients) - Precision: {precision_dt_2000:.4f}\")\n",
        "  print(f\"Decision Tree (2,000 Patients) - Recall: {recall_dt_2000:.4f}\")\n",
        "  print(f\"Decision Tree (2,000 Patients) - F1-Score: {f1_dt_2000:.4f}\")"
      ],
      "outputs": [
        {
          "output_type": "stream",
          "name": "stdout",
          "text": [
            "\n",
            "Decision Tree (Train) - Accuracy: 1.0000\n",
            "Decision Tree (Train) - Precision: 1.0000\n",
            "Decision Tree (Train) - Recall: 1.0000\n",
            "Decision Tree (Train) - F1-Score: 1.0000\n",
            "\n",
            "Decision Tree (2,000 Patients) - Accuracy: 0.8700\n",
            "Decision Tree (2,000 Patients) - Precision: 0.7647\n",
            "Decision Tree (2,000 Patients) - Recall: 0.8014\n",
            "Decision Tree (2,000 Patients) - F1-Score: 0.7826\n"
          ]
        }
      ],
      "execution_count": null,
      "metadata": {
        "id": "nP3pt_O6NgCj",
        "colab": {
          "base_uri": "https://localhost:8080/"
        },
        "outputId": "8de29c75-2337-4b67-e824-8136bb03d1c0"
      }
    },
    {
      "cell_type": "code",
      "source": [
        "# Confusion Matrix\n",
        "cm_dt_2000 = confusion_matrix(y_test_2000, y_pred_dt_2000)\n",
        "sns.heatmap(cm_dt_2000, annot=True, fmt='d', cmap='Blues')\n",
        "plt.title('Confusion Matrix - Decision Tree (2000)')\n",
        "plt.xlabel('Predicted')\n",
        "plt.ylabel('True')\n",
        "plt.show()"
      ],
      "metadata": {
        "colab": {
          "base_uri": "https://localhost:8080/",
          "height": 480
        },
        "id": "ocdkI3_Utu9Z",
        "outputId": "65a8cde1-6222-4cb0-bfda-cdc7a7951c74"
      },
      "execution_count": null,
      "outputs": [
        {
          "output_type": "display_data",
          "data": {
            "text/plain": [
              "<Figure size 640x480 with 2 Axes>"
            ],
            "image/png": "[encoded data removed]"
          },
          "metadata": {}
        }
      ]
    },
    {
      "cell_type": "markdown",
      "source": [
        "**Step 8: Train and Evaluate XGBoost on 2,000 Patient Subset**"
      ],
      "metadata": {
        "id": "9tGapvvQNgCk"
      }
    },
    {
      "cell_type": "code",
      "source": [
        "if df_2000 is not None:\n",
        "  xgb_classifier_2000 = XGBClassifier(eval_metric='logloss', random_state=42)\n",
        "  xgb_classifier_2000.fit(X_train_2000, y_train_2000)\n",
        "  y_pred_xgb_2000 = xgb_classifier_2000.predict(X_test_2000)\n",
        "\n",
        "  # Train sonuçlarını hesapla\n",
        "  y_train_pred_xgb = xgb_classifier_2000.predict(X_train_2000)\n",
        "  train_accuracy_xgb = accuracy_score(y_train_2000, y_train_pred_xgb)\n",
        "  train_precision_xgb = precision_score(y_train_2000, y_train_pred_xgb)\n",
        "  train_recall_xgb = recall_score(y_train_2000, y_train_pred_xgb)\n",
        "  train_f1_xgb = f1_score(y_train_2000, y_train_pred_xgb)\n",
        "\n",
        "  print(f\"\\nDecision Tree (Train) - Accuracy: {train_accuracy_dt:.4f}\")\n",
        "  print(f\"Decision Tree (Train) - Precision: {train_precision_dt:.4f}\")\n",
        "  print(f\"Decision Tree (Train) - Recall: {train_recall_dt:.4f}\")\n",
        "  print(f\"Decision Tree (Train) - F1-Score: {train_f1_dt:.4f}\")\n",
        "\n",
        "  # Test sonuçlarını hesapla\n",
        "  accuracy_xgb_2000 = accuracy_score(y_test_2000, y_pred_xgb_2000)\n",
        "  precision_xgb_2000 = precision_score(y_test_2000, y_pred_xgb_2000)\n",
        "  recall_xgb_2000 = recall_score(y_test_2000, y_pred_xgb_2000)\n",
        "  f1_xgb_2000 = f1_score(y_test_2000, y_pred_xgb_2000)\n",
        "\n",
        "  print(f\"\\nXGBoost (2,000 Patients) - Accuracy: {accuracy_xgb_2000:.4f}\")\n",
        "  print(f\"XGBoost (2,000 Patients) - Precision: {precision_xgb_2000:.4f}\")\n",
        "  print(f\"XGBoost (2,000 Patients) - Recall: {recall_xgb_2000:.4f}\")\n",
        "  print(f\"XGBoost (2,000 Patients) - F1-Score: {f1_xgb_2000:.4f}\")"
      ],
      "outputs": [
        {
          "output_type": "stream",
          "name": "stdout",
          "text": [
            "\n",
            "Decision Tree (Train) - Accuracy: 1.0000\n",
            "Decision Tree (Train) - Precision: 1.0000\n",
            "Decision Tree (Train) - Recall: 1.0000\n",
            "Decision Tree (Train) - F1-Score: 1.0000\n",
            "\n",
            "XGBoost (2,000 Patients) - Accuracy: 0.8960\n",
            "XGBoost (2,000 Patients) - Precision: 0.8310\n",
            "XGBoost (2,000 Patients) - Recall: 0.8082\n",
            "XGBoost (2,000 Patients) - F1-Score: 0.8194\n"
          ]
        }
      ],
      "execution_count": null,
      "metadata": {
        "id": "uzV4CElJNgCk",
        "colab": {
          "base_uri": "https://localhost:8080/"
        },
        "outputId": "036c4fde-90b4-4b0b-e338-5f1b2e85867b"
      }
    },
    {
      "cell_type": "code",
      "source": [
        "# Confusion Matrix\n",
        "cm_xgb_2000 = confusion_matrix(y_test_2000, y_pred_xgb_2000)\n",
        "sns.heatmap(cm_xgb_2000, annot=True, fmt='d', cmap='Blues')\n",
        "plt.title('Confusion Matrix - XGBoost (2000)')\n",
        "plt.xlabel('Predicted')\n",
        "plt.ylabel('True')\n",
        "plt.show()"
      ],
      "metadata": {
        "colab": {
          "base_uri": "https://localhost:8080/",
          "height": 480
        },
        "id": "8TsY_dUgs9hY",
        "outputId": "2cb86f1a-91b6-492e-9c4c-b1bf3db7b106"
      },
      "execution_count": null,
      "outputs": [
        {
          "output_type": "display_data",
          "data": {
            "text/plain": [
              "<Figure size 640x480 with 2 Axes>"
            ],
            "image/png": "[encoded data removed]"
          },
          "metadata": {}
        }
      ]
    },
    {
      "cell_type": "markdown",
      "source": [
        "**Step 9. Comparative Analysis and Reporting**\n",
        "*   Consolidate and Present Results"
      ],
      "metadata": {
        "id": "Pznfv6DiNgCk"
      }
    },
    {
      "cell_type": "code",
      "source": [
        "results = {\n",
        "        'Model': ['Decision Tree (1K)', 'XGBoost (1K)',\n",
        "                  'Decision Tree (2K)', 'XGBoost (2K)'],\n",
        "        'Accuracy': [accuracy_dt_1000 if df_1000 is not None else np.nan, accuracy_xgb_1000 if df_1000 is not None else np.nan,\n",
        "                     accuracy_dt_2000 if df_2000 is not None else np.nan, accuracy_xgb_2000 if df_2000 is not None else np.nan],\n",
        "        'Precision': [precision_dt_1000 if df_1000 is not None else np.nan, precision_xgb_1000 if df_1000 is not None else np.nan,\n",
        "                      precision_dt_2000 if df_2000 is not None else np.nan, precision_xgb_2000 if df_2000 is not None else np.nan],\n",
        "        'Recall': [recall_dt_1000 if df_1000 is not None else np.nan, recall_xgb_1000 if df_1000 is not None else np.nan,\n",
        "                   recall_dt_2000 if df_2000 is not None else np.nan, recall_xgb_2000 if df_2000 is not None else np.nan],\n",
        "        'F1-Score': [f1_dt_1000 if df_1000 is not None else np.nan, f1_xgb_1000 if df_1000 is not None else np.nan,\n",
        "                     f1_dt_2000 if df_2000 is not None else np.nan, f1_xgb_2000 if df_2000 is not None else np.nan]\n",
        "    }\n",
        "results_df = pd.DataFrame(results)\n",
        "print(\"\\n--- Model Performance Summary ---\")\n",
        "print(results_df.round(4))"
      ],
      "outputs": [
        {
          "output_type": "stream",
          "name": "stdout",
          "text": [
            "\n",
            "--- Model Performance Summary ---\n",
            "                Model  Accuracy  Precision  Recall  F1-Score\n",
            "0  Decision Tree (1K)     0.860     0.7895  0.7595    0.7742\n",
            "1        XGBoost (1K)     0.864     0.8000  0.7595    0.7792\n",
            "2  Decision Tree (2K)     0.870     0.7647  0.8014    0.7826\n",
            "3        XGBoost (2K)     0.896     0.8310  0.8082    0.8194\n"
          ]
        }
      ],
      "execution_count": null,
      "metadata": {
        "id": "WqRcXB8TNgCk",
        "colab": {
          "base_uri": "https://localhost:8080/"
        },
        "outputId": "bd6ac375-64d9-4a1c-90f8-f99bf806a7c4"
      }
    },
    {
      "cell_type": "code",
      "source": [
        "# Visualization (Accuracy Comparison)\n",
        "plt.figure(figsize=(10, 6))\n",
        "sns.barplot(x='Model', y='Accuracy', data=results_df)\n",
        "plt.title('Model Accuracy Across Different Data Sizes')\n",
        "plt.ylim(0, 1)\n",
        "plt.ylabel('Accuracy')\n",
        "plt.xticks(rotation=45, ha='right')\n",
        "plt.tight_layout()\n",
        "plt.show()"
      ],
      "metadata": {
        "colab": {
          "base_uri": "https://localhost:8080/",
          "height": 601
        },
        "id": "Q1Nc9B_-UVjm",
        "outputId": "92ec6f62-83f8-472a-f72d-f098f30d0e06"
      },
      "execution_count": null,
      "outputs": [
        {
          "output_type": "display_data",
          "data": {
            "text/plain": [
              "<Figure size 1000x600 with 1 Axes>"
            ],
            "image/png": "[encoded data removed]"
          },
          "metadata": {}
        }
      ]
    },
    {
      "cell_type": "markdown",
      "source": [
        "**Step 10: Interpreting the Results and Conclusion**\n",
        "\n",
        "Model XGBoost performed best overall since F1-Scores for all results are higher than that of Model Decision Tree. The F1-score is often a good overall metric when you need a balance between minimizing both false positives and false negatives, and when your dataset is imbalanced. In our case, we have 20% of observations has sarcopenia disease.  \n",
        "\n",
        "With smaller data sets (1,000 vs. 2,000), XGBoost performed better. It has better results for all four parameters wise. For 2K data size, it only has Recall parameter slightly less than Decision Tree model.\n",
        "\n",
        "All in all, there is no significant differences between them. The results are very close.\n"
      ],
      "metadata": {
        "id": "CcQ5NMa3NgCl"
      }
    }
  ],
  "metadata": {
    "colab": {
      "provenance": [],
      "include_colab_link": true
    },
    "kernelspec": {
      "display_name": "Python 3",
      "name": "python3"
    }
  },
  "nbformat": 4,
  "nbformat_minor": 0
}