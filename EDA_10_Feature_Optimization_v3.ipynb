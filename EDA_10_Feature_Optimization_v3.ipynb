{
  "cells": [
    {
      "cell_type": "markdown",
      "metadata": {
        "id": "view-in-github",
        "colab_type": "text"
      },
      "source": [
        "<a href=\"https://colab.research.google.com/github/sadullahozcan/sarcopenia-eda-analysis-2/blob/main/EDA_10_Feature_Optimization_v3.ipynb\" target=\"_parent\"><img src=\"https://colab.research.google.com/assets/colab-badge.svg\" alt=\"Open In Colab\"/></a>"
      ]
    },
    {
      "cell_type": "markdown",
      "metadata": {
        "id": "WLlAWhLSOWcn"
      },
      "source": [
        "# **1. Library Imports**"
      ]
    },
    {
      "cell_type": "code",
      "execution_count": null,
      "metadata": {
        "id": "V01fnDiANgCZ"
      },
      "outputs": [],
      "source": [
        "import pandas as pd\n",
        "import numpy as np\n",
        "import seaborn as sns; sns.set()\n",
        "import matplotlib.pyplot as plt\n",
        "%matplotlib inline\n",
        "import io\n",
        "\n",
        "from sklearn import preprocessing\n",
        "from sklearn.model_selection import train_test_split\n",
        "from sklearn.tree import DecisionTreeClassifier\n",
        "from xgboost import XGBClassifier\n",
        "from sklearn.metrics import accuracy_score, precision_score, recall_score, f1_score, confusion_matrix, roc_auc_score, roc_curve"
      ]
    },
    {
      "cell_type": "code",
      "execution_count": null,
      "metadata": {
        "colab": {
          "base_uri": "https://localhost:8080/"
        },
        "id": "U4v5tJ8InLTx",
        "outputId": "ad9a40b8-3645-48fb-d74a-3a3efa3ead95"
      },
      "outputs": [
        {
          "output_type": "stream",
          "name": "stdout",
          "text": [
            "Drive already mounted at /content/drive; to attempt to forcibly remount, call drive.mount(\"/content/drive\", force_remount=True).\n"
          ]
        }
      ],
      "source": [
        "from google import colab\n",
        "colab.drive.mount('/content/drive')"
      ]
    },
    {
      "cell_type": "markdown",
      "metadata": {
        "id": "LyAdBhjQRAa4"
      },
      "source": [
        "# **2. Data Cleaning and Preparation for Modeling**"
      ]
    },
    {
      "cell_type": "code",
      "execution_count": null,
      "metadata": {
        "id": "NNyzDUwJnNKf"
      },
      "outputs": [],
      "source": [
        "df = pd.read_excel('/content/drive/MyDrive/PROJECTS/Sarcopenia_Project/Data_Set_Files_2/sarcopenia-data-set_columns_corrected_12.xlsx')"
      ]
    },
    {
      "cell_type": "code",
      "execution_count": null,
      "metadata": {
        "id": "LqqMKYaCR1zb"
      },
      "outputs": [],
      "source": [
        "df = df.reindex(columns=df.columns.sort_values())"
      ]
    },
    {
      "cell_type": "code",
      "execution_count": null,
      "metadata": {
        "colab": {
          "base_uri": "https://localhost:8080/",
          "height": 1000
        },
        "id": "7cjFSC-JsK60",
        "outputId": "58391844-fe17-48c0-9baa-eb8f495e4cf4"
      },
      "outputs": [
        {
          "output_type": "stream",
          "name": "stdout",
          "text": [
            "Initial DataFrame Info:\n",
            "<class 'pandas.core.frame.DataFrame'>\n",
            "RangeIndex: 5016 entries, 0 to 5015\n",
            "Data columns (total 38 columns):\n",
            " #   Column                            Non-Null Count  Dtype  \n",
            "---  ------                            --------------  -----  \n",
            " 0   AT                                5016 non-null   float64\n",
            " 1   Age_Group_AGE 60-80               5016 non-null   bool   \n",
            " 2   Age_Group_AGE 80-100              5016 non-null   bool   \n",
            " 3   BMI                               5016 non-null   float64\n",
            " 4   CST                               5016 non-null   float64\n",
            " 5   Chronic_Diseases_COPD             5016 non-null   bool   \n",
            " 6   Chronic_Diseases_Dyslipidemia     5016 non-null   bool   \n",
            " 7   Chronic_Diseases_Hipotiroidi      5016 non-null   bool   \n",
            " 8   Chronic_Diseases_KAH              5016 non-null   bool   \n",
            " 9   DM_Type2                          5016 non-null   bool   \n",
            " 10  Education_Primary School          5016 non-null   bool   \n",
            " 11  Education_Secondary School        5016 non-null   bool   \n",
            " 12  Education_University              5016 non-null   bool   \n",
            " 13  Education_illiterate              5016 non-null   bool   \n",
            " 14  Exercise_Status_1-2/week          5016 non-null   bool   \n",
            " 15  Exercise_Status_3-4/week          5016 non-null   bool   \n",
            " 16  Gait_Speed                        5016 non-null   float64\n",
            " 17  Gender_M                          5016 non-null   bool   \n",
            " 18  Grip_Str                          5016 non-null   float64\n",
            " 19  Job_farmer                        5016 non-null   bool   \n",
            " 20  Job_health care personel          5016 non-null   bool   \n",
            " 21  Job_housewife                     5016 non-null   bool   \n",
            " 22  Job_no_job                        5016 non-null   bool   \n",
            " 23  Job_numbers_below_ten             5016 non-null   bool   \n",
            " 24  Job_public officer                5016 non-null   bool   \n",
            " 25  Job_retired                       5016 non-null   bool   \n",
            " 26  Job_security_personel             5016 non-null   bool   \n",
            " 27  Job_self-employment               5016 non-null   bool   \n",
            " 28  Job_teacher                       5016 non-null   bool   \n",
            " 29  Job_white_collar_below_55         5016 non-null   bool   \n",
            " 30  Job_worker                        5016 non-null   bool   \n",
            " 31  OP                                5016 non-null   bool   \n",
            " 32  STAR                              5016 non-null   float64\n",
            " 33  Sarcopenia                        5016 non-null   int64  \n",
            " 34  Total_Number_of_Chronic_Diseases  5016 non-null   int64  \n",
            " 35  Waist_Hip_Ratio                   5016 non-null   float64\n",
            " 36  Work_Status_unknown               5016 non-null   bool   \n",
            " 37  Work_Status_working               5016 non-null   bool   \n",
            "dtypes: bool(29), float64(7), int64(2)\n",
            "memory usage: 494.9 KB\n",
            "\n",
            "Initial DataFrame Description:\n"
          ]
        },
        {
          "output_type": "execute_result",
          "data": {
            "text/plain": [
              "                AT          BMI          CST   Gait_Speed     Grip_Str  \\\n",
              "count  5016.000000  5016.000000  5016.000000  5016.000000  5016.000000   \n",
              "mean     36.154593    29.807131    11.265036     0.988061    26.339872   \n",
              "std       8.295564     5.127624     3.164372     0.279897     8.717444   \n",
              "min      13.100000    16.400000     3.150000     0.205000     3.500000   \n",
              "25%      30.200000    26.300000     9.000000     0.790000    20.000000   \n",
              "50%      35.900000    29.300000    10.800000     0.990000    25.000000   \n",
              "75%      41.600000    32.900000    12.900000     1.180000    31.000000   \n",
              "max      58.700000    42.800000    18.750000     1.765000    47.500000   \n",
              "\n",
              "              STAR   Sarcopenia  Total_Number_of_Chronic_Diseases  \\\n",
              "count  5016.000000  5016.000000                       5016.000000   \n",
              "mean      1.237544     0.203150                          1.850478   \n",
              "std       0.311012     0.402383                          1.667103   \n",
              "min       0.380000     0.000000                          0.000000   \n",
              "25%       1.010000     0.000000                          0.000000   \n",
              "50%       1.220000     0.000000                          2.000000   \n",
              "75%       1.430000     0.000000                          3.000000   \n",
              "max       2.060000     1.000000                          6.000000   \n",
              "\n",
              "       Waist_Hip_Ratio  \n",
              "count      5016.000000  \n",
              "mean          0.892785  \n",
              "std           0.092109  \n",
              "min           0.660000  \n",
              "25%           0.840000  \n",
              "50%           0.895000  \n",
              "75%           0.950000  \n",
              "max           1.120000  "
            ],
            "text/html": [
              "\n",
              "  <div id=\"df-76a9bd8c-dcbd-433c-865a-fda1f9566630\" class=\"colab-df-container\">\n",
              "    <div>\n",
              "<style scoped>\n",
              "    .dataframe tbody tr th:only-of-type {\n",
              "        vertical-align: middle;\n",
              "    }\n",
              "\n",
              "    .dataframe tbody tr th {\n",
              "        vertical-align: top;\n",
              "    }\n",
              "\n",
              "    .dataframe thead th {\n",
              "        text-align: right;\n",
              "    }\n",
              "</style>\n",
              "<table border=\"1\" class=\"dataframe\">\n",
              "  <thead>\n",
              "    <tr style=\"text-align: right;\">\n",
              "      <th></th>\n",
              "      <th>AT</th>\n",
              "      <th>BMI</th>\n",
              "      <th>CST</th>\n",
              "      <th>Gait_Speed</th>\n",
              "      <th>Grip_Str</th>\n",
              "      <th>STAR</th>\n",
              "      <th>Sarcopenia</th>\n",
              "      <th>Total_Number_of_Chronic_Diseases</th>\n",
              "      <th>Waist_Hip_Ratio</th>\n",
              "    </tr>\n",
              "  </thead>\n",
              "  <tbody>\n",
              "    <tr>\n",
              "      <th>count</th>\n",
              "      <td>5016.000000</td>\n",
              "      <td>5016.000000</td>\n",
              "      <td>5016.000000</td>\n",
              "      <td>5016.000000</td>\n",
              "      <td>5016.000000</td>\n",
              "      <td>5016.000000</td>\n",
              "      <td>5016.000000</td>\n",
              "      <td>5016.000000</td>\n",
              "      <td>5016.000000</td>\n",
              "    </tr>\n",
              "    <tr>\n",
              "      <th>mean</th>\n",
              "      <td>36.154593</td>\n",
              "      <td>29.807131</td>\n",
              "      <td>11.265036</td>\n",
              "      <td>0.988061</td>\n",
              "      <td>26.339872</td>\n",
              "      <td>1.237544</td>\n",
              "      <td>0.203150</td>\n",
              "      <td>1.850478</td>\n",
              "      <td>0.892785</td>\n",
              "    </tr>\n",
              "    <tr>\n",
              "      <th>std</th>\n",
              "      <td>8.295564</td>\n",
              "      <td>5.127624</td>\n",
              "      <td>3.164372</td>\n",
              "      <td>0.279897</td>\n",
              "      <td>8.717444</td>\n",
              "      <td>0.311012</td>\n",
              "      <td>0.402383</td>\n",
              "      <td>1.667103</td>\n",
              "      <td>0.092109</td>\n",
              "    </tr>\n",
              "    <tr>\n",
              "      <th>min</th>\n",
              "      <td>13.100000</td>\n",
              "      <td>16.400000</td>\n",
              "      <td>3.150000</td>\n",
              "      <td>0.205000</td>\n",
              "      <td>3.500000</td>\n",
              "      <td>0.380000</td>\n",
              "      <td>0.000000</td>\n",
              "      <td>0.000000</td>\n",
              "      <td>0.660000</td>\n",
              "    </tr>\n",
              "    <tr>\n",
              "      <th>25%</th>\n",
              "      <td>30.200000</td>\n",
              "      <td>26.300000</td>\n",
              "      <td>9.000000</td>\n",
              "      <td>0.790000</td>\n",
              "      <td>20.000000</td>\n",
              "      <td>1.010000</td>\n",
              "      <td>0.000000</td>\n",
              "      <td>0.000000</td>\n",
              "      <td>0.840000</td>\n",
              "    </tr>\n",
              "    <tr>\n",
              "      <th>50%</th>\n",
              "      <td>35.900000</td>\n",
              "      <td>29.300000</td>\n",
              "      <td>10.800000</td>\n",
              "      <td>0.990000</td>\n",
              "      <td>25.000000</td>\n",
              "      <td>1.220000</td>\n",
              "      <td>0.000000</td>\n",
              "      <td>2.000000</td>\n",
              "      <td>0.895000</td>\n",
              "    </tr>\n",
              "    <tr>\n",
              "      <th>75%</th>\n",
              "      <td>41.600000</td>\n",
              "      <td>32.900000</td>\n",
              "      <td>12.900000</td>\n",
              "      <td>1.180000</td>\n",
              "      <td>31.000000</td>\n",
              "      <td>1.430000</td>\n",
              "      <td>0.000000</td>\n",
              "      <td>3.000000</td>\n",
              "      <td>0.950000</td>\n",
              "    </tr>\n",
              "    <tr>\n",
              "      <th>max</th>\n",
              "      <td>58.700000</td>\n",
              "      <td>42.800000</td>\n",
              "      <td>18.750000</td>\n",
              "      <td>1.765000</td>\n",
              "      <td>47.500000</td>\n",
              "      <td>2.060000</td>\n",
              "      <td>1.000000</td>\n",
              "      <td>6.000000</td>\n",
              "      <td>1.120000</td>\n",
              "    </tr>\n",
              "  </tbody>\n",
              "</table>\n",
              "</div>\n",
              "    <div class=\"colab-df-buttons\">\n",
              "\n",
              "  <div class=\"colab-df-container\">\n",
              "    <button class=\"colab-df-convert\" onclick=\"convertToInteractive('df-76a9bd8c-dcbd-433c-865a-fda1f9566630')\"\n",
              "            title=\"Convert this dataframe to an interactive table.\"\n",
              "            style=\"display:none;\">\n",
              "\n",
              "  <svg xmlns=\"http://www.w3.org/2000/svg\" height=\"24px\" viewBox=\"0 -960 960 960\">\n",
              "    <path d=\"M120-120v-720h720v720H120Zm60-500h600v-160H180v160Zm220 220h160v-160H400v160Zm0 220h160v-160H400v160ZM180-400h160v-160H180v160Zm440 0h160v-160H620v160ZM180-180h160v-160H180v160Zm440 0h160v-160H620v160Z\"/>\n",
              "  </svg>\n",
              "    </button>\n",
              "\n",
              "  <style>\n",
              "    .colab-df-container {\n",
              "      display:flex;\n",
              "      gap: 12px;\n",
              "    }\n",
              "\n",
              "    .colab-df-convert {\n",
              "      background-color: #E8F0FE;\n",
              "      border: none;\n",
              "      border-radius: 50%;\n",
              "      cursor: pointer;\n",
              "      display: none;\n",
              "      fill: #1967D2;\n",
              "      height: 32px;\n",
              "      padding: 0 0 0 0;\n",
              "      width: 32px;\n",
              "    }\n",
              "\n",
              "    .colab-df-convert:hover {\n",
              "      background-color: #E2EBFA;\n",
              "      box-shadow: 0px 1px 2px rgba(60, 64, 67, 0.3), 0px 1px 3px 1px rgba(60, 64, 67, 0.15);\n",
              "      fill: #174EA6;\n",
              "    }\n",
              "\n",
              "    .colab-df-buttons div {\n",
              "      margin-bottom: 4px;\n",
              "    }\n",
              "\n",
              "    [theme=dark] .colab-df-convert {\n",
              "      background-color: #3B4455;\n",
              "      fill: #D2E3FC;\n",
              "    }\n",
              "\n",
              "    [theme=dark] .colab-df-convert:hover {\n",
              "      background-color: #434B5C;\n",
              "      box-shadow: 0px 1px 3px 1px rgba(0, 0, 0, 0.15);\n",
              "      filter: drop-shadow(0px 1px 2px rgba(0, 0, 0, 0.3));\n",
              "      fill: #FFFFFF;\n",
              "    }\n",
              "  </style>\n",
              "\n",
              "    <script>\n",
              "      const buttonEl =\n",
              "        document.querySelector('#df-76a9bd8c-dcbd-433c-865a-fda1f9566630 button.colab-df-convert');\n",
              "      buttonEl.style.display =\n",
              "        google.colab.kernel.accessAllowed ? 'block' : 'none';\n",
              "\n",
              "      async function convertToInteractive(key) {\n",
              "        const element = document.querySelector('#df-76a9bd8c-dcbd-433c-865a-fda1f9566630');\n",
              "        const dataTable =\n",
              "          await google.colab.kernel.invokeFunction('convertToInteractive',\n",
              "                                                    [key], {});\n",
              "        if (!dataTable) return;\n",
              "\n",
              "        const docLinkHtml = 'Like what you see? Visit the ' +\n",
              "          '<a target=\"_blank\" href=https://colab.research.google.com/notebooks/data_table.ipynb>data table notebook</a>'\n",
              "          + ' to learn more about interactive tables.';\n",
              "        element.innerHTML = '';\n",
              "        dataTable['output_type'] = 'display_data';\n",
              "        await google.colab.output.renderOutput(dataTable, element);\n",
              "        const docLink = document.createElement('div');\n",
              "        docLink.innerHTML = docLinkHtml;\n",
              "        element.appendChild(docLink);\n",
              "      }\n",
              "    </script>\n",
              "  </div>\n",
              "\n",
              "\n",
              "    <div id=\"df-de7b0f08-343e-4fa5-ad11-a80630c60b30\">\n",
              "      <button class=\"colab-df-quickchart\" onclick=\"quickchart('df-de7b0f08-343e-4fa5-ad11-a80630c60b30')\"\n",
              "                title=\"Suggest charts\"\n",
              "                style=\"display:none;\">\n",
              "\n",
              "<svg xmlns=\"http://www.w3.org/2000/svg\" height=\"24px\"viewBox=\"0 0 24 24\"\n",
              "     width=\"24px\">\n",
              "    <g>\n",
              "        <path d=\"M19 3H5c-1.1 0-2 .9-2 2v14c0 1.1.9 2 2 2h14c1.1 0 2-.9 2-2V5c0-1.1-.9-2-2-2zM9 17H7v-7h2v7zm4 0h-2V7h2v10zm4 0h-2v-4h2v4z\"/>\n",
              "    </g>\n",
              "</svg>\n",
              "      </button>\n",
              "\n",
              "<style>\n",
              "  .colab-df-quickchart {\n",
              "      --bg-color: #E8F0FE;\n",
              "      --fill-color: #1967D2;\n",
              "      --hover-bg-color: #E2EBFA;\n",
              "      --hover-fill-color: #174EA6;\n",
              "      --disabled-fill-color: #AAA;\n",
              "      --disabled-bg-color: #DDD;\n",
              "  }\n",
              "\n",
              "  [theme=dark] .colab-df-quickchart {\n",
              "      --bg-color: #3B4455;\n",
              "      --fill-color: #D2E3FC;\n",
              "      --hover-bg-color: #434B5C;\n",
              "      --hover-fill-color: #FFFFFF;\n",
              "      --disabled-bg-color: #3B4455;\n",
              "      --disabled-fill-color: #666;\n",
              "  }\n",
              "\n",
              "  .colab-df-quickchart {\n",
              "    background-color: var(--bg-color);\n",
              "    border: none;\n",
              "    border-radius: 50%;\n",
              "    cursor: pointer;\n",
              "    display: none;\n",
              "    fill: var(--fill-color);\n",
              "    height: 32px;\n",
              "    padding: 0;\n",
              "    width: 32px;\n",
              "  }\n",
              "\n",
              "  .colab-df-quickchart:hover {\n",
              "    background-color: var(--hover-bg-color);\n",
              "    box-shadow: 0 1px 2px rgba(60, 64, 67, 0.3), 0 1px 3px 1px rgba(60, 64, 67, 0.15);\n",
              "    fill: var(--button-hover-fill-color);\n",
              "  }\n",
              "\n",
              "  .colab-df-quickchart-complete:disabled,\n",
              "  .colab-df-quickchart-complete:disabled:hover {\n",
              "    background-color: var(--disabled-bg-color);\n",
              "    fill: var(--disabled-fill-color);\n",
              "    box-shadow: none;\n",
              "  }\n",
              "\n",
              "  .colab-df-spinner {\n",
              "    border: 2px solid var(--fill-color);\n",
              "    border-color: transparent;\n",
              "    border-bottom-color: var(--fill-color);\n",
              "    animation:\n",
              "      spin 1s steps(1) infinite;\n",
              "  }\n",
              "\n",
              "  @keyframes spin {\n",
              "    0% {\n",
              "      border-color: transparent;\n",
              "      border-bottom-color: var(--fill-color);\n",
              "      border-left-color: var(--fill-color);\n",
              "    }\n",
              "    20% {\n",
              "      border-color: transparent;\n",
              "      border-left-color: var(--fill-color);\n",
              "      border-top-color: var(--fill-color);\n",
              "    }\n",
              "    30% {\n",
              "      border-color: transparent;\n",
              "      border-left-color: var(--fill-color);\n",
              "      border-top-color: var(--fill-color);\n",
              "      border-right-color: var(--fill-color);\n",
              "    }\n",
              "    40% {\n",
              "      border-color: transparent;\n",
              "      border-right-color: var(--fill-color);\n",
              "      border-top-color: var(--fill-color);\n",
              "    }\n",
              "    60% {\n",
              "      border-color: transparent;\n",
              "      border-right-color: var(--fill-color);\n",
              "    }\n",
              "    80% {\n",
              "      border-color: transparent;\n",
              "      border-right-color: var(--fill-color);\n",
              "      border-bottom-color: var(--fill-color);\n",
              "    }\n",
              "    90% {\n",
              "      border-color: transparent;\n",
              "      border-bottom-color: var(--fill-color);\n",
              "    }\n",
              "  }\n",
              "</style>\n",
              "\n",
              "      <script>\n",
              "        async function quickchart(key) {\n",
              "          const quickchartButtonEl =\n",
              "            document.querySelector('#' + key + ' button');\n",
              "          quickchartButtonEl.disabled = true;  // To prevent multiple clicks.\n",
              "          quickchartButtonEl.classList.add('colab-df-spinner');\n",
              "          try {\n",
              "            const charts = await google.colab.kernel.invokeFunction(\n",
              "                'suggestCharts', [key], {});\n",
              "          } catch (error) {\n",
              "            console.error('Error during call to suggestCharts:', error);\n",
              "          }\n",
              "          quickchartButtonEl.classList.remove('colab-df-spinner');\n",
              "          quickchartButtonEl.classList.add('colab-df-quickchart-complete');\n",
              "        }\n",
              "        (() => {\n",
              "          let quickchartButtonEl =\n",
              "            document.querySelector('#df-de7b0f08-343e-4fa5-ad11-a80630c60b30 button');\n",
              "          quickchartButtonEl.style.display =\n",
              "            google.colab.kernel.accessAllowed ? 'block' : 'none';\n",
              "        })();\n",
              "      </script>\n",
              "    </div>\n",
              "\n",
              "    </div>\n",
              "  </div>\n"
            ],
            "application/vnd.google.colaboratory.intrinsic+json": {
              "type": "dataframe",
              "summary": "{\n  \"name\": \"df\",\n  \"rows\": 8,\n  \"fields\": [\n    {\n      \"column\": \"AT\",\n      \"properties\": {\n        \"dtype\": \"number\",\n        \"std\": 1762.1839524018842,\n        \"min\": 8.295563926069914,\n        \"max\": 5016.0,\n        \"num_unique_values\": 8,\n        \"samples\": [\n          36.154593301435405,\n          35.9,\n          5016.0\n        ],\n        \"semantic_type\": \"\",\n        \"description\": \"\"\n      }\n    },\n    {\n      \"column\": \"BMI\",\n      \"properties\": {\n        \"dtype\": \"number\",\n        \"std\": 1764.2351128054274,\n        \"min\": 5.127624067519309,\n        \"max\": 5016.0,\n        \"num_unique_values\": 8,\n        \"samples\": [\n          29.807131180223287,\n          29.3,\n          5016.0\n        ],\n        \"semantic_type\": \"\",\n        \"description\": \"\"\n      }\n    },\n    {\n      \"column\": \"CST\",\n      \"properties\": {\n        \"dtype\": \"number\",\n        \"std\": 1769.9446294679772,\n        \"min\": 3.15,\n        \"max\": 5016.0,\n        \"num_unique_values\": 8,\n        \"samples\": [\n          11.265035885167464,\n          10.8,\n          5016.0\n        ],\n        \"semantic_type\": \"\",\n        \"description\": \"\"\n      }\n    },\n    {\n      \"column\": \"Gait_Speed\",\n      \"properties\": {\n        \"dtype\": \"number\",\n        \"std\": 1773.1108323497479,\n        \"min\": 0.2050000000000002,\n        \"max\": 5016.0,\n        \"num_unique_values\": 8,\n        \"samples\": [\n          0.9880612041467304,\n          0.99,\n          5016.0\n        ],\n        \"semantic_type\": \"\",\n        \"description\": \"\"\n      }\n    },\n    {\n      \"column\": \"Grip_Str\",\n      \"properties\": {\n        \"dtype\": \"number\",\n        \"std\": 1765.29016579151,\n        \"min\": 3.5,\n        \"max\": 5016.0,\n        \"num_unique_values\": 8,\n        \"samples\": [\n          26.33987240829346,\n          25.0,\n          5016.0\n        ],\n        \"semantic_type\": \"\",\n        \"description\": \"\"\n      }\n    },\n    {\n      \"column\": \"STAR\",\n      \"properties\": {\n        \"dtype\": \"number\",\n        \"std\": 1773.0375859560509,\n        \"min\": 0.31101164502338846,\n        \"max\": 5016.0,\n        \"num_unique_values\": 8,\n        \"samples\": [\n          1.2375438596491228,\n          1.22,\n          5016.0\n        ],\n        \"semantic_type\": \"\",\n        \"description\": \"\"\n      }\n    },\n    {\n      \"column\": \"Sarcopenia\",\n      \"properties\": {\n        \"dtype\": \"number\",\n        \"std\": 1773.3427491735047,\n        \"min\": 0.0,\n        \"max\": 5016.0,\n        \"num_unique_values\": 5,\n        \"samples\": [\n          0.2031499202551834,\n          1.0,\n          0.40238328658632855\n        ],\n        \"semantic_type\": \"\",\n        \"description\": \"\"\n      }\n    },\n    {\n      \"column\": \"Total_Number_of_Chronic_Diseases\",\n      \"properties\": {\n        \"dtype\": \"number\",\n        \"std\": 1772.6915697684422,\n        \"min\": 0.0,\n        \"max\": 5016.0,\n        \"num_unique_values\": 7,\n        \"samples\": [\n          5016.0,\n          1.8504784688995215,\n          3.0\n        ],\n        \"semantic_type\": \"\",\n        \"description\": \"\"\n      }\n    },\n    {\n      \"column\": \"Waist_Hip_Ratio\",\n      \"properties\": {\n        \"dtype\": \"number\",\n        \"std\": 1773.1485726279454,\n        \"min\": 0.09210942420204139,\n        \"max\": 5016.0,\n        \"num_unique_values\": 8,\n        \"samples\": [\n          0.8927850877192982,\n          0.895,\n          5016.0\n        ],\n        \"semantic_type\": \"\",\n        \"description\": \"\"\n      }\n    }\n  ]\n}"
            }
          },
          "metadata": {},
          "execution_count": 7
        }
      ],
      "source": [
        "print(\"Initial DataFrame Info:\")\n",
        "df.info()\n",
        "print(\"\\nInitial DataFrame Description:\")\n",
        "df.describe()"
      ]
    },
    {
      "cell_type": "code",
      "execution_count": null,
      "metadata": {
        "colab": {
          "base_uri": "https://localhost:8080/"
        },
        "id": "PPi9jhbpPrw5",
        "outputId": "1cb3b0c4-fd95-4acd-9268-83595db511e3"
      },
      "outputs": [
        {
          "output_type": "execute_result",
          "data": {
            "text/plain": [
              "Index(['AT', 'Age_Group_AGE 60-80', 'Age_Group_AGE 80-100', 'BMI', 'CST',\n",
              "       'Chronic_Diseases_COPD', 'Chronic_Diseases_Dyslipidemia',\n",
              "       'Chronic_Diseases_Hipotiroidi', 'Chronic_Diseases_KAH', 'DM_Type2',\n",
              "       'Education_Primary School', 'Education_Secondary School',\n",
              "       'Education_University', 'Education_illiterate',\n",
              "       'Exercise_Status_1-2/week', 'Exercise_Status_3-4/week', 'Gait_Speed',\n",
              "       'Gender_M', 'Grip_Str', 'Job_farmer', 'Job_health care personel',\n",
              "       'Job_housewife', 'Job_no_job', 'Job_numbers_below_ten',\n",
              "       'Job_public officer', 'Job_retired', 'Job_security_personel',\n",
              "       'Job_self-employment', 'Job_teacher', 'Job_white_collar_below_55',\n",
              "       'Job_worker', 'OP', 'STAR', 'Sarcopenia',\n",
              "       'Total_Number_of_Chronic_Diseases', 'Waist_Hip_Ratio',\n",
              "       'Work_Status_unknown', 'Work_Status_working'],\n",
              "      dtype='object')"
            ]
          },
          "metadata": {},
          "execution_count": 8
        }
      ],
      "source": [
        "df.columns"
      ]
    },
    {
      "cell_type": "markdown",
      "metadata": {
        "id": "vKJ2ypIMSHnO"
      },
      "source": [
        "**Let's convert all boolean columns to integers (0 or 1) ensures that all features are in a numerical format that is suitable for machine learning algorithms.**"
      ]
    },
    {
      "cell_type": "code",
      "execution_count": null,
      "metadata": {
        "colab": {
          "base_uri": "https://localhost:8080/",
          "height": 1000
        },
        "id": "SE0sBDY0R_pv",
        "outputId": "b962c976-e432-44a7-a5e5-0851d406de49"
      },
      "outputs": [
        {
          "output_type": "stream",
          "name": "stdout",
          "text": [
            "\n",
            "DataFrame Info after converting bool to int:\n",
            "<class 'pandas.core.frame.DataFrame'>\n",
            "RangeIndex: 5016 entries, 0 to 5015\n",
            "Data columns (total 38 columns):\n",
            " #   Column                            Non-Null Count  Dtype  \n",
            "---  ------                            --------------  -----  \n",
            " 0   AT                                5016 non-null   float64\n",
            " 1   Age_Group_AGE 60-80               5016 non-null   int64  \n",
            " 2   Age_Group_AGE 80-100              5016 non-null   int64  \n",
            " 3   BMI                               5016 non-null   float64\n",
            " 4   CST                               5016 non-null   float64\n",
            " 5   Chronic_Diseases_COPD             5016 non-null   int64  \n",
            " 6   Chronic_Diseases_Dyslipidemia     5016 non-null   int64  \n",
            " 7   Chronic_Diseases_Hipotiroidi      5016 non-null   int64  \n",
            " 8   Chronic_Diseases_KAH              5016 non-null   int64  \n",
            " 9   DM_Type2                          5016 non-null   int64  \n",
            " 10  Education_Primary School          5016 non-null   int64  \n",
            " 11  Education_Secondary School        5016 non-null   int64  \n",
            " 12  Education_University              5016 non-null   int64  \n",
            " 13  Education_illiterate              5016 non-null   int64  \n",
            " 14  Exercise_Status_1-2/week          5016 non-null   int64  \n",
            " 15  Exercise_Status_3-4/week          5016 non-null   int64  \n",
            " 16  Gait_Speed                        5016 non-null   float64\n",
            " 17  Gender_M                          5016 non-null   int64  \n",
            " 18  Grip_Str                          5016 non-null   float64\n",
            " 19  Job_farmer                        5016 non-null   int64  \n",
            " 20  Job_health care personel          5016 non-null   int64  \n",
            " 21  Job_housewife                     5016 non-null   int64  \n",
            " 22  Job_no_job                        5016 non-null   int64  \n",
            " 23  Job_numbers_below_ten             5016 non-null   int64  \n",
            " 24  Job_public officer                5016 non-null   int64  \n",
            " 25  Job_retired                       5016 non-null   int64  \n",
            " 26  Job_security_personel             5016 non-null   int64  \n",
            " 27  Job_self-employment               5016 non-null   int64  \n",
            " 28  Job_teacher                       5016 non-null   int64  \n",
            " 29  Job_white_collar_below_55         5016 non-null   int64  \n",
            " 30  Job_worker                        5016 non-null   int64  \n",
            " 31  OP                                5016 non-null   int64  \n",
            " 32  STAR                              5016 non-null   float64\n",
            " 33  Sarcopenia                        5016 non-null   int64  \n",
            " 34  Total_Number_of_Chronic_Diseases  5016 non-null   int64  \n",
            " 35  Waist_Hip_Ratio                   5016 non-null   float64\n",
            " 36  Work_Status_unknown               5016 non-null   int64  \n",
            " 37  Work_Status_working               5016 non-null   int64  \n",
            "dtypes: float64(7), int64(31)\n",
            "memory usage: 1.5 MB\n",
            "\n",
            "DataFrame Head after converting bool to int:\n"
          ]
        },
        {
          "output_type": "execute_result",
          "data": {
            "text/plain": [
              "     AT  Age_Group_AGE 60-80  Age_Group_AGE 80-100   BMI   CST  \\\n",
              "0  50.2                    1                     0  27.8  12.5   \n",
              "1  49.0                    1                     0  35.5  12.1   \n",
              "2  37.3                    1                     0  31.2   8.7   \n",
              "3  29.5                    1                     0  26.6   8.3   \n",
              "4  39.5                    1                     0  31.3  11.0   \n",
              "\n",
              "   Chronic_Diseases_COPD  Chronic_Diseases_Dyslipidemia  \\\n",
              "0                      0                              0   \n",
              "1                      0                              0   \n",
              "2                      0                              0   \n",
              "3                      0                              0   \n",
              "4                      0                              0   \n",
              "\n",
              "   Chronic_Diseases_Hipotiroidi  Chronic_Diseases_KAH  DM_Type2  ...  \\\n",
              "0                             0                     0         1  ...   \n",
              "1                             0                     0         0  ...   \n",
              "2                             0                     0         0  ...   \n",
              "3                             0                     0         0  ...   \n",
              "4                             0                     0         0  ...   \n",
              "\n",
              "   Job_teacher  Job_white_collar_below_55  Job_worker  OP  STAR  Sarcopenia  \\\n",
              "0            0                          0           0   1  1.81           0   \n",
              "1            0                          0           0   0  1.38           1   \n",
              "2            0                          0           0   0  1.20           0   \n",
              "3            0                          1           0   1  1.11           0   \n",
              "4            1                          0           0   0  1.26           0   \n",
              "\n",
              "   Total_Number_of_Chronic_Diseases  Waist_Hip_Ratio  Work_Status_unknown  \\\n",
              "0                                 3             1.00                    0   \n",
              "1                                 0             1.12                    0   \n",
              "2                                 0             0.96                    0   \n",
              "3                                 4             1.03                    0   \n",
              "4                                 3             0.97                    0   \n",
              "\n",
              "   Work_Status_working  \n",
              "0                    0  \n",
              "1                    0  \n",
              "2                    0  \n",
              "3                    0  \n",
              "4                    0  \n",
              "\n",
              "[5 rows x 38 columns]"
            ],
            "text/html": [
              "\n",
              "  <div id=\"df-61546b5a-326b-48cc-9603-83933ebc03dc\" class=\"colab-df-container\">\n",
              "    <div>\n",
              "<style scoped>\n",
              "    .dataframe tbody tr th:only-of-type {\n",
              "        vertical-align: middle;\n",
              "    }\n",
              "\n",
              "    .dataframe tbody tr th {\n",
              "        vertical-align: top;\n",
              "    }\n",
              "\n",
              "    .dataframe thead th {\n",
              "        text-align: right;\n",
              "    }\n",
              "</style>\n",
              "<table border=\"1\" class=\"dataframe\">\n",
              "  <thead>\n",
              "    <tr style=\"text-align: right;\">\n",
              "      <th></th>\n",
              "      <th>AT</th>\n",
              "      <th>Age_Group_AGE 60-80</th>\n",
              "      <th>Age_Group_AGE 80-100</th>\n",
              "      <th>BMI</th>\n",
              "      <th>CST</th>\n",
              "      <th>Chronic_Diseases_COPD</th>\n",
              "      <th>Chronic_Diseases_Dyslipidemia</th>\n",
              "      <th>Chronic_Diseases_Hipotiroidi</th>\n",
              "      <th>Chronic_Diseases_KAH</th>\n",
              "      <th>DM_Type2</th>\n",
              "      <th>...</th>\n",
              "      <th>Job_teacher</th>\n",
              "      <th>Job_white_collar_below_55</th>\n",
              "      <th>Job_worker</th>\n",
              "      <th>OP</th>\n",
              "      <th>STAR</th>\n",
              "      <th>Sarcopenia</th>\n",
              "      <th>Total_Number_of_Chronic_Diseases</th>\n",
              "      <th>Waist_Hip_Ratio</th>\n",
              "      <th>Work_Status_unknown</th>\n",
              "      <th>Work_Status_working</th>\n",
              "    </tr>\n",
              "  </thead>\n",
              "  <tbody>\n",
              "    <tr>\n",
              "      <th>0</th>\n",
              "      <td>50.2</td>\n",
              "      <td>1</td>\n",
              "      <td>0</td>\n",
              "      <td>27.8</td>\n",
              "      <td>12.5</td>\n",
              "      <td>0</td>\n",
              "      <td>0</td>\n",
              "      <td>0</td>\n",
              "      <td>0</td>\n",
              "      <td>1</td>\n",
              "      <td>...</td>\n",
              "      <td>0</td>\n",
              "      <td>0</td>\n",
              "      <td>0</td>\n",
              "      <td>1</td>\n",
              "      <td>1.81</td>\n",
              "      <td>0</td>\n",
              "      <td>3</td>\n",
              "      <td>1.00</td>\n",
              "      <td>0</td>\n",
              "      <td>0</td>\n",
              "    </tr>\n",
              "    <tr>\n",
              "      <th>1</th>\n",
              "      <td>49.0</td>\n",
              "      <td>1</td>\n",
              "      <td>0</td>\n",
              "      <td>35.5</td>\n",
              "      <td>12.1</td>\n",
              "      <td>0</td>\n",
              "      <td>0</td>\n",
              "      <td>0</td>\n",
              "      <td>0</td>\n",
              "      <td>0</td>\n",
              "      <td>...</td>\n",
              "      <td>0</td>\n",
              "      <td>0</td>\n",
              "      <td>0</td>\n",
              "      <td>0</td>\n",
              "      <td>1.38</td>\n",
              "      <td>1</td>\n",
              "      <td>0</td>\n",
              "      <td>1.12</td>\n",
              "      <td>0</td>\n",
              "      <td>0</td>\n",
              "    </tr>\n",
              "    <tr>\n",
              "      <th>2</th>\n",
              "      <td>37.3</td>\n",
              "      <td>1</td>\n",
              "      <td>0</td>\n",
              "      <td>31.2</td>\n",
              "      <td>8.7</td>\n",
              "      <td>0</td>\n",
              "      <td>0</td>\n",
              "      <td>0</td>\n",
              "      <td>0</td>\n",
              "      <td>0</td>\n",
              "      <td>...</td>\n",
              "      <td>0</td>\n",
              "      <td>0</td>\n",
              "      <td>0</td>\n",
              "      <td>0</td>\n",
              "      <td>1.20</td>\n",
              "      <td>0</td>\n",
              "      <td>0</td>\n",
              "      <td>0.96</td>\n",
              "      <td>0</td>\n",
              "      <td>0</td>\n",
              "    </tr>\n",
              "    <tr>\n",
              "      <th>3</th>\n",
              "      <td>29.5</td>\n",
              "      <td>1</td>\n",
              "      <td>0</td>\n",
              "      <td>26.6</td>\n",
              "      <td>8.3</td>\n",
              "      <td>0</td>\n",
              "      <td>0</td>\n",
              "      <td>0</td>\n",
              "      <td>0</td>\n",
              "      <td>0</td>\n",
              "      <td>...</td>\n",
              "      <td>0</td>\n",
              "      <td>1</td>\n",
              "      <td>0</td>\n",
              "      <td>1</td>\n",
              "      <td>1.11</td>\n",
              "      <td>0</td>\n",
              "      <td>4</td>\n",
              "      <td>1.03</td>\n",
              "      <td>0</td>\n",
              "      <td>0</td>\n",
              "    </tr>\n",
              "    <tr>\n",
              "      <th>4</th>\n",
              "      <td>39.5</td>\n",
              "      <td>1</td>\n",
              "      <td>0</td>\n",
              "      <td>31.3</td>\n",
              "      <td>11.0</td>\n",
              "      <td>0</td>\n",
              "      <td>0</td>\n",
              "      <td>0</td>\n",
              "      <td>0</td>\n",
              "      <td>0</td>\n",
              "      <td>...</td>\n",
              "      <td>1</td>\n",
              "      <td>0</td>\n",
              "      <td>0</td>\n",
              "      <td>0</td>\n",
              "      <td>1.26</td>\n",
              "      <td>0</td>\n",
              "      <td>3</td>\n",
              "      <td>0.97</td>\n",
              "      <td>0</td>\n",
              "      <td>0</td>\n",
              "    </tr>\n",
              "  </tbody>\n",
              "</table>\n",
              "<p>5 rows × 38 columns</p>\n",
              "</div>\n",
              "    <div class=\"colab-df-buttons\">\n",
              "\n",
              "  <div class=\"colab-df-container\">\n",
              "    <button class=\"colab-df-convert\" onclick=\"convertToInteractive('df-61546b5a-326b-48cc-9603-83933ebc03dc')\"\n",
              "            title=\"Convert this dataframe to an interactive table.\"\n",
              "            style=\"display:none;\">\n",
              "\n",
              "  <svg xmlns=\"http://www.w3.org/2000/svg\" height=\"24px\" viewBox=\"0 -960 960 960\">\n",
              "    <path d=\"M120-120v-720h720v720H120Zm60-500h600v-160H180v160Zm220 220h160v-160H400v160Zm0 220h160v-160H400v160ZM180-400h160v-160H180v160Zm440 0h160v-160H620v160ZM180-180h160v-160H180v160Zm440 0h160v-160H620v160Z\"/>\n",
              "  </svg>\n",
              "    </button>\n",
              "\n",
              "  <style>\n",
              "    .colab-df-container {\n",
              "      display:flex;\n",
              "      gap: 12px;\n",
              "    }\n",
              "\n",
              "    .colab-df-convert {\n",
              "      background-color: #E8F0FE;\n",
              "      border: none;\n",
              "      border-radius: 50%;\n",
              "      cursor: pointer;\n",
              "      display: none;\n",
              "      fill: #1967D2;\n",
              "      height: 32px;\n",
              "      padding: 0 0 0 0;\n",
              "      width: 32px;\n",
              "    }\n",
              "\n",
              "    .colab-df-convert:hover {\n",
              "      background-color: #E2EBFA;\n",
              "      box-shadow: 0px 1px 2px rgba(60, 64, 67, 0.3), 0px 1px 3px 1px rgba(60, 64, 67, 0.15);\n",
              "      fill: #174EA6;\n",
              "    }\n",
              "\n",
              "    .colab-df-buttons div {\n",
              "      margin-bottom: 4px;\n",
              "    }\n",
              "\n",
              "    [theme=dark] .colab-df-convert {\n",
              "      background-color: #3B4455;\n",
              "      fill: #D2E3FC;\n",
              "    }\n",
              "\n",
              "    [theme=dark] .colab-df-convert:hover {\n",
              "      background-color: #434B5C;\n",
              "      box-shadow: 0px 1px 3px 1px rgba(0, 0, 0, 0.15);\n",
              "      filter: drop-shadow(0px 1px 2px rgba(0, 0, 0, 0.3));\n",
              "      fill: #FFFFFF;\n",
              "    }\n",
              "  </style>\n",
              "\n",
              "    <script>\n",
              "      const buttonEl =\n",
              "        document.querySelector('#df-61546b5a-326b-48cc-9603-83933ebc03dc button.colab-df-convert');\n",
              "      buttonEl.style.display =\n",
              "        google.colab.kernel.accessAllowed ? 'block' : 'none';\n",
              "\n",
              "      async function convertToInteractive(key) {\n",
              "        const element = document.querySelector('#df-61546b5a-326b-48cc-9603-83933ebc03dc');\n",
              "        const dataTable =\n",
              "          await google.colab.kernel.invokeFunction('convertToInteractive',\n",
              "                                                    [key], {});\n",
              "        if (!dataTable) return;\n",
              "\n",
              "        const docLinkHtml = 'Like what you see? Visit the ' +\n",
              "          '<a target=\"_blank\" href=https://colab.research.google.com/notebooks/data_table.ipynb>data table notebook</a>'\n",
              "          + ' to learn more about interactive tables.';\n",
              "        element.innerHTML = '';\n",
              "        dataTable['output_type'] = 'display_data';\n",
              "        await google.colab.output.renderOutput(dataTable, element);\n",
              "        const docLink = document.createElement('div');\n",
              "        docLink.innerHTML = docLinkHtml;\n",
              "        element.appendChild(docLink);\n",
              "      }\n",
              "    </script>\n",
              "  </div>\n",
              "\n",
              "\n",
              "    <div id=\"df-808923d1-413a-40bc-a932-ca41bf867ea6\">\n",
              "      <button class=\"colab-df-quickchart\" onclick=\"quickchart('df-808923d1-413a-40bc-a932-ca41bf867ea6')\"\n",
              "                title=\"Suggest charts\"\n",
              "                style=\"display:none;\">\n",
              "\n",
              "<svg xmlns=\"http://www.w3.org/2000/svg\" height=\"24px\"viewBox=\"0 0 24 24\"\n",
              "     width=\"24px\">\n",
              "    <g>\n",
              "        <path d=\"M19 3H5c-1.1 0-2 .9-2 2v14c0 1.1.9 2 2 2h14c1.1 0 2-.9 2-2V5c0-1.1-.9-2-2-2zM9 17H7v-7h2v7zm4 0h-2V7h2v10zm4 0h-2v-4h2v4z\"/>\n",
              "    </g>\n",
              "</svg>\n",
              "      </button>\n",
              "\n",
              "<style>\n",
              "  .colab-df-quickchart {\n",
              "      --bg-color: #E8F0FE;\n",
              "      --fill-color: #1967D2;\n",
              "      --hover-bg-color: #E2EBFA;\n",
              "      --hover-fill-color: #174EA6;\n",
              "      --disabled-fill-color: #AAA;\n",
              "      --disabled-bg-color: #DDD;\n",
              "  }\n",
              "\n",
              "  [theme=dark] .colab-df-quickchart {\n",
              "      --bg-color: #3B4455;\n",
              "      --fill-color: #D2E3FC;\n",
              "      --hover-bg-color: #434B5C;\n",
              "      --hover-fill-color: #FFFFFF;\n",
              "      --disabled-bg-color: #3B4455;\n",
              "      --disabled-fill-color: #666;\n",
              "  }\n",
              "\n",
              "  .colab-df-quickchart {\n",
              "    background-color: var(--bg-color);\n",
              "    border: none;\n",
              "    border-radius: 50%;\n",
              "    cursor: pointer;\n",
              "    display: none;\n",
              "    fill: var(--fill-color);\n",
              "    height: 32px;\n",
              "    padding: 0;\n",
              "    width: 32px;\n",
              "  }\n",
              "\n",
              "  .colab-df-quickchart:hover {\n",
              "    background-color: var(--hover-bg-color);\n",
              "    box-shadow: 0 1px 2px rgba(60, 64, 67, 0.3), 0 1px 3px 1px rgba(60, 64, 67, 0.15);\n",
              "    fill: var(--button-hover-fill-color);\n",
              "  }\n",
              "\n",
              "  .colab-df-quickchart-complete:disabled,\n",
              "  .colab-df-quickchart-complete:disabled:hover {\n",
              "    background-color: var(--disabled-bg-color);\n",
              "    fill: var(--disabled-fill-color);\n",
              "    box-shadow: none;\n",
              "  }\n",
              "\n",
              "  .colab-df-spinner {\n",
              "    border: 2px solid var(--fill-color);\n",
              "    border-color: transparent;\n",
              "    border-bottom-color: var(--fill-color);\n",
              "    animation:\n",
              "      spin 1s steps(1) infinite;\n",
              "  }\n",
              "\n",
              "  @keyframes spin {\n",
              "    0% {\n",
              "      border-color: transparent;\n",
              "      border-bottom-color: var(--fill-color);\n",
              "      border-left-color: var(--fill-color);\n",
              "    }\n",
              "    20% {\n",
              "      border-color: transparent;\n",
              "      border-left-color: var(--fill-color);\n",
              "      border-top-color: var(--fill-color);\n",
              "    }\n",
              "    30% {\n",
              "      border-color: transparent;\n",
              "      border-left-color: var(--fill-color);\n",
              "      border-top-color: var(--fill-color);\n",
              "      border-right-color: var(--fill-color);\n",
              "    }\n",
              "    40% {\n",
              "      border-color: transparent;\n",
              "      border-right-color: var(--fill-color);\n",
              "      border-top-color: var(--fill-color);\n",
              "    }\n",
              "    60% {\n",
              "      border-color: transparent;\n",
              "      border-right-color: var(--fill-color);\n",
              "    }\n",
              "    80% {\n",
              "      border-color: transparent;\n",
              "      border-right-color: var(--fill-color);\n",
              "      border-bottom-color: var(--fill-color);\n",
              "    }\n",
              "    90% {\n",
              "      border-color: transparent;\n",
              "      border-bottom-color: var(--fill-color);\n",
              "    }\n",
              "  }\n",
              "</style>\n",
              "\n",
              "      <script>\n",
              "        async function quickchart(key) {\n",
              "          const quickchartButtonEl =\n",
              "            document.querySelector('#' + key + ' button');\n",
              "          quickchartButtonEl.disabled = true;  // To prevent multiple clicks.\n",
              "          quickchartButtonEl.classList.add('colab-df-spinner');\n",
              "          try {\n",
              "            const charts = await google.colab.kernel.invokeFunction(\n",
              "                'suggestCharts', [key], {});\n",
              "          } catch (error) {\n",
              "            console.error('Error during call to suggestCharts:', error);\n",
              "          }\n",
              "          quickchartButtonEl.classList.remove('colab-df-spinner');\n",
              "          quickchartButtonEl.classList.add('colab-df-quickchart-complete');\n",
              "        }\n",
              "        (() => {\n",
              "          let quickchartButtonEl =\n",
              "            document.querySelector('#df-808923d1-413a-40bc-a932-ca41bf867ea6 button');\n",
              "          quickchartButtonEl.style.display =\n",
              "            google.colab.kernel.accessAllowed ? 'block' : 'none';\n",
              "        })();\n",
              "      </script>\n",
              "    </div>\n",
              "\n",
              "    </div>\n",
              "  </div>\n"
            ],
            "application/vnd.google.colaboratory.intrinsic+json": {
              "type": "dataframe",
              "variable_name": "df"
            }
          },
          "metadata": {},
          "execution_count": 9
        }
      ],
      "source": [
        "# Convert boolean columns to integers (True to 1, False to 0)\n",
        "for col in df.select_dtypes(include='bool').columns:\n",
        "    df[col] = df[col].astype(int)\n",
        "\n",
        "print(\"\\nDataFrame Info after converting bool to int:\")\n",
        "df.info()\n",
        "print(\"\\nDataFrame Head after converting bool to int:\")\n",
        "df.head()"
      ]
    },
    {
      "cell_type": "code",
      "source": [
        "#Data Leakage Analysis -- Sonuçlar çok yüksek çıktığından ve over-fitting olmadığı anlaşıldığından data leakage olabileceği dikkate\n",
        "#alınarak sarcopenia ile ilişkisi en yüksek olan feature lar veriden çıkartılarak yeniden run edildiğinde sonuçlar daha düşük çıktı. Burada\n",
        "#birbiriyle korelasyonu yüksek veriler de dikkate alındı.\n",
        "\n",
        "#df.drop(['AT'], axis=1, inplace=True)\n",
        "df.drop(['STAR'], axis=1, inplace=True)\n",
        "df.drop(['Grip_Str'], axis=1, inplace=True) # Doğrudan tanı kriteri olan değişken\n",
        "#df.drop(['CST'], axis=1, inplace=True)\n",
        "#df.drop(['Job_no_job'], axis=1, inplace=True)"
      ],
      "metadata": {
        "id": "WMMfwVyv6sYy"
      },
      "execution_count": null,
      "outputs": []
    },
    {
      "cell_type": "markdown",
      "metadata": {
        "id": "Y-QY3MDONgCc"
      },
      "source": [
        "**Define Features (X) and Target (y)**\n"
      ]
    },
    {
      "cell_type": "code",
      "execution_count": null,
      "metadata": {
        "id": "o-teWTpjMlY7"
      },
      "outputs": [],
      "source": [
        "X = df.drop('Sarcopenia', axis=1)\n",
        "y = df['Sarcopenia']"
      ]
    },
    {
      "cell_type": "markdown",
      "metadata": {
        "id": "fMW0R9TVViAA"
      },
      "source": [
        "# **2.1. Initial Model Training (Baseline)**"
      ]
    },
    {
      "cell_type": "markdown",
      "metadata": {
        "id": "vQNbmwCKNgCd"
      },
      "source": [
        "**Split Data into Training and Testing Sets (Full Dataset)**\n",
        "* I chose 25% to 75%.\n",
        "* I used `stratify=Sarcopenia` since our target variable is imbalanced to ensure a proportional representation of classes in both train and test sets."
      ]
    },
    {
      "cell_type": "code",
      "execution_count": null,
      "metadata": {
        "id": "BoZnaUw9NgCe"
      },
      "outputs": [],
      "source": [
        "X_train_full, X_test_full, y_train_full, y_test_full = train_test_split(X, y, test_size=0.25, random_state=42, stratify=y)"
      ]
    },
    {
      "cell_type": "code",
      "execution_count": null,
      "metadata": {
        "colab": {
          "base_uri": "https://localhost:8080/"
        },
        "id": "zQLaxk2cSizo",
        "outputId": "dda78c54-5859-4c39-d5eb-cabb80739b71"
      },
      "outputs": [
        {
          "output_type": "stream",
          "name": "stdout",
          "text": [
            "\n",
            "Training features shape: (3762, 35)\n",
            "Testing features shape: (1254, 35)\n",
            "Training target shape: (3762,)\n",
            "Testing target shape: (1254,)\n"
          ]
        }
      ],
      "source": [
        "print(f\"\\nTraining features shape: {X_train_full.shape}\")\n",
        "print(f\"Testing features shape: {X_test_full.shape}\")\n",
        "print(f\"Training target shape: {y_train_full.shape}\")\n",
        "print(f\"Testing target shape: {y_test_full.shape}\")"
      ]
    },
    {
      "cell_type": "markdown",
      "metadata": {
        "id": "07vZUVRvTIX3"
      },
      "source": [
        "**The data is now prepared for the feature selection phase, with all features in numerical format and appropriately split for model development and evaluation.**"
      ]
    },
    {
      "cell_type": "markdown",
      "metadata": {
        "id": "lKUjc6h2NgCe"
      },
      "source": [
        "**Train Initial Decision Tree Model (Full Dataset)**"
      ]
    },
    {
      "cell_type": "code",
      "execution_count": null,
      "metadata": {
        "colab": {
          "base_uri": "https://localhost:8080/",
          "height": 80
        },
        "id": "jou9qmaDNgCf",
        "outputId": "58b2d0e4-8695-4fd6-9672-f806134e011c"
      },
      "outputs": [
        {
          "output_type": "execute_result",
          "data": {
            "text/plain": [
              "DecisionTreeClassifier(random_state=42)"
            ],
            "text/html": [
              "<style>#sk-container-id-1 {\n",
              "  /* Definition of color scheme common for light and dark mode */\n",
              "  --sklearn-color-text: #000;\n",
              "  --sklearn-color-text-muted: #666;\n",
              "  --sklearn-color-line: gray;\n",
              "  /* Definition of color scheme for unfitted estimators */\n",
              "  --sklearn-color-unfitted-level-0: #fff5e6;\n",
              "  --sklearn-color-unfitted-level-1: #f6e4d2;\n",
              "  --sklearn-color-unfitted-level-2: #ffe0b3;\n",
              "  --sklearn-color-unfitted-level-3: chocolate;\n",
              "  /* Definition of color scheme for fitted estimators */\n",
              "  --sklearn-color-fitted-level-0: #f0f8ff;\n",
              "  --sklearn-color-fitted-level-1: #d4ebff;\n",
              "  --sklearn-color-fitted-level-2: #b3dbfd;\n",
              "  --sklearn-color-fitted-level-3: cornflowerblue;\n",
              "\n",
              "  /* Specific color for light theme */\n",
              "  --sklearn-color-text-on-default-background: var(--sg-text-color, var(--theme-code-foreground, var(--jp-content-font-color1, black)));\n",
              "  --sklearn-color-background: var(--sg-background-color, var(--theme-background, var(--jp-layout-color0, white)));\n",
              "  --sklearn-color-border-box: var(--sg-text-color, var(--theme-code-foreground, var(--jp-content-font-color1, black)));\n",
              "  --sklearn-color-icon: #696969;\n",
              "\n",
              "  @media (prefers-color-scheme: dark) {\n",
              "    /* Redefinition of color scheme for dark theme */\n",
              "    --sklearn-color-text-on-default-background: var(--sg-text-color, var(--theme-code-foreground, var(--jp-content-font-color1, white)));\n",
              "    --sklearn-color-background: var(--sg-background-color, var(--theme-background, var(--jp-layout-color0, #111)));\n",
              "    --sklearn-color-border-box: var(--sg-text-color, var(--theme-code-foreground, var(--jp-content-font-color1, white)));\n",
              "    --sklearn-color-icon: #878787;\n",
              "  }\n",
              "}\n",
              "\n",
              "#sk-container-id-1 {\n",
              "  color: var(--sklearn-color-text);\n",
              "}\n",
              "\n",
              "#sk-container-id-1 pre {\n",
              "  padding: 0;\n",
              "}\n",
              "\n",
              "#sk-container-id-1 input.sk-hidden--visually {\n",
              "  border: 0;\n",
              "  clip: rect(1px 1px 1px 1px);\n",
              "  clip: rect(1px, 1px, 1px, 1px);\n",
              "  height: 1px;\n",
              "  margin: -1px;\n",
              "  overflow: hidden;\n",
              "  padding: 0;\n",
              "  position: absolute;\n",
              "  width: 1px;\n",
              "}\n",
              "\n",
              "#sk-container-id-1 div.sk-dashed-wrapped {\n",
              "  border: 1px dashed var(--sklearn-color-line);\n",
              "  margin: 0 0.4em 0.5em 0.4em;\n",
              "  box-sizing: border-box;\n",
              "  padding-bottom: 0.4em;\n",
              "  background-color: var(--sklearn-color-background);\n",
              "}\n",
              "\n",
              "#sk-container-id-1 div.sk-container {\n",
              "  /* jupyter's `normalize.less` sets `[hidden] { display: none; }`\n",
              "     but bootstrap.min.css set `[hidden] { display: none !important; }`\n",
              "     so we also need the `!important` here to be able to override the\n",
              "     default hidden behavior on the sphinx rendered scikit-learn.org.\n",
              "     See: https://github.com/scikit-learn/scikit-learn/issues/21755 */\n",
              "  display: inline-block !important;\n",
              "  position: relative;\n",
              "}\n",
              "\n",
              "#sk-container-id-1 div.sk-text-repr-fallback {\n",
              "  display: none;\n",
              "}\n",
              "\n",
              "div.sk-parallel-item,\n",
              "div.sk-serial,\n",
              "div.sk-item {\n",
              "  /* draw centered vertical line to link estimators */\n",
              "  background-image: linear-gradient(var(--sklearn-color-text-on-default-background), var(--sklearn-color-text-on-default-background));\n",
              "  background-size: 2px 100%;\n",
              "  background-repeat: no-repeat;\n",
              "  background-position: center center;\n",
              "}\n",
              "\n",
              "/* Parallel-specific style estimator block */\n",
              "\n",
              "#sk-container-id-1 div.sk-parallel-item::after {\n",
              "  content: \"\";\n",
              "  width: 100%;\n",
              "  border-bottom: 2px solid var(--sklearn-color-text-on-default-background);\n",
              "  flex-grow: 1;\n",
              "}\n",
              "\n",
              "#sk-container-id-1 div.sk-parallel {\n",
              "  display: flex;\n",
              "  align-items: stretch;\n",
              "  justify-content: center;\n",
              "  background-color: var(--sklearn-color-background);\n",
              "  position: relative;\n",
              "}\n",
              "\n",
              "#sk-container-id-1 div.sk-parallel-item {\n",
              "  display: flex;\n",
              "  flex-direction: column;\n",
              "}\n",
              "\n",
              "#sk-container-id-1 div.sk-parallel-item:first-child::after {\n",
              "  align-self: flex-end;\n",
              "  width: 50%;\n",
              "}\n",
              "\n",
              "#sk-container-id-1 div.sk-parallel-item:last-child::after {\n",
              "  align-self: flex-start;\n",
              "  width: 50%;\n",
              "}\n",
              "\n",
              "#sk-container-id-1 div.sk-parallel-item:only-child::after {\n",
              "  width: 0;\n",
              "}\n",
              "\n",
              "/* Serial-specific style estimator block */\n",
              "\n",
              "#sk-container-id-1 div.sk-serial {\n",
              "  display: flex;\n",
              "  flex-direction: column;\n",
              "  align-items: center;\n",
              "  background-color: var(--sklearn-color-background);\n",
              "  padding-right: 1em;\n",
              "  padding-left: 1em;\n",
              "}\n",
              "\n",
              "\n",
              "/* Toggleable style: style used for estimator/Pipeline/ColumnTransformer box that is\n",
              "clickable and can be expanded/collapsed.\n",
              "- Pipeline and ColumnTransformer use this feature and define the default style\n",
              "- Estimators will overwrite some part of the style using the `sk-estimator` class\n",
              "*/\n",
              "\n",
              "/* Pipeline and ColumnTransformer style (default) */\n",
              "\n",
              "#sk-container-id-1 div.sk-toggleable {\n",
              "  /* Default theme specific background. It is overwritten whether we have a\n",
              "  specific estimator or a Pipeline/ColumnTransformer */\n",
              "  background-color: var(--sklearn-color-background);\n",
              "}\n",
              "\n",
              "/* Toggleable label */\n",
              "#sk-container-id-1 label.sk-toggleable__label {\n",
              "  cursor: pointer;\n",
              "  display: flex;\n",
              "  width: 100%;\n",
              "  margin-bottom: 0;\n",
              "  padding: 0.5em;\n",
              "  box-sizing: border-box;\n",
              "  text-align: center;\n",
              "  align-items: start;\n",
              "  justify-content: space-between;\n",
              "  gap: 0.5em;\n",
              "}\n",
              "\n",
              "#sk-container-id-1 label.sk-toggleable__label .caption {\n",
              "  font-size: 0.6rem;\n",
              "  font-weight: lighter;\n",
              "  color: var(--sklearn-color-text-muted);\n",
              "}\n",
              "\n",
              "#sk-container-id-1 label.sk-toggleable__label-arrow:before {\n",
              "  /* Arrow on the left of the label */\n",
              "  content: \"▸\";\n",
              "  float: left;\n",
              "  margin-right: 0.25em;\n",
              "  color: var(--sklearn-color-icon);\n",
              "}\n",
              "\n",
              "#sk-container-id-1 label.sk-toggleable__label-arrow:hover:before {\n",
              "  color: var(--sklearn-color-text);\n",
              "}\n",
              "\n",
              "/* Toggleable content - dropdown */\n",
              "\n",
              "#sk-container-id-1 div.sk-toggleable__content {\n",
              "  max-height: 0;\n",
              "  max-width: 0;\n",
              "  overflow: hidden;\n",
              "  text-align: left;\n",
              "  /* unfitted */\n",
              "  background-color: var(--sklearn-color-unfitted-level-0);\n",
              "}\n",
              "\n",
              "#sk-container-id-1 div.sk-toggleable__content.fitted {\n",
              "  /* fitted */\n",
              "  background-color: var(--sklearn-color-fitted-level-0);\n",
              "}\n",
              "\n",
              "#sk-container-id-1 div.sk-toggleable__content pre {\n",
              "  margin: 0.2em;\n",
              "  border-radius: 0.25em;\n",
              "  color: var(--sklearn-color-text);\n",
              "  /* unfitted */\n",
              "  background-color: var(--sklearn-color-unfitted-level-0);\n",
              "}\n",
              "\n",
              "#sk-container-id-1 div.sk-toggleable__content.fitted pre {\n",
              "  /* unfitted */\n",
              "  background-color: var(--sklearn-color-fitted-level-0);\n",
              "}\n",
              "\n",
              "#sk-container-id-1 input.sk-toggleable__control:checked~div.sk-toggleable__content {\n",
              "  /* Expand drop-down */\n",
              "  max-height: 200px;\n",
              "  max-width: 100%;\n",
              "  overflow: auto;\n",
              "}\n",
              "\n",
              "#sk-container-id-1 input.sk-toggleable__control:checked~label.sk-toggleable__label-arrow:before {\n",
              "  content: \"▾\";\n",
              "}\n",
              "\n",
              "/* Pipeline/ColumnTransformer-specific style */\n",
              "\n",
              "#sk-container-id-1 div.sk-label input.sk-toggleable__control:checked~label.sk-toggleable__label {\n",
              "  color: var(--sklearn-color-text);\n",
              "  background-color: var(--sklearn-color-unfitted-level-2);\n",
              "}\n",
              "\n",
              "#sk-container-id-1 div.sk-label.fitted input.sk-toggleable__control:checked~label.sk-toggleable__label {\n",
              "  background-color: var(--sklearn-color-fitted-level-2);\n",
              "}\n",
              "\n",
              "/* Estimator-specific style */\n",
              "\n",
              "/* Colorize estimator box */\n",
              "#sk-container-id-1 div.sk-estimator input.sk-toggleable__control:checked~label.sk-toggleable__label {\n",
              "  /* unfitted */\n",
              "  background-color: var(--sklearn-color-unfitted-level-2);\n",
              "}\n",
              "\n",
              "#sk-container-id-1 div.sk-estimator.fitted input.sk-toggleable__control:checked~label.sk-toggleable__label {\n",
              "  /* fitted */\n",
              "  background-color: var(--sklearn-color-fitted-level-2);\n",
              "}\n",
              "\n",
              "#sk-container-id-1 div.sk-label label.sk-toggleable__label,\n",
              "#sk-container-id-1 div.sk-label label {\n",
              "  /* The background is the default theme color */\n",
              "  color: var(--sklearn-color-text-on-default-background);\n",
              "}\n",
              "\n",
              "/* On hover, darken the color of the background */\n",
              "#sk-container-id-1 div.sk-label:hover label.sk-toggleable__label {\n",
              "  color: var(--sklearn-color-text);\n",
              "  background-color: var(--sklearn-color-unfitted-level-2);\n",
              "}\n",
              "\n",
              "/* Label box, darken color on hover, fitted */\n",
              "#sk-container-id-1 div.sk-label.fitted:hover label.sk-toggleable__label.fitted {\n",
              "  color: var(--sklearn-color-text);\n",
              "  background-color: var(--sklearn-color-fitted-level-2);\n",
              "}\n",
              "\n",
              "/* Estimator label */\n",
              "\n",
              "#sk-container-id-1 div.sk-label label {\n",
              "  font-family: monospace;\n",
              "  font-weight: bold;\n",
              "  display: inline-block;\n",
              "  line-height: 1.2em;\n",
              "}\n",
              "\n",
              "#sk-container-id-1 div.sk-label-container {\n",
              "  text-align: center;\n",
              "}\n",
              "\n",
              "/* Estimator-specific */\n",
              "#sk-container-id-1 div.sk-estimator {\n",
              "  font-family: monospace;\n",
              "  border: 1px dotted var(--sklearn-color-border-box);\n",
              "  border-radius: 0.25em;\n",
              "  box-sizing: border-box;\n",
              "  margin-bottom: 0.5em;\n",
              "  /* unfitted */\n",
              "  background-color: var(--sklearn-color-unfitted-level-0);\n",
              "}\n",
              "\n",
              "#sk-container-id-1 div.sk-estimator.fitted {\n",
              "  /* fitted */\n",
              "  background-color: var(--sklearn-color-fitted-level-0);\n",
              "}\n",
              "\n",
              "/* on hover */\n",
              "#sk-container-id-1 div.sk-estimator:hover {\n",
              "  /* unfitted */\n",
              "  background-color: var(--sklearn-color-unfitted-level-2);\n",
              "}\n",
              "\n",
              "#sk-container-id-1 div.sk-estimator.fitted:hover {\n",
              "  /* fitted */\n",
              "  background-color: var(--sklearn-color-fitted-level-2);\n",
              "}\n",
              "\n",
              "/* Specification for estimator info (e.g. \"i\" and \"?\") */\n",
              "\n",
              "/* Common style for \"i\" and \"?\" */\n",
              "\n",
              ".sk-estimator-doc-link,\n",
              "a:link.sk-estimator-doc-link,\n",
              "a:visited.sk-estimator-doc-link {\n",
              "  float: right;\n",
              "  font-size: smaller;\n",
              "  line-height: 1em;\n",
              "  font-family: monospace;\n",
              "  background-color: var(--sklearn-color-background);\n",
              "  border-radius: 1em;\n",
              "  height: 1em;\n",
              "  width: 1em;\n",
              "  text-decoration: none !important;\n",
              "  margin-left: 0.5em;\n",
              "  text-align: center;\n",
              "  /* unfitted */\n",
              "  border: var(--sklearn-color-unfitted-level-1) 1pt solid;\n",
              "  color: var(--sklearn-color-unfitted-level-1);\n",
              "}\n",
              "\n",
              ".sk-estimator-doc-link.fitted,\n",
              "a:link.sk-estimator-doc-link.fitted,\n",
              "a:visited.sk-estimator-doc-link.fitted {\n",
              "  /* fitted */\n",
              "  border: var(--sklearn-color-fitted-level-1) 1pt solid;\n",
              "  color: var(--sklearn-color-fitted-level-1);\n",
              "}\n",
              "\n",
              "/* On hover */\n",
              "div.sk-estimator:hover .sk-estimator-doc-link:hover,\n",
              ".sk-estimator-doc-link:hover,\n",
              "div.sk-label-container:hover .sk-estimator-doc-link:hover,\n",
              ".sk-estimator-doc-link:hover {\n",
              "  /* unfitted */\n",
              "  background-color: var(--sklearn-color-unfitted-level-3);\n",
              "  color: var(--sklearn-color-background);\n",
              "  text-decoration: none;\n",
              "}\n",
              "\n",
              "div.sk-estimator.fitted:hover .sk-estimator-doc-link.fitted:hover,\n",
              ".sk-estimator-doc-link.fitted:hover,\n",
              "div.sk-label-container:hover .sk-estimator-doc-link.fitted:hover,\n",
              ".sk-estimator-doc-link.fitted:hover {\n",
              "  /* fitted */\n",
              "  background-color: var(--sklearn-color-fitted-level-3);\n",
              "  color: var(--sklearn-color-background);\n",
              "  text-decoration: none;\n",
              "}\n",
              "\n",
              "/* Span, style for the box shown on hovering the info icon */\n",
              ".sk-estimator-doc-link span {\n",
              "  display: none;\n",
              "  z-index: 9999;\n",
              "  position: relative;\n",
              "  font-weight: normal;\n",
              "  right: .2ex;\n",
              "  padding: .5ex;\n",
              "  margin: .5ex;\n",
              "  width: min-content;\n",
              "  min-width: 20ex;\n",
              "  max-width: 50ex;\n",
              "  color: var(--sklearn-color-text);\n",
              "  box-shadow: 2pt 2pt 4pt #999;\n",
              "  /* unfitted */\n",
              "  background: var(--sklearn-color-unfitted-level-0);\n",
              "  border: .5pt solid var(--sklearn-color-unfitted-level-3);\n",
              "}\n",
              "\n",
              ".sk-estimator-doc-link.fitted span {\n",
              "  /* fitted */\n",
              "  background: var(--sklearn-color-fitted-level-0);\n",
              "  border: var(--sklearn-color-fitted-level-3);\n",
              "}\n",
              "\n",
              ".sk-estimator-doc-link:hover span {\n",
              "  display: block;\n",
              "}\n",
              "\n",
              "/* \"?\"-specific style due to the `<a>` HTML tag */\n",
              "\n",
              "#sk-container-id-1 a.estimator_doc_link {\n",
              "  float: right;\n",
              "  font-size: 1rem;\n",
              "  line-height: 1em;\n",
              "  font-family: monospace;\n",
              "  background-color: var(--sklearn-color-background);\n",
              "  border-radius: 1rem;\n",
              "  height: 1rem;\n",
              "  width: 1rem;\n",
              "  text-decoration: none;\n",
              "  /* unfitted */\n",
              "  color: var(--sklearn-color-unfitted-level-1);\n",
              "  border: var(--sklearn-color-unfitted-level-1) 1pt solid;\n",
              "}\n",
              "\n",
              "#sk-container-id-1 a.estimator_doc_link.fitted {\n",
              "  /* fitted */\n",
              "  border: var(--sklearn-color-fitted-level-1) 1pt solid;\n",
              "  color: var(--sklearn-color-fitted-level-1);\n",
              "}\n",
              "\n",
              "/* On hover */\n",
              "#sk-container-id-1 a.estimator_doc_link:hover {\n",
              "  /* unfitted */\n",
              "  background-color: var(--sklearn-color-unfitted-level-3);\n",
              "  color: var(--sklearn-color-background);\n",
              "  text-decoration: none;\n",
              "}\n",
              "\n",
              "#sk-container-id-1 a.estimator_doc_link.fitted:hover {\n",
              "  /* fitted */\n",
              "  background-color: var(--sklearn-color-fitted-level-3);\n",
              "}\n",
              "</style><div id=\"sk-container-id-1\" class=\"sk-top-container\"><div class=\"sk-text-repr-fallback\"><pre>DecisionTreeClassifier(random_state=42)</pre><b>In a Jupyter environment, please rerun this cell to show the HTML representation or trust the notebook. <br />On GitHub, the HTML representation is unable to render, please try loading this page with nbviewer.org.</b></div><div class=\"sk-container\" hidden><div class=\"sk-item\"><div class=\"sk-estimator fitted sk-toggleable\"><input class=\"sk-toggleable__control sk-hidden--visually\" id=\"sk-estimator-id-1\" type=\"checkbox\" checked><label for=\"sk-estimator-id-1\" class=\"sk-toggleable__label fitted sk-toggleable__label-arrow\"><div><div>DecisionTreeClassifier</div></div><div><a class=\"sk-estimator-doc-link fitted\" rel=\"noreferrer\" target=\"_blank\" href=\"https://scikit-learn.org/1.6/modules/generated/sklearn.tree.DecisionTreeClassifier.html\">?<span>Documentation for DecisionTreeClassifier</span></a><span class=\"sk-estimator-doc-link fitted\">i<span>Fitted</span></span></div></label><div class=\"sk-toggleable__content fitted\"><pre>DecisionTreeClassifier(random_state=42)</pre></div> </div></div></div></div>"
            ]
          },
          "metadata": {},
          "execution_count": 14
        }
      ],
      "source": [
        "dt_classifier_full = DecisionTreeClassifier(random_state=42)\n",
        "dt_classifier_full.fit(X_train_full, y_train_full)"
      ]
    },
    {
      "cell_type": "markdown",
      "metadata": {
        "id": "OXnBcyqrNgCf"
      },
      "source": [
        "**Evaluate Initial Decision Tree Model (Full Dataset)**\n",
        "* **Action:** Make predictions on the test set and calculate the specified evaluation metrics.\n",
        "* **Metrics:** Accuracy, Precision, Recall, F1-Score."
      ]
    },
    {
      "cell_type": "code",
      "execution_count": null,
      "metadata": {
        "colab": {
          "base_uri": "https://localhost:8080/"
        },
        "id": "NiqOmlOTNgCg",
        "outputId": "813bce69-4199-463c-fb0e-17fb1ef17fe7"
      },
      "outputs": [
        {
          "output_type": "stream",
          "name": "stdout",
          "text": [
            "Decision Tree (Full Data) - Accuracy: 0.9011\n",
            "Decision Tree (Full Data) - Precision: 0.7417\n",
            "Decision Tree (Full Data) - Recall: 0.7882\n",
            "Decision Tree (Full Data) - F1-Score: 0.7643\n"
          ]
        }
      ],
      "source": [
        "y_pred_dt_full = dt_classifier_full.predict(X_test_full)\n",
        "\n",
        "accuracy_dt_full = accuracy_score(y_test_full, y_pred_dt_full)\n",
        "precision_dt_full = precision_score(y_test_full, y_pred_dt_full)\n",
        "recall_dt_full = recall_score(y_test_full, y_pred_dt_full)\n",
        "f1_dt_full = f1_score(y_test_full, y_pred_dt_full)\n",
        "\n",
        "print(f\"Decision Tree (Full Data) - Accuracy: {accuracy_dt_full:.4f}\")\n",
        "print(f\"Decision Tree (Full Data) - Precision: {precision_dt_full:.4f}\")\n",
        "print(f\"Decision Tree (Full Data) - Recall: {recall_dt_full:.4f}\")\n",
        "print(f\"Decision Tree (Full Data) - F1-Score: {f1_dt_full:.4f}\")\n",
        "\n"
      ]
    },
    {
      "cell_type": "code",
      "execution_count": null,
      "metadata": {
        "colab": {
          "base_uri": "https://localhost:8080/",
          "height": 480
        },
        "id": "_2mg80aiRYG2",
        "outputId": "226080a6-79e7-485f-f904-39b1e46f5aef"
      },
      "outputs": [
        {
          "output_type": "display_data",
          "data": {
            "text/plain": [
              "<Figure size 640x480 with 2 Axes>"
            ],
            "image/png": "[encoded data removed]"
          },
          "metadata": {}
        }
      ],
      "source": [
        "# Confusion Matrix\n",
        "cm_dt_full = confusion_matrix(y_test_full, y_pred_dt_full)\n",
        "sns.heatmap(cm_dt_full, annot=True, fmt='d', cmap='Blues')\n",
        "plt.title('Confusion Matrix - Decision Tree (Full Data)')\n",
        "plt.xlabel('Predicted')\n",
        "plt.ylabel('True')\n",
        "plt.show()"
      ]
    },
    {
      "cell_type": "code",
      "execution_count": null,
      "metadata": {
        "id": "jhPWoxWj2BsO"
      },
      "outputs": [],
      "source": [
        "def calculate_roc_auc(y_true, y_pred_proba):\n",
        "    if not (np.array_equal(np.unique(y_true), [0, 1]) or np.array_equal(np.unique(y_true), [0]) or np.array_equal(np.unique(y_true), [1])):\n",
        "        raise ValueError(\"y_true must contain only binary values (0 or 1) for ROC-AUC.\")\n",
        "    if not (np.all(y_pred_proba >= 0) and np.all(y_pred_proba <= 1)):\n",
        "        raise ValueError(\"y_pred_proba must contain values between 0 and 1 (probabilities).\")\n",
        "\n",
        "    roc_auc = roc_auc_score(y_true, y_pred_proba)\n",
        "    print(f\"ROC-AUC Score: {roc_auc:.4f}\")\n",
        "\n"
      ]
    },
    {
      "cell_type": "code",
      "execution_count": null,
      "metadata": {
        "colab": {
          "base_uri": "https://localhost:8080/"
        },
        "id": "UNUB2APC2Z5F",
        "outputId": "afedbe3d-2d27-4d82-95a3-9ef639cc5496"
      },
      "outputs": [
        {
          "output_type": "stream",
          "name": "stdout",
          "text": [
            "ROC-AUC Score: 0.8591\n"
          ]
        }
      ],
      "source": [
        "calculate_roc_auc(y_test_full, y_pred_dt_full)"
      ]
    },
    {
      "cell_type": "markdown",
      "metadata": {
        "id": "iIbuTouSNgCg"
      },
      "source": [
        "**Train Initial XGBoost Model (Full Dataset)**"
      ]
    },
    {
      "cell_type": "code",
      "execution_count": null,
      "metadata": {
        "colab": {
          "base_uri": "https://localhost:8080/",
          "height": 257
        },
        "id": "HHSHGMWbNgCg",
        "outputId": "557aa929-2f0c-49b6-82b6-0fc305a19adf"
      },
      "outputs": [
        {
          "output_type": "execute_result",
          "data": {
            "text/plain": [
              "XGBClassifier(base_score=None, booster=None, callbacks=None,\n",
              "              colsample_bylevel=None, colsample_bynode=None,\n",
              "              colsample_bytree=None, device=None, early_stopping_rounds=None,\n",
              "              enable_categorical=False, eval_metric='logloss',\n",
              "              feature_types=None, feature_weights=None, gamma=None,\n",
              "              grow_policy=None, importance_type=None,\n",
              "              interaction_constraints=None, learning_rate=None, max_bin=None,\n",
              "              max_cat_threshold=None, max_cat_to_onehot=None,\n",
              "              max_delta_step=None, max_depth=None, max_leaves=None,\n",
              "              min_child_weight=None, missing=nan, monotone_constraints=None,\n",
              "              multi_strategy=None, n_estimators=None, n_jobs=None,\n",
              "              num_parallel_tree=None, ...)"
            ],
            "text/html": [
              "<style>#sk-container-id-2 {\n",
              "  /* Definition of color scheme common for light and dark mode */\n",
              "  --sklearn-color-text: #000;\n",
              "  --sklearn-color-text-muted: #666;\n",
              "  --sklearn-color-line: gray;\n",
              "  /* Definition of color scheme for unfitted estimators */\n",
              "  --sklearn-color-unfitted-level-0: #fff5e6;\n",
              "  --sklearn-color-unfitted-level-1: #f6e4d2;\n",
              "  --sklearn-color-unfitted-level-2: #ffe0b3;\n",
              "  --sklearn-color-unfitted-level-3: chocolate;\n",
              "  /* Definition of color scheme for fitted estimators */\n",
              "  --sklearn-color-fitted-level-0: #f0f8ff;\n",
              "  --sklearn-color-fitted-level-1: #d4ebff;\n",
              "  --sklearn-color-fitted-level-2: #b3dbfd;\n",
              "  --sklearn-color-fitted-level-3: cornflowerblue;\n",
              "\n",
              "  /* Specific color for light theme */\n",
              "  --sklearn-color-text-on-default-background: var(--sg-text-color, var(--theme-code-foreground, var(--jp-content-font-color1, black)));\n",
              "  --sklearn-color-background: var(--sg-background-color, var(--theme-background, var(--jp-layout-color0, white)));\n",
              "  --sklearn-color-border-box: var(--sg-text-color, var(--theme-code-foreground, var(--jp-content-font-color1, black)));\n",
              "  --sklearn-color-icon: #696969;\n",
              "\n",
              "  @media (prefers-color-scheme: dark) {\n",
              "    /* Redefinition of color scheme for dark theme */\n",
              "    --sklearn-color-text-on-default-background: var(--sg-text-color, var(--theme-code-foreground, var(--jp-content-font-color1, white)));\n",
              "    --sklearn-color-background: var(--sg-background-color, var(--theme-background, var(--jp-layout-color0, #111)));\n",
              "    --sklearn-color-border-box: var(--sg-text-color, var(--theme-code-foreground, var(--jp-content-font-color1, white)));\n",
              "    --sklearn-color-icon: #878787;\n",
              "  }\n",
              "}\n",
              "\n",
              "#sk-container-id-2 {\n",
              "  color: var(--sklearn-color-text);\n",
              "}\n",
              "\n",
              "#sk-container-id-2 pre {\n",
              "  padding: 0;\n",
              "}\n",
              "\n",
              "#sk-container-id-2 input.sk-hidden--visually {\n",
              "  border: 0;\n",
              "  clip: rect(1px 1px 1px 1px);\n",
              "  clip: rect(1px, 1px, 1px, 1px);\n",
              "  height: 1px;\n",
              "  margin: -1px;\n",
              "  overflow: hidden;\n",
              "  padding: 0;\n",
              "  position: absolute;\n",
              "  width: 1px;\n",
              "}\n",
              "\n",
              "#sk-container-id-2 div.sk-dashed-wrapped {\n",
              "  border: 1px dashed var(--sklearn-color-line);\n",
              "  margin: 0 0.4em 0.5em 0.4em;\n",
              "  box-sizing: border-box;\n",
              "  padding-bottom: 0.4em;\n",
              "  background-color: var(--sklearn-color-background);\n",
              "}\n",
              "\n",
              "#sk-container-id-2 div.sk-container {\n",
              "  /* jupyter's `normalize.less` sets `[hidden] { display: none; }`\n",
              "     but bootstrap.min.css set `[hidden] { display: none !important; }`\n",
              "     so we also need the `!important` here to be able to override the\n",
              "     default hidden behavior on the sphinx rendered scikit-learn.org.\n",
              "     See: https://github.com/scikit-learn/scikit-learn/issues/21755 */\n",
              "  display: inline-block !important;\n",
              "  position: relative;\n",
              "}\n",
              "\n",
              "#sk-container-id-2 div.sk-text-repr-fallback {\n",
              "  display: none;\n",
              "}\n",
              "\n",
              "div.sk-parallel-item,\n",
              "div.sk-serial,\n",
              "div.sk-item {\n",
              "  /* draw centered vertical line to link estimators */\n",
              "  background-image: linear-gradient(var(--sklearn-color-text-on-default-background), var(--sklearn-color-text-on-default-background));\n",
              "  background-size: 2px 100%;\n",
              "  background-repeat: no-repeat;\n",
              "  background-position: center center;\n",
              "}\n",
              "\n",
              "/* Parallel-specific style estimator block */\n",
              "\n",
              "#sk-container-id-2 div.sk-parallel-item::after {\n",
              "  content: \"\";\n",
              "  width: 100%;\n",
              "  border-bottom: 2px solid var(--sklearn-color-text-on-default-background);\n",
              "  flex-grow: 1;\n",
              "}\n",
              "\n",
              "#sk-container-id-2 div.sk-parallel {\n",
              "  display: flex;\n",
              "  align-items: stretch;\n",
              "  justify-content: center;\n",
              "  background-color: var(--sklearn-color-background);\n",
              "  position: relative;\n",
              "}\n",
              "\n",
              "#sk-container-id-2 div.sk-parallel-item {\n",
              "  display: flex;\n",
              "  flex-direction: column;\n",
              "}\n",
              "\n",
              "#sk-container-id-2 div.sk-parallel-item:first-child::after {\n",
              "  align-self: flex-end;\n",
              "  width: 50%;\n",
              "}\n",
              "\n",
              "#sk-container-id-2 div.sk-parallel-item:last-child::after {\n",
              "  align-self: flex-start;\n",
              "  width: 50%;\n",
              "}\n",
              "\n",
              "#sk-container-id-2 div.sk-parallel-item:only-child::after {\n",
              "  width: 0;\n",
              "}\n",
              "\n",
              "/* Serial-specific style estimator block */\n",
              "\n",
              "#sk-container-id-2 div.sk-serial {\n",
              "  display: flex;\n",
              "  flex-direction: column;\n",
              "  align-items: center;\n",
              "  background-color: var(--sklearn-color-background);\n",
              "  padding-right: 1em;\n",
              "  padding-left: 1em;\n",
              "}\n",
              "\n",
              "\n",
              "/* Toggleable style: style used for estimator/Pipeline/ColumnTransformer box that is\n",
              "clickable and can be expanded/collapsed.\n",
              "- Pipeline and ColumnTransformer use this feature and define the default style\n",
              "- Estimators will overwrite some part of the style using the `sk-estimator` class\n",
              "*/\n",
              "\n",
              "/* Pipeline and ColumnTransformer style (default) */\n",
              "\n",
              "#sk-container-id-2 div.sk-toggleable {\n",
              "  /* Default theme specific background. It is overwritten whether we have a\n",
              "  specific estimator or a Pipeline/ColumnTransformer */\n",
              "  background-color: var(--sklearn-color-background);\n",
              "}\n",
              "\n",
              "/* Toggleable label */\n",
              "#sk-container-id-2 label.sk-toggleable__label {\n",
              "  cursor: pointer;\n",
              "  display: flex;\n",
              "  width: 100%;\n",
              "  margin-bottom: 0;\n",
              "  padding: 0.5em;\n",
              "  box-sizing: border-box;\n",
              "  text-align: center;\n",
              "  align-items: start;\n",
              "  justify-content: space-between;\n",
              "  gap: 0.5em;\n",
              "}\n",
              "\n",
              "#sk-container-id-2 label.sk-toggleable__label .caption {\n",
              "  font-size: 0.6rem;\n",
              "  font-weight: lighter;\n",
              "  color: var(--sklearn-color-text-muted);\n",
              "}\n",
              "\n",
              "#sk-container-id-2 label.sk-toggleable__label-arrow:before {\n",
              "  /* Arrow on the left of the label */\n",
              "  content: \"▸\";\n",
              "  float: left;\n",
              "  margin-right: 0.25em;\n",
              "  color: var(--sklearn-color-icon);\n",
              "}\n",
              "\n",
              "#sk-container-id-2 label.sk-toggleable__label-arrow:hover:before {\n",
              "  color: var(--sklearn-color-text);\n",
              "}\n",
              "\n",
              "/* Toggleable content - dropdown */\n",
              "\n",
              "#sk-container-id-2 div.sk-toggleable__content {\n",
              "  max-height: 0;\n",
              "  max-width: 0;\n",
              "  overflow: hidden;\n",
              "  text-align: left;\n",
              "  /* unfitted */\n",
              "  background-color: var(--sklearn-color-unfitted-level-0);\n",
              "}\n",
              "\n",
              "#sk-container-id-2 div.sk-toggleable__content.fitted {\n",
              "  /* fitted */\n",
              "  background-color: var(--sklearn-color-fitted-level-0);\n",
              "}\n",
              "\n",
              "#sk-container-id-2 div.sk-toggleable__content pre {\n",
              "  margin: 0.2em;\n",
              "  border-radius: 0.25em;\n",
              "  color: var(--sklearn-color-text);\n",
              "  /* unfitted */\n",
              "  background-color: var(--sklearn-color-unfitted-level-0);\n",
              "}\n",
              "\n",
              "#sk-container-id-2 div.sk-toggleable__content.fitted pre {\n",
              "  /* unfitted */\n",
              "  background-color: var(--sklearn-color-fitted-level-0);\n",
              "}\n",
              "\n",
              "#sk-container-id-2 input.sk-toggleable__control:checked~div.sk-toggleable__content {\n",
              "  /* Expand drop-down */\n",
              "  max-height: 200px;\n",
              "  max-width: 100%;\n",
              "  overflow: auto;\n",
              "}\n",
              "\n",
              "#sk-container-id-2 input.sk-toggleable__control:checked~label.sk-toggleable__label-arrow:before {\n",
              "  content: \"▾\";\n",
              "}\n",
              "\n",
              "/* Pipeline/ColumnTransformer-specific style */\n",
              "\n",
              "#sk-container-id-2 div.sk-label input.sk-toggleable__control:checked~label.sk-toggleable__label {\n",
              "  color: var(--sklearn-color-text);\n",
              "  background-color: var(--sklearn-color-unfitted-level-2);\n",
              "}\n",
              "\n",
              "#sk-container-id-2 div.sk-label.fitted input.sk-toggleable__control:checked~label.sk-toggleable__label {\n",
              "  background-color: var(--sklearn-color-fitted-level-2);\n",
              "}\n",
              "\n",
              "/* Estimator-specific style */\n",
              "\n",
              "/* Colorize estimator box */\n",
              "#sk-container-id-2 div.sk-estimator input.sk-toggleable__control:checked~label.sk-toggleable__label {\n",
              "  /* unfitted */\n",
              "  background-color: var(--sklearn-color-unfitted-level-2);\n",
              "}\n",
              "\n",
              "#sk-container-id-2 div.sk-estimator.fitted input.sk-toggleable__control:checked~label.sk-toggleable__label {\n",
              "  /* fitted */\n",
              "  background-color: var(--sklearn-color-fitted-level-2);\n",
              "}\n",
              "\n",
              "#sk-container-id-2 div.sk-label label.sk-toggleable__label,\n",
              "#sk-container-id-2 div.sk-label label {\n",
              "  /* The background is the default theme color */\n",
              "  color: var(--sklearn-color-text-on-default-background);\n",
              "}\n",
              "\n",
              "/* On hover, darken the color of the background */\n",
              "#sk-container-id-2 div.sk-label:hover label.sk-toggleable__label {\n",
              "  color: var(--sklearn-color-text);\n",
              "  background-color: var(--sklearn-color-unfitted-level-2);\n",
              "}\n",
              "\n",
              "/* Label box, darken color on hover, fitted */\n",
              "#sk-container-id-2 div.sk-label.fitted:hover label.sk-toggleable__label.fitted {\n",
              "  color: var(--sklearn-color-text);\n",
              "  background-color: var(--sklearn-color-fitted-level-2);\n",
              "}\n",
              "\n",
              "/* Estimator label */\n",
              "\n",
              "#sk-container-id-2 div.sk-label label {\n",
              "  font-family: monospace;\n",
              "  font-weight: bold;\n",
              "  display: inline-block;\n",
              "  line-height: 1.2em;\n",
              "}\n",
              "\n",
              "#sk-container-id-2 div.sk-label-container {\n",
              "  text-align: center;\n",
              "}\n",
              "\n",
              "/* Estimator-specific */\n",
              "#sk-container-id-2 div.sk-estimator {\n",
              "  font-family: monospace;\n",
              "  border: 1px dotted var(--sklearn-color-border-box);\n",
              "  border-radius: 0.25em;\n",
              "  box-sizing: border-box;\n",
              "  margin-bottom: 0.5em;\n",
              "  /* unfitted */\n",
              "  background-color: var(--sklearn-color-unfitted-level-0);\n",
              "}\n",
              "\n",
              "#sk-container-id-2 div.sk-estimator.fitted {\n",
              "  /* fitted */\n",
              "  background-color: var(--sklearn-color-fitted-level-0);\n",
              "}\n",
              "\n",
              "/* on hover */\n",
              "#sk-container-id-2 div.sk-estimator:hover {\n",
              "  /* unfitted */\n",
              "  background-color: var(--sklearn-color-unfitted-level-2);\n",
              "}\n",
              "\n",
              "#sk-container-id-2 div.sk-estimator.fitted:hover {\n",
              "  /* fitted */\n",
              "  background-color: var(--sklearn-color-fitted-level-2);\n",
              "}\n",
              "\n",
              "/* Specification for estimator info (e.g. \"i\" and \"?\") */\n",
              "\n",
              "/* Common style for \"i\" and \"?\" */\n",
              "\n",
              ".sk-estimator-doc-link,\n",
              "a:link.sk-estimator-doc-link,\n",
              "a:visited.sk-estimator-doc-link {\n",
              "  float: right;\n",
              "  font-size: smaller;\n",
              "  line-height: 1em;\n",
              "  font-family: monospace;\n",
              "  background-color: var(--sklearn-color-background);\n",
              "  border-radius: 1em;\n",
              "  height: 1em;\n",
              "  width: 1em;\n",
              "  text-decoration: none !important;\n",
              "  margin-left: 0.5em;\n",
              "  text-align: center;\n",
              "  /* unfitted */\n",
              "  border: var(--sklearn-color-unfitted-level-1) 1pt solid;\n",
              "  color: var(--sklearn-color-unfitted-level-1);\n",
              "}\n",
              "\n",
              ".sk-estimator-doc-link.fitted,\n",
              "a:link.sk-estimator-doc-link.fitted,\n",
              "a:visited.sk-estimator-doc-link.fitted {\n",
              "  /* fitted */\n",
              "  border: var(--sklearn-color-fitted-level-1) 1pt solid;\n",
              "  color: var(--sklearn-color-fitted-level-1);\n",
              "}\n",
              "\n",
              "/* On hover */\n",
              "div.sk-estimator:hover .sk-estimator-doc-link:hover,\n",
              ".sk-estimator-doc-link:hover,\n",
              "div.sk-label-container:hover .sk-estimator-doc-link:hover,\n",
              ".sk-estimator-doc-link:hover {\n",
              "  /* unfitted */\n",
              "  background-color: var(--sklearn-color-unfitted-level-3);\n",
              "  color: var(--sklearn-color-background);\n",
              "  text-decoration: none;\n",
              "}\n",
              "\n",
              "div.sk-estimator.fitted:hover .sk-estimator-doc-link.fitted:hover,\n",
              ".sk-estimator-doc-link.fitted:hover,\n",
              "div.sk-label-container:hover .sk-estimator-doc-link.fitted:hover,\n",
              ".sk-estimator-doc-link.fitted:hover {\n",
              "  /* fitted */\n",
              "  background-color: var(--sklearn-color-fitted-level-3);\n",
              "  color: var(--sklearn-color-background);\n",
              "  text-decoration: none;\n",
              "}\n",
              "\n",
              "/* Span, style for the box shown on hovering the info icon */\n",
              ".sk-estimator-doc-link span {\n",
              "  display: none;\n",
              "  z-index: 9999;\n",
              "  position: relative;\n",
              "  font-weight: normal;\n",
              "  right: .2ex;\n",
              "  padding: .5ex;\n",
              "  margin: .5ex;\n",
              "  width: min-content;\n",
              "  min-width: 20ex;\n",
              "  max-width: 50ex;\n",
              "  color: var(--sklearn-color-text);\n",
              "  box-shadow: 2pt 2pt 4pt #999;\n",
              "  /* unfitted */\n",
              "  background: var(--sklearn-color-unfitted-level-0);\n",
              "  border: .5pt solid var(--sklearn-color-unfitted-level-3);\n",
              "}\n",
              "\n",
              ".sk-estimator-doc-link.fitted span {\n",
              "  /* fitted */\n",
              "  background: var(--sklearn-color-fitted-level-0);\n",
              "  border: var(--sklearn-color-fitted-level-3);\n",
              "}\n",
              "\n",
              ".sk-estimator-doc-link:hover span {\n",
              "  display: block;\n",
              "}\n",
              "\n",
              "/* \"?\"-specific style due to the `<a>` HTML tag */\n",
              "\n",
              "#sk-container-id-2 a.estimator_doc_link {\n",
              "  float: right;\n",
              "  font-size: 1rem;\n",
              "  line-height: 1em;\n",
              "  font-family: monospace;\n",
              "  background-color: var(--sklearn-color-background);\n",
              "  border-radius: 1rem;\n",
              "  height: 1rem;\n",
              "  width: 1rem;\n",
              "  text-decoration: none;\n",
              "  /* unfitted */\n",
              "  color: var(--sklearn-color-unfitted-level-1);\n",
              "  border: var(--sklearn-color-unfitted-level-1) 1pt solid;\n",
              "}\n",
              "\n",
              "#sk-container-id-2 a.estimator_doc_link.fitted {\n",
              "  /* fitted */\n",
              "  border: var(--sklearn-color-fitted-level-1) 1pt solid;\n",
              "  color: var(--sklearn-color-fitted-level-1);\n",
              "}\n",
              "\n",
              "/* On hover */\n",
              "#sk-container-id-2 a.estimator_doc_link:hover {\n",
              "  /* unfitted */\n",
              "  background-color: var(--sklearn-color-unfitted-level-3);\n",
              "  color: var(--sklearn-color-background);\n",
              "  text-decoration: none;\n",
              "}\n",
              "\n",
              "#sk-container-id-2 a.estimator_doc_link.fitted:hover {\n",
              "  /* fitted */\n",
              "  background-color: var(--sklearn-color-fitted-level-3);\n",
              "}\n",
              "</style><div id=\"sk-container-id-2\" class=\"sk-top-container\"><div class=\"sk-text-repr-fallback\"><pre>XGBClassifier(base_score=None, booster=None, callbacks=None,\n",
              "              colsample_bylevel=None, colsample_bynode=None,\n",
              "              colsample_bytree=None, device=None, early_stopping_rounds=None,\n",
              "              enable_categorical=False, eval_metric=&#x27;logloss&#x27;,\n",
              "              feature_types=None, feature_weights=None, gamma=None,\n",
              "              grow_policy=None, importance_type=None,\n",
              "              interaction_constraints=None, learning_rate=None, max_bin=None,\n",
              "              max_cat_threshold=None, max_cat_to_onehot=None,\n",
              "              max_delta_step=None, max_depth=None, max_leaves=None,\n",
              "              min_child_weight=None, missing=nan, monotone_constraints=None,\n",
              "              multi_strategy=None, n_estimators=None, n_jobs=None,\n",
              "              num_parallel_tree=None, ...)</pre><b>In a Jupyter environment, please rerun this cell to show the HTML representation or trust the notebook. <br />On GitHub, the HTML representation is unable to render, please try loading this page with nbviewer.org.</b></div><div class=\"sk-container\" hidden><div class=\"sk-item\"><div class=\"sk-estimator fitted sk-toggleable\"><input class=\"sk-toggleable__control sk-hidden--visually\" id=\"sk-estimator-id-2\" type=\"checkbox\" checked><label for=\"sk-estimator-id-2\" class=\"sk-toggleable__label fitted sk-toggleable__label-arrow\"><div><div>XGBClassifier</div></div><div><a class=\"sk-estimator-doc-link fitted\" rel=\"noreferrer\" target=\"_blank\" href=\"https://xgboost.readthedocs.io/en/release_3.0.0/python/python_api.html#xgboost.XGBClassifier\">?<span>Documentation for XGBClassifier</span></a><span class=\"sk-estimator-doc-link fitted\">i<span>Fitted</span></span></div></label><div class=\"sk-toggleable__content fitted\"><pre>XGBClassifier(base_score=None, booster=None, callbacks=None,\n",
              "              colsample_bylevel=None, colsample_bynode=None,\n",
              "              colsample_bytree=None, device=None, early_stopping_rounds=None,\n",
              "              enable_categorical=False, eval_metric=&#x27;logloss&#x27;,\n",
              "              feature_types=None, feature_weights=None, gamma=None,\n",
              "              grow_policy=None, importance_type=None,\n",
              "              interaction_constraints=None, learning_rate=None, max_bin=None,\n",
              "              max_cat_threshold=None, max_cat_to_onehot=None,\n",
              "              max_delta_step=None, max_depth=None, max_leaves=None,\n",
              "              min_child_weight=None, missing=nan, monotone_constraints=None,\n",
              "              multi_strategy=None, n_estimators=None, n_jobs=None,\n",
              "              num_parallel_tree=None, ...)</pre></div> </div></div></div></div>"
            ]
          },
          "metadata": {},
          "execution_count": 19
        }
      ],
      "source": [
        "xgb_classifier_full = XGBClassifier(eval_metric='logloss', random_state=42) # 'logloss' for binary classification\n",
        "xgb_classifier_full.fit(X_train_full, y_train_full)"
      ]
    },
    {
      "cell_type": "markdown",
      "metadata": {
        "id": "bNUxBhp4NgCh"
      },
      "source": [
        "**Evaluate Initial XGBoost Model (Full Dataset)**"
      ]
    },
    {
      "cell_type": "code",
      "execution_count": null,
      "metadata": {
        "colab": {
          "base_uri": "https://localhost:8080/"
        },
        "id": "aaji2lP8NgCh",
        "outputId": "f996ed7f-b7b7-43f1-ba43-ca5dc7261c7b"
      },
      "outputs": [
        {
          "output_type": "stream",
          "name": "stdout",
          "text": [
            "XGBoost (Full Data) - Accuracy: 0.9258\n",
            "XGBoost (Full Data) - Precision: 0.8553\n",
            "XGBoost (Full Data) - Recall: 0.7647\n",
            "XGBoost (Full Data) - F1-Score: 0.8075\n"
          ]
        }
      ],
      "source": [
        "y_pred_xgb_full = xgb_classifier_full.predict(X_test_full)\n",
        "\n",
        "accuracy_xgb_full = accuracy_score(y_test_full, y_pred_xgb_full)\n",
        "precision_xgb_full = precision_score(y_test_full, y_pred_xgb_full)\n",
        "recall_xgb_full = recall_score(y_test_full, y_pred_xgb_full)\n",
        "f1_xgb_full = f1_score(y_test_full, y_pred_xgb_full)\n",
        "\n",
        "print(f\"XGBoost (Full Data) - Accuracy: {accuracy_xgb_full:.4f}\")\n",
        "print(f\"XGBoost (Full Data) - Precision: {precision_xgb_full:.4f}\")\n",
        "print(f\"XGBoost (Full Data) - Recall: {recall_xgb_full:.4f}\")\n",
        "print(f\"XGBoost (Full Data) - F1-Score: {f1_xgb_full:.4f}\")"
      ]
    },
    {
      "cell_type": "code",
      "execution_count": null,
      "metadata": {
        "colab": {
          "base_uri": "https://localhost:8080/",
          "height": 480
        },
        "id": "1p3yXZWPRsLO",
        "outputId": "debadfb3-8a8d-4d5d-9c55-b0930d27880d"
      },
      "outputs": [
        {
          "output_type": "display_data",
          "data": {
            "text/plain": [
              "<Figure size 640x480 with 2 Axes>"
            ],
            "image/png": "[encoded data removed]"
          },
          "metadata": {}
        }
      ],
      "source": [
        "# Confusion Matrix\n",
        "cm_xgb_full = confusion_matrix(y_test_full, y_pred_xgb_full)\n",
        "sns.heatmap(cm_xgb_full, annot=True, fmt='d', cmap='Blues')\n",
        "plt.title('Confusion Matrix - XGBoost (Full Data)')\n",
        "plt.xlabel('Predicted')\n",
        "plt.ylabel('True')\n",
        "plt.show()"
      ]
    },
    {
      "cell_type": "code",
      "execution_count": null,
      "metadata": {
        "colab": {
          "base_uri": "https://localhost:8080/"
        },
        "id": "kpn4FEC3ygtl",
        "outputId": "3a3cfee1-9370-435f-89a7-ab7b64020f8d"
      },
      "outputs": [
        {
          "output_type": "stream",
          "name": "stdout",
          "text": [
            "ROC-AUC Score: 0.8658\n"
          ]
        }
      ],
      "source": [
        "calculate_roc_auc(y_test_full, y_pred_xgb_full)"
      ]
    },
    {
      "cell_type": "markdown",
      "metadata": {
        "id": "OcHDzzME_CRT"
      },
      "source": [
        "XGBoost performed better than Decision Tree overall."
      ]
    },
    {
      "cell_type": "markdown",
      "metadata": {
        "id": "ltEkbHa-YxWq"
      },
      "source": [
        "# **3. Feature Selection: Identifying Optimal Predictor Subsets**"
      ]
    },
    {
      "cell_type": "markdown",
      "metadata": {
        "id": "SCYZTXU8D4jE"
      },
      "source": [
        "**3.1 Filter Methods Implementation**"
      ]
    },
    {
      "cell_type": "markdown",
      "metadata": {
        "id": "xkYu-XUFEBDU"
      },
      "source": [
        "**3.1.1 Variance Thresholding**\n"
      ]
    },
    {
      "cell_type": "code",
      "execution_count": null,
      "metadata": {
        "colab": {
          "base_uri": "https://localhost:8080/"
        },
        "id": "_3_HfsW3Ih8m",
        "outputId": "bb06d8f8-9ced-4cba-b6a7-aaaecaeb5610"
      },
      "outputs": [
        {
          "output_type": "stream",
          "name": "stdout",
          "text": [
            "Constant features removed: []\n",
            "Shape after removing constant features: (3762, 35)\n",
            "Quasi-constant features removed (threshold=0.95): ['Age_Group_AGE 80-100', 'Chronic_Diseases_COPD', 'Chronic_Diseases_Dyslipidemia', 'Chronic_Diseases_KAH', 'Job_farmer', 'Job_health care personel', 'Job_no_job', 'Job_security_personel', 'Job_self-employment', 'Job_teacher', 'Work_Status_unknown']\n",
            "Shape after removing quasi-constant features: (3762, 24)\n"
          ]
        }
      ],
      "source": [
        "from sklearn.feature_selection import VarianceThreshold\n",
        "\n",
        "# Identify and remove constant features (threshold=0)\n",
        "selector_constant = VarianceThreshold(threshold=0)\n",
        "selector_constant.fit(X_train_full)\n",
        "constant_features = X_train_full.columns[~selector_constant.get_support()]\n",
        "X_train_no_constant = selector_constant.transform(X_train_full)\n",
        "X_test_no_constant = selector_constant.transform(X_test_full)\n",
        "\n",
        "print(f\"Constant features removed: {list(constant_features)}\")\n",
        "print(f\"Shape after removing constant features: {X_train_no_constant.shape}\")\n",
        "\n",
        "# Identify and remove quasi-constant features (e.g., threshold=0.98)\n",
        "# Re-convert to DataFrame to use pandas functionality for quasi-constant check\n",
        "X_train_temp = pd.DataFrame(X_train_no_constant, columns=X_train_full.columns[selector_constant.get_support()])\n",
        "X_test_temp = pd.DataFrame(X_test_no_constant, columns=X_test_full.columns[selector_constant.get_support()])\n",
        "\n",
        "quasi_constant_features = []\n",
        "threshold_quasi = 0.95\n",
        "for feature in X_train_temp.columns:\n",
        "    predominant = (X_train_temp[feature].value_counts(normalize=True).iloc[0])\n",
        "    if predominant >= threshold_quasi:\n",
        "        quasi_constant_features.append(feature)\n",
        "\n",
        "X_train_no_quasi = X_train_temp.drop(columns=quasi_constant_features)\n",
        "X_test_no_quasi = X_test_temp.drop(columns=quasi_constant_features)\n",
        "\n",
        "print(f\"Quasi-constant features removed (threshold={threshold_quasi}): {quasi_constant_features}\")\n",
        "print(f\"Shape after removing quasi-constant features: {X_train_no_quasi.shape}\")\n",
        "\n",
        "# Update X_train and X_test for subsequent steps\n",
        "X_train_filtered = X_train_no_quasi\n",
        "X_test_filtered = X_test_no_quasi"
      ]
    },
    {
      "cell_type": "markdown",
      "metadata": {
        "id": "Zynxhcsh_O8J"
      },
      "source": [
        "The variance thresholding analysis identified no constant features. However, a significant number of quasi-constant features were identified and removed. This indicates that many of the one-hot encoded categorical features (Age_Group_AGE_80-100, Chronic_Diseases_COPD, Chronic_Diseases_Dyslipidemia, Chronic_Diseases_KAH, Job_farmer, Job_security_personel, Job_health care personel, Job_no_job, Job_self-employment, Job_teacher and Work_Status_unknown) have a predominant value (either 0 or 1) for over 95% of the instances in the training set. While these features might have some discriminatory power if their minority class is highly predictive, their near-constant nature suggests they contribute very little variance to the dataset, and their removal simplifies the model without significant loss of information. The dataset's dimensionality was reduced from 38 to 26 features."
      ]
    },
    {
      "cell_type": "markdown",
      "metadata": {
        "id": "KoCIu-MdBog0"
      },
      "source": [
        "**Calculating  ROC AUC Score After Quasi-Constant features removal**"
      ]
    },
    {
      "cell_type": "code",
      "execution_count": null,
      "metadata": {
        "id": "4Ril1EG_9FqN"
      },
      "outputs": [],
      "source": [
        "X = X_train_filtered.copy()\n",
        "y = y_train_full.copy()"
      ]
    },
    {
      "cell_type": "code",
      "execution_count": null,
      "metadata": {
        "id": "A3vBimcB9Gca"
      },
      "outputs": [],
      "source": [
        "X_train_no_quasi, X_test_no_quasi, y_train_no_quasi, y_test_no_quasi = train_test_split(X, y, test_size=0.25, random_state=42, stratify=y)"
      ]
    },
    {
      "cell_type": "code",
      "execution_count": null,
      "metadata": {
        "colab": {
          "base_uri": "https://localhost:8080/",
          "height": 257
        },
        "id": "JYfXdLlt_1EF",
        "outputId": "ffc150ae-faa6-469d-8730-c83c97bfbd2d"
      },
      "outputs": [
        {
          "output_type": "execute_result",
          "data": {
            "text/plain": [
              "XGBClassifier(base_score=None, booster=None, callbacks=None,\n",
              "              colsample_bylevel=None, colsample_bynode=None,\n",
              "              colsample_bytree=None, device=None, early_stopping_rounds=None,\n",
              "              enable_categorical=False, eval_metric='logloss',\n",
              "              feature_types=None, feature_weights=None, gamma=None,\n",
              "              grow_policy=None, importance_type=None,\n",
              "              interaction_constraints=None, learning_rate=None, max_bin=None,\n",
              "              max_cat_threshold=None, max_cat_to_onehot=None,\n",
              "              max_delta_step=None, max_depth=None, max_leaves=None,\n",
              "              min_child_weight=None, missing=nan, monotone_constraints=None,\n",
              "              multi_strategy=None, n_estimators=None, n_jobs=None,\n",
              "              num_parallel_tree=None, ...)"
            ],
            "text/html": [
              "<style>#sk-container-id-3 {\n",
              "  /* Definition of color scheme common for light and dark mode */\n",
              "  --sklearn-color-text: #000;\n",
              "  --sklearn-color-text-muted: #666;\n",
              "  --sklearn-color-line: gray;\n",
              "  /* Definition of color scheme for unfitted estimators */\n",
              "  --sklearn-color-unfitted-level-0: #fff5e6;\n",
              "  --sklearn-color-unfitted-level-1: #f6e4d2;\n",
              "  --sklearn-color-unfitted-level-2: #ffe0b3;\n",
              "  --sklearn-color-unfitted-level-3: chocolate;\n",
              "  /* Definition of color scheme for fitted estimators */\n",
              "  --sklearn-color-fitted-level-0: #f0f8ff;\n",
              "  --sklearn-color-fitted-level-1: #d4ebff;\n",
              "  --sklearn-color-fitted-level-2: #b3dbfd;\n",
              "  --sklearn-color-fitted-level-3: cornflowerblue;\n",
              "\n",
              "  /* Specific color for light theme */\n",
              "  --sklearn-color-text-on-default-background: var(--sg-text-color, var(--theme-code-foreground, var(--jp-content-font-color1, black)));\n",
              "  --sklearn-color-background: var(--sg-background-color, var(--theme-background, var(--jp-layout-color0, white)));\n",
              "  --sklearn-color-border-box: var(--sg-text-color, var(--theme-code-foreground, var(--jp-content-font-color1, black)));\n",
              "  --sklearn-color-icon: #696969;\n",
              "\n",
              "  @media (prefers-color-scheme: dark) {\n",
              "    /* Redefinition of color scheme for dark theme */\n",
              "    --sklearn-color-text-on-default-background: var(--sg-text-color, var(--theme-code-foreground, var(--jp-content-font-color1, white)));\n",
              "    --sklearn-color-background: var(--sg-background-color, var(--theme-background, var(--jp-layout-color0, #111)));\n",
              "    --sklearn-color-border-box: var(--sg-text-color, var(--theme-code-foreground, var(--jp-content-font-color1, white)));\n",
              "    --sklearn-color-icon: #878787;\n",
              "  }\n",
              "}\n",
              "\n",
              "#sk-container-id-3 {\n",
              "  color: var(--sklearn-color-text);\n",
              "}\n",
              "\n",
              "#sk-container-id-3 pre {\n",
              "  padding: 0;\n",
              "}\n",
              "\n",
              "#sk-container-id-3 input.sk-hidden--visually {\n",
              "  border: 0;\n",
              "  clip: rect(1px 1px 1px 1px);\n",
              "  clip: rect(1px, 1px, 1px, 1px);\n",
              "  height: 1px;\n",
              "  margin: -1px;\n",
              "  overflow: hidden;\n",
              "  padding: 0;\n",
              "  position: absolute;\n",
              "  width: 1px;\n",
              "}\n",
              "\n",
              "#sk-container-id-3 div.sk-dashed-wrapped {\n",
              "  border: 1px dashed var(--sklearn-color-line);\n",
              "  margin: 0 0.4em 0.5em 0.4em;\n",
              "  box-sizing: border-box;\n",
              "  padding-bottom: 0.4em;\n",
              "  background-color: var(--sklearn-color-background);\n",
              "}\n",
              "\n",
              "#sk-container-id-3 div.sk-container {\n",
              "  /* jupyter's `normalize.less` sets `[hidden] { display: none; }`\n",
              "     but bootstrap.min.css set `[hidden] { display: none !important; }`\n",
              "     so we also need the `!important` here to be able to override the\n",
              "     default hidden behavior on the sphinx rendered scikit-learn.org.\n",
              "     See: https://github.com/scikit-learn/scikit-learn/issues/21755 */\n",
              "  display: inline-block !important;\n",
              "  position: relative;\n",
              "}\n",
              "\n",
              "#sk-container-id-3 div.sk-text-repr-fallback {\n",
              "  display: none;\n",
              "}\n",
              "\n",
              "div.sk-parallel-item,\n",
              "div.sk-serial,\n",
              "div.sk-item {\n",
              "  /* draw centered vertical line to link estimators */\n",
              "  background-image: linear-gradient(var(--sklearn-color-text-on-default-background), var(--sklearn-color-text-on-default-background));\n",
              "  background-size: 2px 100%;\n",
              "  background-repeat: no-repeat;\n",
              "  background-position: center center;\n",
              "}\n",
              "\n",
              "/* Parallel-specific style estimator block */\n",
              "\n",
              "#sk-container-id-3 div.sk-parallel-item::after {\n",
              "  content: \"\";\n",
              "  width: 100%;\n",
              "  border-bottom: 2px solid var(--sklearn-color-text-on-default-background);\n",
              "  flex-grow: 1;\n",
              "}\n",
              "\n",
              "#sk-container-id-3 div.sk-parallel {\n",
              "  display: flex;\n",
              "  align-items: stretch;\n",
              "  justify-content: center;\n",
              "  background-color: var(--sklearn-color-background);\n",
              "  position: relative;\n",
              "}\n",
              "\n",
              "#sk-container-id-3 div.sk-parallel-item {\n",
              "  display: flex;\n",
              "  flex-direction: column;\n",
              "}\n",
              "\n",
              "#sk-container-id-3 div.sk-parallel-item:first-child::after {\n",
              "  align-self: flex-end;\n",
              "  width: 50%;\n",
              "}\n",
              "\n",
              "#sk-container-id-3 div.sk-parallel-item:last-child::after {\n",
              "  align-self: flex-start;\n",
              "  width: 50%;\n",
              "}\n",
              "\n",
              "#sk-container-id-3 div.sk-parallel-item:only-child::after {\n",
              "  width: 0;\n",
              "}\n",
              "\n",
              "/* Serial-specific style estimator block */\n",
              "\n",
              "#sk-container-id-3 div.sk-serial {\n",
              "  display: flex;\n",
              "  flex-direction: column;\n",
              "  align-items: center;\n",
              "  background-color: var(--sklearn-color-background);\n",
              "  padding-right: 1em;\n",
              "  padding-left: 1em;\n",
              "}\n",
              "\n",
              "\n",
              "/* Toggleable style: style used for estimator/Pipeline/ColumnTransformer box that is\n",
              "clickable and can be expanded/collapsed.\n",
              "- Pipeline and ColumnTransformer use this feature and define the default style\n",
              "- Estimators will overwrite some part of the style using the `sk-estimator` class\n",
              "*/\n",
              "\n",
              "/* Pipeline and ColumnTransformer style (default) */\n",
              "\n",
              "#sk-container-id-3 div.sk-toggleable {\n",
              "  /* Default theme specific background. It is overwritten whether we have a\n",
              "  specific estimator or a Pipeline/ColumnTransformer */\n",
              "  background-color: var(--sklearn-color-background);\n",
              "}\n",
              "\n",
              "/* Toggleable label */\n",
              "#sk-container-id-3 label.sk-toggleable__label {\n",
              "  cursor: pointer;\n",
              "  display: flex;\n",
              "  width: 100%;\n",
              "  margin-bottom: 0;\n",
              "  padding: 0.5em;\n",
              "  box-sizing: border-box;\n",
              "  text-align: center;\n",
              "  align-items: start;\n",
              "  justify-content: space-between;\n",
              "  gap: 0.5em;\n",
              "}\n",
              "\n",
              "#sk-container-id-3 label.sk-toggleable__label .caption {\n",
              "  font-size: 0.6rem;\n",
              "  font-weight: lighter;\n",
              "  color: var(--sklearn-color-text-muted);\n",
              "}\n",
              "\n",
              "#sk-container-id-3 label.sk-toggleable__label-arrow:before {\n",
              "  /* Arrow on the left of the label */\n",
              "  content: \"▸\";\n",
              "  float: left;\n",
              "  margin-right: 0.25em;\n",
              "  color: var(--sklearn-color-icon);\n",
              "}\n",
              "\n",
              "#sk-container-id-3 label.sk-toggleable__label-arrow:hover:before {\n",
              "  color: var(--sklearn-color-text);\n",
              "}\n",
              "\n",
              "/* Toggleable content - dropdown */\n",
              "\n",
              "#sk-container-id-3 div.sk-toggleable__content {\n",
              "  max-height: 0;\n",
              "  max-width: 0;\n",
              "  overflow: hidden;\n",
              "  text-align: left;\n",
              "  /* unfitted */\n",
              "  background-color: var(--sklearn-color-unfitted-level-0);\n",
              "}\n",
              "\n",
              "#sk-container-id-3 div.sk-toggleable__content.fitted {\n",
              "  /* fitted */\n",
              "  background-color: var(--sklearn-color-fitted-level-0);\n",
              "}\n",
              "\n",
              "#sk-container-id-3 div.sk-toggleable__content pre {\n",
              "  margin: 0.2em;\n",
              "  border-radius: 0.25em;\n",
              "  color: var(--sklearn-color-text);\n",
              "  /* unfitted */\n",
              "  background-color: var(--sklearn-color-unfitted-level-0);\n",
              "}\n",
              "\n",
              "#sk-container-id-3 div.sk-toggleable__content.fitted pre {\n",
              "  /* unfitted */\n",
              "  background-color: var(--sklearn-color-fitted-level-0);\n",
              "}\n",
              "\n",
              "#sk-container-id-3 input.sk-toggleable__control:checked~div.sk-toggleable__content {\n",
              "  /* Expand drop-down */\n",
              "  max-height: 200px;\n",
              "  max-width: 100%;\n",
              "  overflow: auto;\n",
              "}\n",
              "\n",
              "#sk-container-id-3 input.sk-toggleable__control:checked~label.sk-toggleable__label-arrow:before {\n",
              "  content: \"▾\";\n",
              "}\n",
              "\n",
              "/* Pipeline/ColumnTransformer-specific style */\n",
              "\n",
              "#sk-container-id-3 div.sk-label input.sk-toggleable__control:checked~label.sk-toggleable__label {\n",
              "  color: var(--sklearn-color-text);\n",
              "  background-color: var(--sklearn-color-unfitted-level-2);\n",
              "}\n",
              "\n",
              "#sk-container-id-3 div.sk-label.fitted input.sk-toggleable__control:checked~label.sk-toggleable__label {\n",
              "  background-color: var(--sklearn-color-fitted-level-2);\n",
              "}\n",
              "\n",
              "/* Estimator-specific style */\n",
              "\n",
              "/* Colorize estimator box */\n",
              "#sk-container-id-3 div.sk-estimator input.sk-toggleable__control:checked~label.sk-toggleable__label {\n",
              "  /* unfitted */\n",
              "  background-color: var(--sklearn-color-unfitted-level-2);\n",
              "}\n",
              "\n",
              "#sk-container-id-3 div.sk-estimator.fitted input.sk-toggleable__control:checked~label.sk-toggleable__label {\n",
              "  /* fitted */\n",
              "  background-color: var(--sklearn-color-fitted-level-2);\n",
              "}\n",
              "\n",
              "#sk-container-id-3 div.sk-label label.sk-toggleable__label,\n",
              "#sk-container-id-3 div.sk-label label {\n",
              "  /* The background is the default theme color */\n",
              "  color: var(--sklearn-color-text-on-default-background);\n",
              "}\n",
              "\n",
              "/* On hover, darken the color of the background */\n",
              "#sk-container-id-3 div.sk-label:hover label.sk-toggleable__label {\n",
              "  color: var(--sklearn-color-text);\n",
              "  background-color: var(--sklearn-color-unfitted-level-2);\n",
              "}\n",
              "\n",
              "/* Label box, darken color on hover, fitted */\n",
              "#sk-container-id-3 div.sk-label.fitted:hover label.sk-toggleable__label.fitted {\n",
              "  color: var(--sklearn-color-text);\n",
              "  background-color: var(--sklearn-color-fitted-level-2);\n",
              "}\n",
              "\n",
              "/* Estimator label */\n",
              "\n",
              "#sk-container-id-3 div.sk-label label {\n",
              "  font-family: monospace;\n",
              "  font-weight: bold;\n",
              "  display: inline-block;\n",
              "  line-height: 1.2em;\n",
              "}\n",
              "\n",
              "#sk-container-id-3 div.sk-label-container {\n",
              "  text-align: center;\n",
              "}\n",
              "\n",
              "/* Estimator-specific */\n",
              "#sk-container-id-3 div.sk-estimator {\n",
              "  font-family: monospace;\n",
              "  border: 1px dotted var(--sklearn-color-border-box);\n",
              "  border-radius: 0.25em;\n",
              "  box-sizing: border-box;\n",
              "  margin-bottom: 0.5em;\n",
              "  /* unfitted */\n",
              "  background-color: var(--sklearn-color-unfitted-level-0);\n",
              "}\n",
              "\n",
              "#sk-container-id-3 div.sk-estimator.fitted {\n",
              "  /* fitted */\n",
              "  background-color: var(--sklearn-color-fitted-level-0);\n",
              "}\n",
              "\n",
              "/* on hover */\n",
              "#sk-container-id-3 div.sk-estimator:hover {\n",
              "  /* unfitted */\n",
              "  background-color: var(--sklearn-color-unfitted-level-2);\n",
              "}\n",
              "\n",
              "#sk-container-id-3 div.sk-estimator.fitted:hover {\n",
              "  /* fitted */\n",
              "  background-color: var(--sklearn-color-fitted-level-2);\n",
              "}\n",
              "\n",
              "/* Specification for estimator info (e.g. \"i\" and \"?\") */\n",
              "\n",
              "/* Common style for \"i\" and \"?\" */\n",
              "\n",
              ".sk-estimator-doc-link,\n",
              "a:link.sk-estimator-doc-link,\n",
              "a:visited.sk-estimator-doc-link {\n",
              "  float: right;\n",
              "  font-size: smaller;\n",
              "  line-height: 1em;\n",
              "  font-family: monospace;\n",
              "  background-color: var(--sklearn-color-background);\n",
              "  border-radius: 1em;\n",
              "  height: 1em;\n",
              "  width: 1em;\n",
              "  text-decoration: none !important;\n",
              "  margin-left: 0.5em;\n",
              "  text-align: center;\n",
              "  /* unfitted */\n",
              "  border: var(--sklearn-color-unfitted-level-1) 1pt solid;\n",
              "  color: var(--sklearn-color-unfitted-level-1);\n",
              "}\n",
              "\n",
              ".sk-estimator-doc-link.fitted,\n",
              "a:link.sk-estimator-doc-link.fitted,\n",
              "a:visited.sk-estimator-doc-link.fitted {\n",
              "  /* fitted */\n",
              "  border: var(--sklearn-color-fitted-level-1) 1pt solid;\n",
              "  color: var(--sklearn-color-fitted-level-1);\n",
              "}\n",
              "\n",
              "/* On hover */\n",
              "div.sk-estimator:hover .sk-estimator-doc-link:hover,\n",
              ".sk-estimator-doc-link:hover,\n",
              "div.sk-label-container:hover .sk-estimator-doc-link:hover,\n",
              ".sk-estimator-doc-link:hover {\n",
              "  /* unfitted */\n",
              "  background-color: var(--sklearn-color-unfitted-level-3);\n",
              "  color: var(--sklearn-color-background);\n",
              "  text-decoration: none;\n",
              "}\n",
              "\n",
              "div.sk-estimator.fitted:hover .sk-estimator-doc-link.fitted:hover,\n",
              ".sk-estimator-doc-link.fitted:hover,\n",
              "div.sk-label-container:hover .sk-estimator-doc-link.fitted:hover,\n",
              ".sk-estimator-doc-link.fitted:hover {\n",
              "  /* fitted */\n",
              "  background-color: var(--sklearn-color-fitted-level-3);\n",
              "  color: var(--sklearn-color-background);\n",
              "  text-decoration: none;\n",
              "}\n",
              "\n",
              "/* Span, style for the box shown on hovering the info icon */\n",
              ".sk-estimator-doc-link span {\n",
              "  display: none;\n",
              "  z-index: 9999;\n",
              "  position: relative;\n",
              "  font-weight: normal;\n",
              "  right: .2ex;\n",
              "  padding: .5ex;\n",
              "  margin: .5ex;\n",
              "  width: min-content;\n",
              "  min-width: 20ex;\n",
              "  max-width: 50ex;\n",
              "  color: var(--sklearn-color-text);\n",
              "  box-shadow: 2pt 2pt 4pt #999;\n",
              "  /* unfitted */\n",
              "  background: var(--sklearn-color-unfitted-level-0);\n",
              "  border: .5pt solid var(--sklearn-color-unfitted-level-3);\n",
              "}\n",
              "\n",
              ".sk-estimator-doc-link.fitted span {\n",
              "  /* fitted */\n",
              "  background: var(--sklearn-color-fitted-level-0);\n",
              "  border: var(--sklearn-color-fitted-level-3);\n",
              "}\n",
              "\n",
              ".sk-estimator-doc-link:hover span {\n",
              "  display: block;\n",
              "}\n",
              "\n",
              "/* \"?\"-specific style due to the `<a>` HTML tag */\n",
              "\n",
              "#sk-container-id-3 a.estimator_doc_link {\n",
              "  float: right;\n",
              "  font-size: 1rem;\n",
              "  line-height: 1em;\n",
              "  font-family: monospace;\n",
              "  background-color: var(--sklearn-color-background);\n",
              "  border-radius: 1rem;\n",
              "  height: 1rem;\n",
              "  width: 1rem;\n",
              "  text-decoration: none;\n",
              "  /* unfitted */\n",
              "  color: var(--sklearn-color-unfitted-level-1);\n",
              "  border: var(--sklearn-color-unfitted-level-1) 1pt solid;\n",
              "}\n",
              "\n",
              "#sk-container-id-3 a.estimator_doc_link.fitted {\n",
              "  /* fitted */\n",
              "  border: var(--sklearn-color-fitted-level-1) 1pt solid;\n",
              "  color: var(--sklearn-color-fitted-level-1);\n",
              "}\n",
              "\n",
              "/* On hover */\n",
              "#sk-container-id-3 a.estimator_doc_link:hover {\n",
              "  /* unfitted */\n",
              "  background-color: var(--sklearn-color-unfitted-level-3);\n",
              "  color: var(--sklearn-color-background);\n",
              "  text-decoration: none;\n",
              "}\n",
              "\n",
              "#sk-container-id-3 a.estimator_doc_link.fitted:hover {\n",
              "  /* fitted */\n",
              "  background-color: var(--sklearn-color-fitted-level-3);\n",
              "}\n",
              "</style><div id=\"sk-container-id-3\" class=\"sk-top-container\"><div class=\"sk-text-repr-fallback\"><pre>XGBClassifier(base_score=None, booster=None, callbacks=None,\n",
              "              colsample_bylevel=None, colsample_bynode=None,\n",
              "              colsample_bytree=None, device=None, early_stopping_rounds=None,\n",
              "              enable_categorical=False, eval_metric=&#x27;logloss&#x27;,\n",
              "              feature_types=None, feature_weights=None, gamma=None,\n",
              "              grow_policy=None, importance_type=None,\n",
              "              interaction_constraints=None, learning_rate=None, max_bin=None,\n",
              "              max_cat_threshold=None, max_cat_to_onehot=None,\n",
              "              max_delta_step=None, max_depth=None, max_leaves=None,\n",
              "              min_child_weight=None, missing=nan, monotone_constraints=None,\n",
              "              multi_strategy=None, n_estimators=None, n_jobs=None,\n",
              "              num_parallel_tree=None, ...)</pre><b>In a Jupyter environment, please rerun this cell to show the HTML representation or trust the notebook. <br />On GitHub, the HTML representation is unable to render, please try loading this page with nbviewer.org.</b></div><div class=\"sk-container\" hidden><div class=\"sk-item\"><div class=\"sk-estimator fitted sk-toggleable\"><input class=\"sk-toggleable__control sk-hidden--visually\" id=\"sk-estimator-id-3\" type=\"checkbox\" checked><label for=\"sk-estimator-id-3\" class=\"sk-toggleable__label fitted sk-toggleable__label-arrow\"><div><div>XGBClassifier</div></div><div><a class=\"sk-estimator-doc-link fitted\" rel=\"noreferrer\" target=\"_blank\" href=\"https://xgboost.readthedocs.io/en/release_3.0.0/python/python_api.html#xgboost.XGBClassifier\">?<span>Documentation for XGBClassifier</span></a><span class=\"sk-estimator-doc-link fitted\">i<span>Fitted</span></span></div></label><div class=\"sk-toggleable__content fitted\"><pre>XGBClassifier(base_score=None, booster=None, callbacks=None,\n",
              "              colsample_bylevel=None, colsample_bynode=None,\n",
              "              colsample_bytree=None, device=None, early_stopping_rounds=None,\n",
              "              enable_categorical=False, eval_metric=&#x27;logloss&#x27;,\n",
              "              feature_types=None, feature_weights=None, gamma=None,\n",
              "              grow_policy=None, importance_type=None,\n",
              "              interaction_constraints=None, learning_rate=None, max_bin=None,\n",
              "              max_cat_threshold=None, max_cat_to_onehot=None,\n",
              "              max_delta_step=None, max_depth=None, max_leaves=None,\n",
              "              min_child_weight=None, missing=nan, monotone_constraints=None,\n",
              "              multi_strategy=None, n_estimators=None, n_jobs=None,\n",
              "              num_parallel_tree=None, ...)</pre></div> </div></div></div></div>"
            ]
          },
          "metadata": {},
          "execution_count": 26
        }
      ],
      "source": [
        "xgb_classifier_no_quasi = XGBClassifier(eval_metric='logloss', random_state=42) # 'logloss' for binary classification\n",
        "xgb_classifier_no_quasi.fit(X_train_no_quasi, y_train_no_quasi)"
      ]
    },
    {
      "cell_type": "code",
      "execution_count": null,
      "metadata": {
        "id": "4efQ8sbB_a-2"
      },
      "outputs": [],
      "source": [
        "y_pred_xgb_no_quasi = xgb_classifier_no_quasi.predict(X_test_no_quasi)"
      ]
    },
    {
      "cell_type": "code",
      "execution_count": null,
      "metadata": {
        "colab": {
          "base_uri": "https://localhost:8080/"
        },
        "id": "rN3TzpNv75sJ",
        "outputId": "c2a81a63-3ac5-47ac-f460-7fc340a686c5"
      },
      "outputs": [
        {
          "output_type": "stream",
          "name": "stdout",
          "text": [
            "ROC-AUC Score: 0.8715\n"
          ]
        }
      ],
      "source": [
        "calculate_roc_auc(y_test_no_quasi, y_pred_xgb_no_quasi)"
      ]
    },
    {
      "cell_type": "markdown",
      "metadata": {
        "id": "Xf5D06fPED-V"
      },
      "source": [
        "**3.1.2 Correlation Analysis**"
      ]
    },
    {
      "cell_type": "code",
      "execution_count": null,
      "metadata": {
        "colab": {
          "base_uri": "https://localhost:8080/",
          "height": 1000
        },
        "id": "FxCcnK2gKbbW",
        "outputId": "a76f8bab-20ec-46d0-a3ec-cb3b2b3a66a5"
      },
      "outputs": [
        {
          "output_type": "stream",
          "name": "stdout",
          "text": [
            "\n",
            "Pearson Correlation with Sarcopenia (Absolute Value):\n",
            "CST                                 0.049406\n",
            "Job_white_collar_below_55           0.049276\n",
            "Job_retired                         0.038289\n",
            "Job_housewife                       0.032642\n",
            "Exercise_Status_1-2/week            0.023959\n",
            "AT                                  0.023115\n",
            "Chronic_Diseases_Hipotiroidi        0.018646\n",
            "Total_Number_of_Chronic_Diseases    0.015248\n",
            "OP                                  0.014806\n",
            "Job_public officer                  0.012540\n",
            "Job_numbers_below_ten               0.011238\n",
            "Job_worker                          0.007508\n",
            "DM_Type2                            0.005008\n",
            "BMI                                 0.004601\n",
            "Gender_M                            0.004237\n",
            "Education_University                0.003458\n",
            "Education_illiterate                0.002738\n",
            "Age_Group_AGE 60-80                 0.002486\n",
            "Education_Secondary School          0.002105\n",
            "Gait_Speed                          0.002076\n",
            "Exercise_Status_3-4/week            0.002054\n",
            "Education_Primary School            0.001767\n",
            "Work_Status_working                 0.001609\n",
            "Waist_Hip_Ratio                     0.001029\n",
            "dtype: float64\n",
            "\n",
            "Mutual Information Scores with Sarcopenia:\n",
            "AT                                  0.107246\n",
            "CST                                 0.101751\n",
            "Gait_Speed                          0.037740\n",
            "BMI                                 0.030466\n",
            "Total_Number_of_Chronic_Diseases    0.029413\n",
            "Job_housewife                       0.018826\n",
            "Age_Group_AGE 60-80                 0.017672\n",
            "Waist_Hip_Ratio                     0.008829\n",
            "Work_Status_working                 0.008515\n",
            "Chronic_Diseases_Hipotiroidi        0.008270\n",
            "Job_retired                         0.006475\n",
            "Education_University                0.006202\n",
            "Education_Secondary School          0.004272\n",
            "OP                                  0.004182\n",
            "Exercise_Status_3-4/week            0.002301\n",
            "Education_Primary School            0.001944\n",
            "Gender_M                            0.001890\n",
            "DM_Type2                            0.001825\n",
            "Education_illiterate                0.001336\n",
            "Job_numbers_below_ten               0.000343\n",
            "Exercise_Status_1-2/week            0.000000\n",
            "Job_worker                          0.000000\n",
            "Job_public officer                  0.000000\n",
            "Job_white_collar_below_55           0.000000\n",
            "dtype: float64\n"
          ]
        },
        {
          "output_type": "display_data",
          "data": {
            "text/plain": [
              "<Figure size 1000x600 with 2 Axes>"
            ],
            "image/png": "[encoded data removed]"
          },
          "metadata": {}
        }
      ],
      "source": [
        "from sklearn.feature_selection import mutual_info_classif\n",
        "\n",
        "# Calculate Pearson correlation between numerical features and Sarcopenia\n",
        "numerical_features = X_train_filtered.select_dtypes(include=['float64', 'int64']).columns\n",
        "pearson_correlations = X_train_filtered[numerical_features].corrwith(y_train_full).abs().sort_values(ascending=False)\n",
        "\n",
        "print(\"\\nPearson Correlation with Sarcopenia (Absolute Value):\")\n",
        "print(pearson_correlations)\n",
        "\n",
        "# Calculate Mutual Information scores for all features with Sarcopenia\n",
        "# Ensure X_train_filtered is a DataFrame for mutual_info_classif\n",
        "mi_scores = mutual_info_classif(X_train_filtered, y_train_full, random_state=42)\n",
        "mi_series = pd.Series(mi_scores, index=X_train_filtered.columns).sort_values(ascending=False)\n",
        "\n",
        "print(\"\\nMutual Information Scores with Sarcopenia:\")\n",
        "print(mi_series)\n",
        "\n",
        "# Visualize correlations\n",
        "plt.figure(figsize=(10, 6))\n",
        "sns.heatmap(X_train_filtered.corr(), annot=False, cmap='coolwarm')\n",
        "plt.title('Feature Correlation Matrix (After Quasi-Constant Removal)')\n",
        "plt.show()"
      ]
    },
    {
      "cell_type": "markdown",
      "metadata": {
        "id": "sH5NgXMUAITb"
      },
      "source": [
        "Pearson correlation scores highlight CST, Job_white_collar_below_55, Job_retired, Job_housewife, Exercise_Status_1-2/week, AT, Chronic_Disease_Hipotiroidi, Total_Number_of_Chronic_Diseases, OP, STAR, Job_public_officer, Job_numbers_below_ten, Work_Status_working, Age_Group_AGE 60-80 as for top 14 related features to sarcopenia. Remaining of the features has also considerably low correlation. On the other hand, Mutual Information scores  highlight STAR, AT, CST, Grip_Str, Gait_Speed, BMI, OP, Work_Status_working, Age_Group_AGE 60-80, Total_Number_of_Chronic_Diseases, Job_housewife, Education_University, Exercise_Status_1-2/week,Exercise_Status_3-4/week and Waist_Hip_Ratio as the top strongly related features to Sarcopenia. Besides, Mutual Information scores show that one-hot encoded \"Education_illiterate, Job_public officer, Job_worker, Job_retired and Job_white_collar_below_55 columns\" carry no information about sarcopenia. These results align with the understanding that the combination set of these features is core diagnostic criteria for the condition. While other features show some correlation, their scores are considerably lower, suggesting less individual predictive power. The correlation matrix visualization further helps identify any highly correlated feature pairs among the remaining 26 features, which could indicate redundancy. In this case, no extremely high pairwise correlations are immediately apparent among the top features, suggesting that they each contribute unique information. Only AT with STAR and Grip_Str with AT show some correlation between themselves."
      ]
    },
    {
      "cell_type": "markdown",
      "metadata": {
        "id": "ZKrFHti-EMl9"
      },
      "source": [
        "**3.1.3 Univariate Statistical Tests**"
      ]
    },
    {
      "cell_type": "code",
      "execution_count": null,
      "metadata": {
        "colab": {
          "base_uri": "https://localhost:8080/"
        },
        "id": "PK3SQUnrBOxH",
        "outputId": "39667ccf-cf28-4394-d416-f805cac6fbf1"
      },
      "outputs": [
        {
          "output_type": "stream",
          "name": "stdout",
          "text": [
            "\n",
            "No categorical features remaining after previous filtering for Chi-squared test.\n",
            "\n",
            "F-statistic Scores for Numerical Features:\n",
            "AT                                  742.090057\n",
            "CST                                 680.152810\n",
            "Gait_Speed                          214.463015\n",
            "Age_Group_AGE 60-80                 146.385635\n",
            "BMI                                 135.788412\n",
            "OP                                  125.903508\n",
            "Total_Number_of_Chronic_Diseases    117.270184\n",
            "Work_Status_working                  73.334426\n",
            "DM_Type2                             49.207670\n",
            "Education_illiterate                 47.476429\n",
            "Education_University                 42.114286\n",
            "Waist_Hip_Ratio                      36.688326\n",
            "Education_Primary School             18.086075\n",
            "Gender_M                             15.864357\n",
            "Chronic_Diseases_Hipotiroidi         14.347833\n",
            "Exercise_Status_3-4/week             11.971549\n",
            "Job_housewife                         7.428739\n",
            "Job_white_collar_below_55             3.712454\n",
            "Job_public officer                    2.191029\n",
            "Exercise_Status_1-2/week              2.077476\n",
            "Job_numbers_below_ten                 0.927627\n",
            "Job_retired                           0.658938\n",
            "Job_worker                            0.202272\n",
            "Education_Secondary School            0.170211\n",
            "dtype: float64\n",
            "\n",
            "Top features identified by Filter Methods: ['AT', 'CST', 'Gait_Speed', 'BMI', 'Total_Number_of_Chronic_Diseases', 'Job_housewife', 'Age_Group_AGE 60-80', 'Waist_Hip_Ratio', 'Work_Status_working', 'Chronic_Diseases_Hipotiroidi']\n"
          ]
        }
      ],
      "source": [
        "from sklearn.feature_selection import SelectKBest, chi2, f_classif\n",
        "\n",
        "# Separate numerical and categorical features from the filtered set\n",
        "numerical_cols_filtered = X_train_filtered.select_dtypes(include=['float64', 'int64']).columns.tolist()\n",
        "categorical_cols_filtered = [col for col in X_train_filtered.columns if col not in numerical_cols_filtered]\n",
        "\n",
        "# Apply Chi-squared test for categorical features\n",
        "if categorical_cols_filtered: # Check if there are any categorical features left\n",
        "    selector_chi2 = SelectKBest(chi2, k='all')\n",
        "    selector_chi2.fit(X_train_filtered[categorical_cols_filtered], y_train_full)\n",
        "    chi2_scores = pd.Series(selector_chi2.scores_, index=categorical_cols_filtered).sort_values(ascending=False)\n",
        "    print(\"\\nChi-squared Scores for Categorical Features:\")\n",
        "    print(chi2_scores)\n",
        "else:\n",
        "    print(\"\\nNo categorical features remaining after previous filtering for Chi-squared test.\")\n",
        "\n",
        "\n",
        "# Apply F-statistic (ANOVA) for numerical features\n",
        "if numerical_cols_filtered: # Check if there are any numerical features left\n",
        "    selector_fclassif = SelectKBest(f_classif, k='all')\n",
        "    selector_fclassif.fit(X_train_filtered[numerical_cols_filtered], y_train_full)\n",
        "    fclassif_scores = pd.Series(selector_fclassif.scores_, index=numerical_cols_filtered).sort_values(ascending=False)\n",
        "    print(\"\\nF-statistic Scores for Numerical Features:\")\n",
        "    print(fclassif_scores)\n",
        "else:\n",
        "    print(\"\\nNo numerical features remaining for F-statistic test.\")\n",
        "\n",
        "# Combine scores and select top K features (e.g., top 10 from all methods)\n",
        "# For simplicity, we'll take top features based on MI and F-statistic as Chi-squared might not have many features left\n",
        "\n",
        "top_features_filter = mi_series.head(10).index.tolist() # Top 10 from Mutual Information\n",
        "print(f\"\\nTop features identified by Filter Methods: {top_features_filter}\")"
      ]
    },
    {
      "cell_type": "markdown",
      "metadata": {
        "id": "5y5yu017EzeQ"
      },
      "source": [
        "After the quasi-constant feature removal, no purely categorical features remained for the Chi-squared test. However, the F-statistic (ANOVA) for numerical features provided a clear ranking. Consistent with Pearson correlation and Mutual Information, STAR, AT, CST, Grip_Str, Gait_Speed and Age_Group_AGE 60-80 exhibit the highest F-scores, further reinforcing their strong individual relationships with sarcopenia. Based on these filter methods, the top features consistently include these core physical and body composition measures, along with Total_Number_of_Chronic_Diseases, BMI, OP, Work_Status_working, DM_Type2 and Waist_Hip_Ratio. These features will form the basis for further selection and model training."
      ]
    },
    {
      "cell_type": "markdown",
      "metadata": {
        "id": "LmI4VN0NERvU"
      },
      "source": [
        "**3.2 Embedded Methods: Leveraging Model-Intrinsic Feature Importance**"
      ]
    },
    {
      "cell_type": "markdown",
      "metadata": {
        "id": "j7pzjK-JEwTs"
      },
      "source": [
        "**3.2.1 Feature Importance from Decision Trees and XGBoost**"
      ]
    },
    {
      "cell_type": "code",
      "execution_count": null,
      "metadata": {
        "colab": {
          "base_uri": "https://localhost:8080/"
        },
        "id": "NHxm7erXCjP8",
        "outputId": "158f8cab-3251-410b-fd81-86c7b0c94edb"
      },
      "outputs": [
        {
          "output_type": "stream",
          "name": "stdout",
          "text": [
            "\n",
            "Decision Tree Feature Importances:\n",
            "AT                                  0.332421\n",
            "CST                                 0.228732\n",
            "BMI                                 0.200444\n",
            "Gender_M                            0.070572\n",
            "Gait_Speed                          0.062148\n",
            "Waist_Hip_Ratio                     0.039669\n",
            "Total_Number_of_Chronic_Diseases    0.016629\n",
            "Job_housewife                       0.007415\n",
            "Exercise_Status_1-2/week            0.005616\n",
            "Education_Secondary School          0.005412\n",
            "Education_University                0.003468\n",
            "Job_retired                         0.003465\n",
            "OP                                  0.003189\n",
            "Chronic_Diseases_Hipotiroidi        0.003076\n",
            "Job_worker                          0.003060\n",
            "Exercise_Status_3-4/week            0.002516\n",
            "Age_Group_AGE 60-80                 0.002314\n",
            "DM_Type2                            0.002215\n",
            "Job_numbers_below_ten               0.002199\n",
            "Education_Primary School            0.001964\n",
            "Job_white_collar_below_55           0.001687\n",
            "Education_illiterate                0.001095\n",
            "Job_public officer                  0.000695\n",
            "Work_Status_working                 0.000000\n",
            "dtype: float64\n",
            "\n",
            "XGBoost Feature Importances:\n",
            "Gender_M                            0.182158\n",
            "CST                                 0.134295\n",
            "AT                                  0.119487\n",
            "BMI                                 0.072702\n",
            "Education_University                0.036901\n",
            "Education_Secondary School          0.034483\n",
            "OP                                  0.031855\n",
            "Work_Status_working                 0.031441\n",
            "Education_illiterate                0.029087\n",
            "Gait_Speed                          0.028728\n",
            "Job_retired                         0.027589\n",
            "Waist_Hip_Ratio                     0.025931\n",
            "Exercise_Status_1-2/week            0.025499\n",
            "Job_numbers_below_ten               0.024699\n",
            "Job_public officer                  0.024231\n",
            "Total_Number_of_Chronic_Diseases    0.023994\n",
            "Education_Primary School            0.023594\n",
            "Job_housewife                       0.021428\n",
            "Job_worker                          0.021345\n",
            "DM_Type2                            0.019945\n",
            "Age_Group_AGE 60-80                 0.017602\n",
            "Exercise_Status_3-4/week            0.015733\n",
            "Job_white_collar_below_55           0.013982\n",
            "Chronic_Diseases_Hipotiroidi        0.013290\n",
            "dtype: float32\n"
          ]
        }
      ],
      "source": [
        "# Train a Decision Tree Classifier\n",
        "dt_model = DecisionTreeClassifier(random_state=42)\n",
        "dt_model.fit(X_train_filtered, y_train_full)\n",
        "dt_importances = pd.Series(dt_model.feature_importances_, index=X_train_filtered.columns).sort_values(ascending=False)\n",
        "\n",
        "print(\"\\nDecision Tree Feature Importances:\")\n",
        "print(dt_importances)\n",
        "\n",
        "# Train an XGBoost Classifier\n",
        "xgb_model = XGBClassifier(random_state=42, eval_metric='logloss')\n",
        "xgb_model.fit(X_train_filtered, y_train_full)\n",
        "xgb_importances = pd.Series(xgb_model.feature_importances_, index=X_train_filtered.columns).sort_values(ascending=False)\n",
        "\n",
        "print(\"\\nXGBoost Feature Importances:\")\n",
        "print(xgb_importances)"
      ]
    },
    {
      "cell_type": "markdown",
      "metadata": {
        "id": "G-1cYX7mHL1U"
      },
      "source": [
        "Both Decision Tree and XGBoost consistently identify STAR, CST, Grip_Str, Gender_M and AT as the top 5 most important features. This strong consensus across different tree-based models further solidifies their predictive power for sarcopenia. BMI, Waist_Hip_Ratio, Exercise_Status, Gait_Speed, Age_Group_AGE 60-80, Total_Number_of_Chronic_Diseases and DM_Type2 also show notable importance."
      ]
    },
    {
      "cell_type": "markdown",
      "metadata": {
        "id": "zSJ2lNMrE0qV"
      },
      "source": [
        "**3.2.2 Regularization-based Feature Selection (e.g., Lasso)**"
      ]
    },
    {
      "cell_type": "code",
      "execution_count": null,
      "metadata": {
        "colab": {
          "base_uri": "https://localhost:8080/"
        },
        "id": "_ebsKzIZEUzc",
        "outputId": "543d70ee-8014-4d74-e352-1a481785d090"
      },
      "outputs": [
        {
          "output_type": "stream",
          "name": "stdout",
          "text": [
            "\n",
            "Lasso Coefficients (Absolute Value):\n",
            "AT                                  2.332373\n",
            "BMI                                 1.337237\n",
            "Gender_M                            1.333997\n",
            "CST                                 0.971684\n",
            "Gait_Speed                          0.227131\n",
            "OP                                  0.154966\n",
            "Age_Group_AGE 60-80                 0.088092\n",
            "Exercise_Status_1-2/week            0.085173\n",
            "Waist_Hip_Ratio                     0.083143\n",
            "Work_Status_working                 0.070282\n",
            "Total_Number_of_Chronic_Diseases    0.059140\n",
            "Education_Primary School            0.057573\n",
            "Job_housewife                       0.052351\n",
            "Education_Secondary School          0.025257\n",
            "Exercise_Status_3-4/week            0.020106\n",
            "Job_retired                         0.001733\n",
            "dtype: float64\n"
          ]
        }
      ],
      "source": [
        "from sklearn.linear_model import LogisticRegression\n",
        "from sklearn.preprocessing import StandardScaler\n",
        "\n",
        "# Scale numerical features for Lasso (Lasso is sensitive to feature scale)\n",
        "scaler = StandardScaler()\n",
        "X_train_scaled = X_train_filtered.copy()\n",
        "X_test_scaled = X_test_filtered.copy()\n",
        "\n",
        "numerical_cols_filtered = X_train_filtered.select_dtypes(include=['float64', 'int64']).columns.tolist()\n",
        "X_train_scaled[numerical_cols_filtered] = scaler.fit_transform(X_train_filtered[numerical_cols_filtered])\n",
        "X_test_scaled[numerical_cols_filtered] = scaler.transform(X_test_filtered[numerical_cols_filtered])\n",
        "\n",
        "# Train a Logistic Regression with L1 penalty (Lasso)\n",
        "# C is the inverse of regularization strength; smaller C means stronger regularization\n",
        "lasso_model = LogisticRegression(penalty='l1', solver='liblinear', C=0.1, random_state=42)\n",
        "lasso_model.fit(X_train_scaled, y_train_full)\n",
        "\n",
        "# Access the coefficients correctly for binary classification (first row of coef_)\n",
        "lasso_coefficients = pd.Series(lasso_model.coef_[0], index=X_train_scaled.columns).abs().sort_values(ascending=False)\n",
        "print(\"\\nLasso Coefficients (Absolute Value):\")\n",
        "print(lasso_coefficients[lasso_coefficients > 0]) # Display only non-zero coefficients"
      ]
    },
    {
      "cell_type": "markdown",
      "metadata": {
        "id": "myWsoufbIx5A"
      },
      "source": [
        "Lasso regression, with its L1 regularization, also reinforces the importance of the same core features. 16 of 26 features that remained after quasi-constant removal were assigned non-zero coefficients, indicating that even with a relatively strong regularization strength (C=0.1), Lasso found all of them to contribute to the model. The magnitude of the coefficients aligns with the feature importances from tree-based models and the scores from filter methods, with Gender_M, STAR, Grip_Str, CST, AT, BMI, Exercise_Status_1-2/week, Gait_Speed, Waist_Hip_Ratio, OP and Age_Group_AGE 60-80 having the largest absolute coefficients. This consistency across diverse embedded methods strengthens the evidence for the predictive power of these features."
      ]
    },
    {
      "cell_type": "markdown",
      "metadata": {
        "id": "85GDYpDAE419"
      },
      "source": [
        "**3.3 Wrapper Methods: Iterative Feature Subset Search**"
      ]
    },
    {
      "cell_type": "markdown",
      "metadata": {
        "id": "RtMPSd_FE8nW"
      },
      "source": [
        "**3.3.1 Forward Feature Selection with XGBoost**"
      ]
    },
    {
      "cell_type": "code",
      "execution_count": null,
      "metadata": {
        "colab": {
          "base_uri": "https://localhost:8080/",
          "height": 1000
        },
        "id": "g0xxblkuSrLP",
        "outputId": "c8884c72-c09b-4566-e4aa-5bea5c65dec0"
      },
      "outputs": [
        {
          "output_type": "stream",
          "name": "stdout",
          "text": [
            "k=1: ROC AUC = 0.7722, Features: ['CST']\n",
            "k=2: ROC AUC = 0.8402, Features: ['AT', 'CST']\n",
            "k=3: ROC AUC = 0.8851, Features: ['AT', 'BMI', 'CST']\n",
            "k=4: ROC AUC = 0.9635, Features: ['AT', 'BMI', 'CST', 'Gender_M']\n",
            "k=5: ROC AUC = 0.9654, Features: ['AT', 'BMI', 'CST', 'Gender_M', 'Total_Number_of_Chronic_Diseases']\n",
            "k=6: ROC AUC = 0.9650, Features: ['AT', 'BMI', 'CST', 'Education_Secondary School', 'Gender_M', 'Total_Number_of_Chronic_Diseases']\n",
            "k=7: ROC AUC = 0.9657, Features: ['AT', 'BMI', 'CST', 'Chronic_Diseases_Hipotiroidi', 'Education_Secondary School', 'Gender_M', 'Total_Number_of_Chronic_Diseases']\n",
            "k=8: ROC AUC = 0.9653, Features: ['AT', 'BMI', 'CST', 'Chronic_Diseases_Hipotiroidi', 'Education_Secondary School', 'Exercise_Status_3-4/week', 'Gender_M', 'Total_Number_of_Chronic_Diseases']\n",
            "k=9: ROC AUC = 0.9656, Features: ['AT', 'BMI', 'CST', 'Chronic_Diseases_Hipotiroidi', 'Education_Secondary School', 'Exercise_Status_3-4/week', 'Gait_Speed', 'Gender_M', 'Total_Number_of_Chronic_Diseases']\n",
            "k=10: ROC AUC = 0.9656, Features: ['AT', 'BMI', 'CST', 'Chronic_Diseases_Hipotiroidi', 'Education_Secondary School', 'Exercise_Status_3-4/week', 'Gait_Speed', 'Gender_M', 'Total_Number_of_Chronic_Diseases', 'Waist_Hip_Ratio']\n",
            "k=11: ROC AUC = 0.9660, Features: ['AT', 'BMI', 'CST', 'Chronic_Diseases_Hipotiroidi', 'Education_Secondary School', 'Exercise_Status_1-2/week', 'Exercise_Status_3-4/week', 'Gait_Speed', 'Gender_M', 'Total_Number_of_Chronic_Diseases', 'Waist_Hip_Ratio']\n",
            "k=12: ROC AUC = 0.9662, Features: ['AT', 'BMI', 'CST', 'Chronic_Diseases_Hipotiroidi', 'Education_Secondary School', 'Exercise_Status_1-2/week', 'Exercise_Status_3-4/week', 'Gait_Speed', 'Gender_M', 'Job_retired', 'Total_Number_of_Chronic_Diseases', 'Waist_Hip_Ratio']\n",
            "k=13: ROC AUC = 0.9661, Features: ['AT', 'BMI', 'CST', 'Chronic_Diseases_Hipotiroidi', 'Education_Secondary School', 'Exercise_Status_1-2/week', 'Exercise_Status_3-4/week', 'Gait_Speed', 'Gender_M', 'Job_retired', 'OP', 'Total_Number_of_Chronic_Diseases', 'Waist_Hip_Ratio']\n",
            "k=14: ROC AUC = 0.9661, Features: ['AT', 'BMI', 'CST', 'Chronic_Diseases_Hipotiroidi', 'Education_Secondary School', 'Education_University', 'Exercise_Status_1-2/week', 'Exercise_Status_3-4/week', 'Gait_Speed', 'Gender_M', 'Job_retired', 'OP', 'Total_Number_of_Chronic_Diseases', 'Waist_Hip_Ratio']\n",
            "k=15: ROC AUC = 0.9666, Features: ['AT', 'BMI', 'CST', 'Chronic_Diseases_Hipotiroidi', 'Education_Secondary School', 'Education_University', 'Exercise_Status_1-2/week', 'Exercise_Status_3-4/week', 'Gait_Speed', 'Gender_M', 'Job_numbers_below_ten', 'Job_retired', 'OP', 'Total_Number_of_Chronic_Diseases', 'Waist_Hip_Ratio']\n",
            "k=16: ROC AUC = 0.9669, Features: ['AT', 'Age_Group_AGE 60-80', 'BMI', 'CST', 'Chronic_Diseases_Hipotiroidi', 'Education_Secondary School', 'Education_University', 'Exercise_Status_1-2/week', 'Exercise_Status_3-4/week', 'Gait_Speed', 'Gender_M', 'Job_numbers_below_ten', 'Job_retired', 'OP', 'Total_Number_of_Chronic_Diseases', 'Waist_Hip_Ratio']\n",
            "k=17: ROC AUC = 0.9664, Features: ['AT', 'Age_Group_AGE 60-80', 'BMI', 'CST', 'Chronic_Diseases_Hipotiroidi', 'Education_Secondary School', 'Education_University', 'Exercise_Status_1-2/week', 'Exercise_Status_3-4/week', 'Gait_Speed', 'Gender_M', 'Job_numbers_below_ten', 'Job_retired', 'OP', 'Total_Number_of_Chronic_Diseases', 'Waist_Hip_Ratio', 'Work_Status_working']\n",
            "k=18: ROC AUC = 0.9665, Features: ['AT', 'Age_Group_AGE 60-80', 'BMI', 'CST', 'Chronic_Diseases_Hipotiroidi', 'Education_Secondary School', 'Education_University', 'Education_illiterate', 'Exercise_Status_1-2/week', 'Exercise_Status_3-4/week', 'Gait_Speed', 'Gender_M', 'Job_numbers_below_ten', 'Job_retired', 'OP', 'Total_Number_of_Chronic_Diseases', 'Waist_Hip_Ratio', 'Work_Status_working']\n",
            "k=19: ROC AUC = 0.9657, Features: ['AT', 'Age_Group_AGE 60-80', 'BMI', 'CST', 'Chronic_Diseases_Hipotiroidi', 'Education_Secondary School', 'Education_University', 'Education_illiterate', 'Exercise_Status_1-2/week', 'Exercise_Status_3-4/week', 'Gait_Speed', 'Gender_M', 'Job_numbers_below_ten', 'Job_retired', 'Job_worker', 'OP', 'Total_Number_of_Chronic_Diseases', 'Waist_Hip_Ratio', 'Work_Status_working']\n",
            "k=20: ROC AUC = 0.9657, Features: ['AT', 'Age_Group_AGE 60-80', 'BMI', 'CST', 'Chronic_Diseases_Hipotiroidi', 'Education_Secondary School', 'Education_University', 'Education_illiterate', 'Exercise_Status_1-2/week', 'Exercise_Status_3-4/week', 'Gait_Speed', 'Gender_M', 'Job_numbers_below_ten', 'Job_public officer', 'Job_retired', 'Job_worker', 'OP', 'Total_Number_of_Chronic_Diseases', 'Waist_Hip_Ratio', 'Work_Status_working']\n",
            "k=21: ROC AUC = 0.9647, Features: ['AT', 'Age_Group_AGE 60-80', 'BMI', 'CST', 'Chronic_Diseases_Hipotiroidi', 'Education_Primary School', 'Education_Secondary School', 'Education_University', 'Education_illiterate', 'Exercise_Status_1-2/week', 'Exercise_Status_3-4/week', 'Gait_Speed', 'Gender_M', 'Job_numbers_below_ten', 'Job_public officer', 'Job_retired', 'Job_worker', 'OP', 'Total_Number_of_Chronic_Diseases', 'Waist_Hip_Ratio', 'Work_Status_working']\n",
            "k=22: ROC AUC = 0.9649, Features: ['AT', 'Age_Group_AGE 60-80', 'BMI', 'CST', 'Chronic_Diseases_Hipotiroidi', 'Education_Primary School', 'Education_Secondary School', 'Education_University', 'Education_illiterate', 'Exercise_Status_1-2/week', 'Exercise_Status_3-4/week', 'Gait_Speed', 'Gender_M', 'Job_housewife', 'Job_numbers_below_ten', 'Job_public officer', 'Job_retired', 'Job_worker', 'OP', 'Total_Number_of_Chronic_Diseases', 'Waist_Hip_Ratio', 'Work_Status_working']\n",
            "k=23: ROC AUC = 0.9642, Features: ['AT', 'Age_Group_AGE 60-80', 'BMI', 'CST', 'Chronic_Diseases_Hipotiroidi', 'Education_Primary School', 'Education_Secondary School', 'Education_University', 'Education_illiterate', 'Exercise_Status_1-2/week', 'Exercise_Status_3-4/week', 'Gait_Speed', 'Gender_M', 'Job_housewife', 'Job_numbers_below_ten', 'Job_public officer', 'Job_retired', 'Job_white_collar_below_55', 'Job_worker', 'OP', 'Total_Number_of_Chronic_Diseases', 'Waist_Hip_Ratio', 'Work_Status_working']\n",
            "k=24: ROC AUC = 0.9623, Features: ['AT', 'Age_Group_AGE 60-80', 'BMI', 'CST', 'Chronic_Diseases_Hipotiroidi', 'DM_Type2', 'Education_Primary School', 'Education_Secondary School', 'Education_University', 'Education_illiterate', 'Exercise_Status_1-2/week', 'Exercise_Status_3-4/week', 'Gait_Speed', 'Gender_M', 'Job_housewife', 'Job_numbers_below_ten', 'Job_public officer', 'Job_retired', 'Job_white_collar_below_55', 'Job_worker', 'OP', 'Total_Number_of_Chronic_Diseases', 'Waist_Hip_Ratio', 'Work_Status_working']\n"
          ]
        },
        {
          "output_type": "display_data",
          "data": {
            "text/plain": [
              "<Figure size 1000x600 with 1 Axes>"
            ],
            "image/png": "[encoded data removed]"
          },
          "metadata": {}
        },
        {
          "output_type": "stream",
          "name": "stdout",
          "text": [
            "\n",
            "Optimal k (SFS): 16\n"
          ]
        }
      ],
      "source": [
        "from sklearn.feature_selection import SequentialFeatureSelector\n",
        "from sklearn.metrics import roc_auc_score\n",
        "from sklearn.model_selection import StratifiedKFold, cross_val_score\n",
        "\n",
        "\n",
        "# Using the filtered features from previous step\n",
        "X_current = X_train_filtered\n",
        "y_current = y_train_full\n",
        "\n",
        "# Initialize XGBoost Classifier\n",
        "xgb_clf_sfs = XGBClassifier(random_state=42, eval_metric='logloss')\n",
        "\n",
        "# Perform Forward Feature Selection\n",
        "performance_scores = []\n",
        "selected_features_list = []\n",
        "\n",
        "for k in range(1, X_current.shape[1] + 1):\n",
        "    current_selected_features = [] # Initialize here\n",
        "\n",
        "    if k < X_current.shape[1]:\n",
        "        sfs = SequentialFeatureSelector(\n",
        "            xgb_clf_sfs,\n",
        "            n_features_to_select=k,\n",
        "            direction='forward',\n",
        "            cv=StratifiedKFold(n_splits=5, shuffle=True, random_state=42),\n",
        "            scoring='roc_auc',\n",
        "            n_jobs=-1\n",
        "        )\n",
        "        sfs.fit(X_current, y_current)\n",
        "        current_selected_features = list(X_current.columns[sfs.get_support()])\n",
        "    elif k == X_current.shape[1]:\n",
        "        current_selected_features = list(X_current.columns) # Select all features\n",
        "\n",
        "    selected_features_list.append(current_selected_features)\n",
        "\n",
        "    # Bu kısım if/elif bloklarının dışına taşındı\n",
        "    cv_scores = cross_val_score(xgb_clf_sfs, X_current[current_selected_features], y_current,\n",
        "                                cv=StratifiedKFold(n_splits=5, shuffle=True, random_state=42), scoring='roc_auc', n_jobs=-1)\n",
        "    mean_cv_score = np.mean(cv_scores)\n",
        "    performance_scores.append(mean_cv_score)\n",
        "\n",
        "    print(f\"k={k}: ROC AUC = {mean_cv_score:.4f}, Features: {current_selected_features}\")\n",
        "\n",
        "\n",
        "# Plot performance vs. number of features\n",
        "plt.figure(figsize=(10, 6))\n",
        "plt.plot(range(1, X_current.shape[1] + 1), performance_scores, marker='o')\n",
        "plt.title('Forward Feature Selection: ROC AUC vs. Number of Features')\n",
        "plt.xlabel('Number of Features')\n",
        "plt.ylabel('ROC AUC Score')\n",
        "plt.grid(True)\n",
        "plt.show()\n",
        "\n",
        "# Identify the optimal number of features based on the plot (e.g., where ROC AUC plateaus or starts to drop)\n",
        "optimal_k_sfs = np.argmax(performance_scores) + 1\n",
        "print(f\"\\nOptimal k (SFS): {optimal_k_sfs}\")"
      ]
    },
    {
      "cell_type": "markdown",
      "metadata": {
        "id": "8YrfyNatZzM8"
      },
      "source": [
        "The plot of ROC AUC versus the number of features shows that the model's performance significantly improves with the addition of the first few features, particularly CST, Gender_M, Grip_Str, STAR and Education_Primary School. The ROC AUC score then gradually plateaus, with diminishing returns for adding more features. The optimal number of features appears to be 17, but as adding more features beyond 5 yields only marginal improvements in ROC AUC. This finding is consistent with prior research that demonstrated how a small subset of features can achieve near-maximal accuracy in similar medical prediction tasks."
      ]
    },
    {
      "cell_type": "markdown",
      "metadata": {
        "id": "XHXVuTHuFB6k"
      },
      "source": [
        "**3.3.2 Recursive Feature Elimination (RFE)**"
      ]
    },
    {
      "cell_type": "code",
      "execution_count": null,
      "metadata": {
        "colab": {
          "base_uri": "https://localhost:8080/"
        },
        "id": "nH6lDwLZHOwr",
        "outputId": "0cf84a78-b452-45cf-d846-5889206d5e70"
      },
      "outputs": [
        {
          "output_type": "stream",
          "name": "stdout",
          "text": [
            "\n",
            "Features selected by RFE (top 10): ['AT', 'BMI', 'CST', 'Education_Primary School', 'Education_Secondary School', 'Gait_Speed', 'Gender_M', 'OP', 'Total_Number_of_Chronic_Diseases', 'Waist_Hip_Ratio']\n",
            "\n",
            "RFE Feature Ranking:\n",
            "\n",
            "-----------------------------------------\n",
            "AT                                   1\n",
            "BMI                                  1\n",
            "CST                                  1\n",
            "Education_Secondary School           1\n",
            "Education_Primary School             1\n",
            "Gender_M                             1\n",
            "Gait_Speed                           1\n",
            "Total_Number_of_Chronic_Diseases     1\n",
            "Waist_Hip_Ratio                      1\n",
            "OP                                   1\n",
            "Exercise_Status_1-2/week             2\n",
            "Education_University                 3\n",
            "DM_Type2                             4\n",
            "Age_Group_AGE 60-80                  5\n",
            "Job_public officer                   6\n",
            "Work_Status_working                  7\n",
            "Job_worker                           8\n",
            "Education_illiterate                 9\n",
            "Job_housewife                       10\n",
            "Job_retired                         11\n",
            "Exercise_Status_3-4/week            12\n",
            "Job_numbers_below_ten               13\n",
            "Job_white_collar_below_55           14\n",
            "Chronic_Diseases_Hipotiroidi        15\n",
            "dtype: int64\n"
          ]
        }
      ],
      "source": [
        "from sklearn.feature_selection import RFE\n",
        "\n",
        "# Using the filtered features from previous step\n",
        "X_current = X_train_filtered\n",
        "y_current = y_train_full\n",
        "\n",
        "# Initialize XGBoost Classifier as the estimator for RFE\n",
        "xgb_clf_rfe = XGBClassifier(random_state=42, eval_metric='logloss')\n",
        "\n",
        "# Perform RFE to select a specific number of features (e.g., top 10)\n",
        "# The number of features to select can be determined from the SFS plot\n",
        "n_features_to_select_rfe = 10 # 10 is chosen based on SFS plot plateau since it is between 5-17.\n",
        "\n",
        "rfe_selector = RFE(estimator=xgb_clf_rfe, n_features_to_select=n_features_to_select_rfe, step=1)\n",
        "rfe_selector.fit(X_current, y_current)\n",
        "\n",
        "rfe_selected_features = list(X_current.columns[rfe_selector.support_])\n",
        "print(f\"\\nFeatures selected by RFE (top {n_features_to_select_rfe}): {rfe_selected_features}\")\n",
        "\n",
        "# Rank features by RFE (lower rank is more important)\n",
        "rfe_ranking = pd.Series(rfe_selector.ranking_, index=X_current.columns).sort_values()\n",
        "print(\"\\nRFE Feature Ranking:\")\n",
        "print(\"\\n-----------------------------------------\")\n",
        "print(rfe_ranking)"
      ]
    },
    {
      "cell_type": "markdown",
      "metadata": {
        "id": "IFmppFD2ahvi"
      },
      "source": [
        "Recursive Feature Elimination (RFE) with an XGBoost estimator identified a consistent set of top 10 features. The selected features are AT, Age_Group_AGE 60-80, BMI,CST, Grip_Str, Gait_Speed, Gender_M, STAR, Waist_Hip_Ratio and Total_Number_of_Chronic_Diseases. This selection closely mirrors the top features identified by both filter methods and embedded methods, further solidifying the importance of these variables. The RFE ranking clearly indicates the order of elimination, with features like **Education_Secondary School, Education_University, Education_illiterate,Exercise_Status_1-2/week, Chronic_Diseases_Hipotiroidi, Job_public_officer, Job_retired, Job_white_collar_below_55, Job_worker, Job_numbers_below_ten, Work_Status_working, OP, Exercise_Status_3-4/week and DM_Type2** being ranked lower, signifying their lesser importance in the predictive model."
      ]
    },
    {
      "cell_type": "markdown",
      "metadata": {
        "id": "dFesV2R2FGbE"
      },
      "source": [
        "**3.4 Consolidated Feature Subset Selection and Rationale**"
      ]
    },
    {
      "cell_type": "markdown",
      "metadata": {
        "id": "Nsh06s0Yd4JR"
      },
      "source": [
        "Based on the convergence of evidence from all methods, the following features are consistently identified as the most impactful for predicting sarcopenia:\n",
        "\n",
        "1.   STAR (6 times ordered within first ten items / out of 6 different methods)\n",
        "2.   CST (6/6)\n",
        "3.   AT (6/6)\n",
        "4.   Grip_Str (5/6)\n",
        "5.   Gait_Speed (5/6)\n",
        "6.   BMI (5/6)\n",
        "7.   Age_Group_AGE 60-80 (5/6)\n",
        "8.   OP (4/6)\n",
        "9.   Waist_Hip_Ratio (4/6)\n",
        "10.  Gender_M (4/6)\n",
        "11.  Total_Number_of_Chronic_Diseases (3/6)\n",
        "12.  Work_Status_working (2/6)\n",
        "13.  DM_Type2 (2/6)\n",
        "14.  Exercise_Status_1-2/week (1/6)\n",
        "\n",
        "These 14 features represent a parsimonious yet powerful subset. They capture critical aspects of physical performance, body composition, metabolic health, and overall chronic disease burden, all of which are clinically relevant to sarcopenia. The exclusion of other features, particularly the numerous quasi-constant one-hot encoded categorical variables, simplifies the model significantly without a notable loss in predictive performance, as demonstrated by the wrapper methods."
      ]
    },
    {
      "cell_type": "markdown",
      "metadata": {
        "id": "YZ8WvaUpH6fh"
      },
      "source": [
        "# **Calculation of ROC AUC Score for the Consolidated Features**"
      ]
    },
    {
      "cell_type": "code",
      "execution_count": null,
      "metadata": {
        "id": "ZL-X0nzNCNbk"
      },
      "outputs": [],
      "source": [
        "df_consolidated_features = df.copy()"
      ]
    },
    {
      "cell_type": "code",
      "execution_count": null,
      "metadata": {
        "colab": {
          "base_uri": "https://localhost:8080/"
        },
        "id": "FQr0Cq4dCeCi",
        "outputId": "74fe14c4-a8f9-4929-f7b9-52f055e1e928"
      },
      "outputs": [
        {
          "output_type": "execute_result",
          "data": {
            "text/plain": [
              "Index(['AT', 'Age_Group_AGE 60-80', 'Age_Group_AGE 80-100', 'BMI', 'CST',\n",
              "       'Chronic_Diseases_COPD', 'Chronic_Diseases_Dyslipidemia',\n",
              "       'Chronic_Diseases_Hipotiroidi', 'Chronic_Diseases_KAH', 'DM_Type2',\n",
              "       'Education_Primary School', 'Education_Secondary School',\n",
              "       'Education_University', 'Education_illiterate',\n",
              "       'Exercise_Status_1-2/week', 'Exercise_Status_3-4/week', 'Gait_Speed',\n",
              "       'Gender_M', 'Job_farmer', 'Job_health care personel', 'Job_housewife',\n",
              "       'Job_no_job', 'Job_numbers_below_ten', 'Job_public officer',\n",
              "       'Job_retired', 'Job_security_personel', 'Job_self-employment',\n",
              "       'Job_teacher', 'Job_white_collar_below_55', 'Job_worker', 'OP',\n",
              "       'Sarcopenia', 'Total_Number_of_Chronic_Diseases', 'Waist_Hip_Ratio',\n",
              "       'Work_Status_unknown', 'Work_Status_working'],\n",
              "      dtype='object')"
            ]
          },
          "metadata": {},
          "execution_count": 36
        }
      ],
      "source": [
        "df_consolidated_features.columns"
      ]
    },
    {
      "cell_type": "code",
      "execution_count": null,
      "metadata": {
        "id": "z82yKYATCd-0"
      },
      "outputs": [],
      "source": [
        "df_consolidated_features = df_consolidated_features.drop(['Age_Group_AGE 80-100', 'Chronic_Diseases_COPD', 'Chronic_Diseases_Dyslipidemia',\n",
        "       'Chronic_Diseases_Hipotiroidi', 'Chronic_Diseases_KAH', 'Education_Primary School',\n",
        "       'Education_Secondary School',\n",
        "       'Education_University', 'Education_illiterate', 'Exercise_Status_1-2/week', 'Job_farmer',\n",
        "       'Job_health care personel','Job_no_job', 'Job_housewife', 'Job_numbers_below_ten',\n",
        "       'Job_public officer', 'Job_retired', 'Job_security_personel', 'Job_self-employment',\n",
        "       'Job_teacher', 'Job_white_collar_below_55',\n",
        "       'Job_worker', 'Work_Status_unknown',\n",
        "        ], axis=1)"
      ]
    },
    {
      "cell_type": "code",
      "execution_count": null,
      "metadata": {
        "colab": {
          "base_uri": "https://localhost:8080/"
        },
        "id": "dcZXVC8YCd7K",
        "outputId": "47643b99-4444-4097-f72c-b8c02a104fbd"
      },
      "outputs": [
        {
          "output_type": "execute_result",
          "data": {
            "text/plain": [
              "Index(['AT', 'Age_Group_AGE 60-80', 'BMI', 'CST', 'DM_Type2',\n",
              "       'Exercise_Status_3-4/week', 'Gait_Speed', 'Gender_M', 'OP',\n",
              "       'Sarcopenia', 'Total_Number_of_Chronic_Diseases', 'Waist_Hip_Ratio',\n",
              "       'Work_Status_working'],\n",
              "      dtype='object')"
            ]
          },
          "metadata": {},
          "execution_count": 38
        }
      ],
      "source": [
        "df_consolidated_features.columns"
      ]
    },
    {
      "cell_type": "markdown",
      "metadata": {
        "id": "9Oc53CTeCNzc"
      },
      "source": [
        "**Calculating  ROC AUC Score After Consolidation of Features**"
      ]
    },
    {
      "cell_type": "code",
      "execution_count": null,
      "metadata": {
        "id": "s8veZLdxCNzd"
      },
      "outputs": [],
      "source": [
        "X = df_consolidated_features.drop('Sarcopenia', axis=1)\n",
        "y = df_consolidated_features['Sarcopenia']"
      ]
    },
    {
      "cell_type": "code",
      "execution_count": null,
      "metadata": {
        "id": "Ba-GZGDfCNze"
      },
      "outputs": [],
      "source": [
        "X_train_cons, X_test_cons, y_train_cons, y_test_cons = train_test_split(X, y, test_size=0.25, random_state=42, stratify=y)"
      ]
    },
    {
      "cell_type": "code",
      "execution_count": null,
      "metadata": {
        "colab": {
          "base_uri": "https://localhost:8080/",
          "height": 257
        },
        "id": "M2ZU0PCyCNzf",
        "outputId": "0fef6009-c0ac-469b-831c-ceb17385e359"
      },
      "outputs": [
        {
          "output_type": "execute_result",
          "data": {
            "text/plain": [
              "XGBClassifier(base_score=None, booster=None, callbacks=None,\n",
              "              colsample_bylevel=None, colsample_bynode=None,\n",
              "              colsample_bytree=None, device=None, early_stopping_rounds=None,\n",
              "              enable_categorical=False, eval_metric='logloss',\n",
              "              feature_types=None, feature_weights=None, gamma=None,\n",
              "              grow_policy=None, importance_type=None,\n",
              "              interaction_constraints=None, learning_rate=None, max_bin=None,\n",
              "              max_cat_threshold=None, max_cat_to_onehot=None,\n",
              "              max_delta_step=None, max_depth=None, max_leaves=None,\n",
              "              min_child_weight=None, missing=nan, monotone_constraints=None,\n",
              "              multi_strategy=None, n_estimators=None, n_jobs=None,\n",
              "              num_parallel_tree=None, ...)"
            ],
            "text/html": [
              "<style>#sk-container-id-4 {\n",
              "  /* Definition of color scheme common for light and dark mode */\n",
              "  --sklearn-color-text: #000;\n",
              "  --sklearn-color-text-muted: #666;\n",
              "  --sklearn-color-line: gray;\n",
              "  /* Definition of color scheme for unfitted estimators */\n",
              "  --sklearn-color-unfitted-level-0: #fff5e6;\n",
              "  --sklearn-color-unfitted-level-1: #f6e4d2;\n",
              "  --sklearn-color-unfitted-level-2: #ffe0b3;\n",
              "  --sklearn-color-unfitted-level-3: chocolate;\n",
              "  /* Definition of color scheme for fitted estimators */\n",
              "  --sklearn-color-fitted-level-0: #f0f8ff;\n",
              "  --sklearn-color-fitted-level-1: #d4ebff;\n",
              "  --sklearn-color-fitted-level-2: #b3dbfd;\n",
              "  --sklearn-color-fitted-level-3: cornflowerblue;\n",
              "\n",
              "  /* Specific color for light theme */\n",
              "  --sklearn-color-text-on-default-background: var(--sg-text-color, var(--theme-code-foreground, var(--jp-content-font-color1, black)));\n",
              "  --sklearn-color-background: var(--sg-background-color, var(--theme-background, var(--jp-layout-color0, white)));\n",
              "  --sklearn-color-border-box: var(--sg-text-color, var(--theme-code-foreground, var(--jp-content-font-color1, black)));\n",
              "  --sklearn-color-icon: #696969;\n",
              "\n",
              "  @media (prefers-color-scheme: dark) {\n",
              "    /* Redefinition of color scheme for dark theme */\n",
              "    --sklearn-color-text-on-default-background: var(--sg-text-color, var(--theme-code-foreground, var(--jp-content-font-color1, white)));\n",
              "    --sklearn-color-background: var(--sg-background-color, var(--theme-background, var(--jp-layout-color0, #111)));\n",
              "    --sklearn-color-border-box: var(--sg-text-color, var(--theme-code-foreground, var(--jp-content-font-color1, white)));\n",
              "    --sklearn-color-icon: #878787;\n",
              "  }\n",
              "}\n",
              "\n",
              "#sk-container-id-4 {\n",
              "  color: var(--sklearn-color-text);\n",
              "}\n",
              "\n",
              "#sk-container-id-4 pre {\n",
              "  padding: 0;\n",
              "}\n",
              "\n",
              "#sk-container-id-4 input.sk-hidden--visually {\n",
              "  border: 0;\n",
              "  clip: rect(1px 1px 1px 1px);\n",
              "  clip: rect(1px, 1px, 1px, 1px);\n",
              "  height: 1px;\n",
              "  margin: -1px;\n",
              "  overflow: hidden;\n",
              "  padding: 0;\n",
              "  position: absolute;\n",
              "  width: 1px;\n",
              "}\n",
              "\n",
              "#sk-container-id-4 div.sk-dashed-wrapped {\n",
              "  border: 1px dashed var(--sklearn-color-line);\n",
              "  margin: 0 0.4em 0.5em 0.4em;\n",
              "  box-sizing: border-box;\n",
              "  padding-bottom: 0.4em;\n",
              "  background-color: var(--sklearn-color-background);\n",
              "}\n",
              "\n",
              "#sk-container-id-4 div.sk-container {\n",
              "  /* jupyter's `normalize.less` sets `[hidden] { display: none; }`\n",
              "     but bootstrap.min.css set `[hidden] { display: none !important; }`\n",
              "     so we also need the `!important` here to be able to override the\n",
              "     default hidden behavior on the sphinx rendered scikit-learn.org.\n",
              "     See: https://github.com/scikit-learn/scikit-learn/issues/21755 */\n",
              "  display: inline-block !important;\n",
              "  position: relative;\n",
              "}\n",
              "\n",
              "#sk-container-id-4 div.sk-text-repr-fallback {\n",
              "  display: none;\n",
              "}\n",
              "\n",
              "div.sk-parallel-item,\n",
              "div.sk-serial,\n",
              "div.sk-item {\n",
              "  /* draw centered vertical line to link estimators */\n",
              "  background-image: linear-gradient(var(--sklearn-color-text-on-default-background), var(--sklearn-color-text-on-default-background));\n",
              "  background-size: 2px 100%;\n",
              "  background-repeat: no-repeat;\n",
              "  background-position: center center;\n",
              "}\n",
              "\n",
              "/* Parallel-specific style estimator block */\n",
              "\n",
              "#sk-container-id-4 div.sk-parallel-item::after {\n",
              "  content: \"\";\n",
              "  width: 100%;\n",
              "  border-bottom: 2px solid var(--sklearn-color-text-on-default-background);\n",
              "  flex-grow: 1;\n",
              "}\n",
              "\n",
              "#sk-container-id-4 div.sk-parallel {\n",
              "  display: flex;\n",
              "  align-items: stretch;\n",
              "  justify-content: center;\n",
              "  background-color: var(--sklearn-color-background);\n",
              "  position: relative;\n",
              "}\n",
              "\n",
              "#sk-container-id-4 div.sk-parallel-item {\n",
              "  display: flex;\n",
              "  flex-direction: column;\n",
              "}\n",
              "\n",
              "#sk-container-id-4 div.sk-parallel-item:first-child::after {\n",
              "  align-self: flex-end;\n",
              "  width: 50%;\n",
              "}\n",
              "\n",
              "#sk-container-id-4 div.sk-parallel-item:last-child::after {\n",
              "  align-self: flex-start;\n",
              "  width: 50%;\n",
              "}\n",
              "\n",
              "#sk-container-id-4 div.sk-parallel-item:only-child::after {\n",
              "  width: 0;\n",
              "}\n",
              "\n",
              "/* Serial-specific style estimator block */\n",
              "\n",
              "#sk-container-id-4 div.sk-serial {\n",
              "  display: flex;\n",
              "  flex-direction: column;\n",
              "  align-items: center;\n",
              "  background-color: var(--sklearn-color-background);\n",
              "  padding-right: 1em;\n",
              "  padding-left: 1em;\n",
              "}\n",
              "\n",
              "\n",
              "/* Toggleable style: style used for estimator/Pipeline/ColumnTransformer box that is\n",
              "clickable and can be expanded/collapsed.\n",
              "- Pipeline and ColumnTransformer use this feature and define the default style\n",
              "- Estimators will overwrite some part of the style using the `sk-estimator` class\n",
              "*/\n",
              "\n",
              "/* Pipeline and ColumnTransformer style (default) */\n",
              "\n",
              "#sk-container-id-4 div.sk-toggleable {\n",
              "  /* Default theme specific background. It is overwritten whether we have a\n",
              "  specific estimator or a Pipeline/ColumnTransformer */\n",
              "  background-color: var(--sklearn-color-background);\n",
              "}\n",
              "\n",
              "/* Toggleable label */\n",
              "#sk-container-id-4 label.sk-toggleable__label {\n",
              "  cursor: pointer;\n",
              "  display: flex;\n",
              "  width: 100%;\n",
              "  margin-bottom: 0;\n",
              "  padding: 0.5em;\n",
              "  box-sizing: border-box;\n",
              "  text-align: center;\n",
              "  align-items: start;\n",
              "  justify-content: space-between;\n",
              "  gap: 0.5em;\n",
              "}\n",
              "\n",
              "#sk-container-id-4 label.sk-toggleable__label .caption {\n",
              "  font-size: 0.6rem;\n",
              "  font-weight: lighter;\n",
              "  color: var(--sklearn-color-text-muted);\n",
              "}\n",
              "\n",
              "#sk-container-id-4 label.sk-toggleable__label-arrow:before {\n",
              "  /* Arrow on the left of the label */\n",
              "  content: \"▸\";\n",
              "  float: left;\n",
              "  margin-right: 0.25em;\n",
              "  color: var(--sklearn-color-icon);\n",
              "}\n",
              "\n",
              "#sk-container-id-4 label.sk-toggleable__label-arrow:hover:before {\n",
              "  color: var(--sklearn-color-text);\n",
              "}\n",
              "\n",
              "/* Toggleable content - dropdown */\n",
              "\n",
              "#sk-container-id-4 div.sk-toggleable__content {\n",
              "  max-height: 0;\n",
              "  max-width: 0;\n",
              "  overflow: hidden;\n",
              "  text-align: left;\n",
              "  /* unfitted */\n",
              "  background-color: var(--sklearn-color-unfitted-level-0);\n",
              "}\n",
              "\n",
              "#sk-container-id-4 div.sk-toggleable__content.fitted {\n",
              "  /* fitted */\n",
              "  background-color: var(--sklearn-color-fitted-level-0);\n",
              "}\n",
              "\n",
              "#sk-container-id-4 div.sk-toggleable__content pre {\n",
              "  margin: 0.2em;\n",
              "  border-radius: 0.25em;\n",
              "  color: var(--sklearn-color-text);\n",
              "  /* unfitted */\n",
              "  background-color: var(--sklearn-color-unfitted-level-0);\n",
              "}\n",
              "\n",
              "#sk-container-id-4 div.sk-toggleable__content.fitted pre {\n",
              "  /* unfitted */\n",
              "  background-color: var(--sklearn-color-fitted-level-0);\n",
              "}\n",
              "\n",
              "#sk-container-id-4 input.sk-toggleable__control:checked~div.sk-toggleable__content {\n",
              "  /* Expand drop-down */\n",
              "  max-height: 200px;\n",
              "  max-width: 100%;\n",
              "  overflow: auto;\n",
              "}\n",
              "\n",
              "#sk-container-id-4 input.sk-toggleable__control:checked~label.sk-toggleable__label-arrow:before {\n",
              "  content: \"▾\";\n",
              "}\n",
              "\n",
              "/* Pipeline/ColumnTransformer-specific style */\n",
              "\n",
              "#sk-container-id-4 div.sk-label input.sk-toggleable__control:checked~label.sk-toggleable__label {\n",
              "  color: var(--sklearn-color-text);\n",
              "  background-color: var(--sklearn-color-unfitted-level-2);\n",
              "}\n",
              "\n",
              "#sk-container-id-4 div.sk-label.fitted input.sk-toggleable__control:checked~label.sk-toggleable__label {\n",
              "  background-color: var(--sklearn-color-fitted-level-2);\n",
              "}\n",
              "\n",
              "/* Estimator-specific style */\n",
              "\n",
              "/* Colorize estimator box */\n",
              "#sk-container-id-4 div.sk-estimator input.sk-toggleable__control:checked~label.sk-toggleable__label {\n",
              "  /* unfitted */\n",
              "  background-color: var(--sklearn-color-unfitted-level-2);\n",
              "}\n",
              "\n",
              "#sk-container-id-4 div.sk-estimator.fitted input.sk-toggleable__control:checked~label.sk-toggleable__label {\n",
              "  /* fitted */\n",
              "  background-color: var(--sklearn-color-fitted-level-2);\n",
              "}\n",
              "\n",
              "#sk-container-id-4 div.sk-label label.sk-toggleable__label,\n",
              "#sk-container-id-4 div.sk-label label {\n",
              "  /* The background is the default theme color */\n",
              "  color: var(--sklearn-color-text-on-default-background);\n",
              "}\n",
              "\n",
              "/* On hover, darken the color of the background */\n",
              "#sk-container-id-4 div.sk-label:hover label.sk-toggleable__label {\n",
              "  color: var(--sklearn-color-text);\n",
              "  background-color: var(--sklearn-color-unfitted-level-2);\n",
              "}\n",
              "\n",
              "/* Label box, darken color on hover, fitted */\n",
              "#sk-container-id-4 div.sk-label.fitted:hover label.sk-toggleable__label.fitted {\n",
              "  color: var(--sklearn-color-text);\n",
              "  background-color: var(--sklearn-color-fitted-level-2);\n",
              "}\n",
              "\n",
              "/* Estimator label */\n",
              "\n",
              "#sk-container-id-4 div.sk-label label {\n",
              "  font-family: monospace;\n",
              "  font-weight: bold;\n",
              "  display: inline-block;\n",
              "  line-height: 1.2em;\n",
              "}\n",
              "\n",
              "#sk-container-id-4 div.sk-label-container {\n",
              "  text-align: center;\n",
              "}\n",
              "\n",
              "/* Estimator-specific */\n",
              "#sk-container-id-4 div.sk-estimator {\n",
              "  font-family: monospace;\n",
              "  border: 1px dotted var(--sklearn-color-border-box);\n",
              "  border-radius: 0.25em;\n",
              "  box-sizing: border-box;\n",
              "  margin-bottom: 0.5em;\n",
              "  /* unfitted */\n",
              "  background-color: var(--sklearn-color-unfitted-level-0);\n",
              "}\n",
              "\n",
              "#sk-container-id-4 div.sk-estimator.fitted {\n",
              "  /* fitted */\n",
              "  background-color: var(--sklearn-color-fitted-level-0);\n",
              "}\n",
              "\n",
              "/* on hover */\n",
              "#sk-container-id-4 div.sk-estimator:hover {\n",
              "  /* unfitted */\n",
              "  background-color: var(--sklearn-color-unfitted-level-2);\n",
              "}\n",
              "\n",
              "#sk-container-id-4 div.sk-estimator.fitted:hover {\n",
              "  /* fitted */\n",
              "  background-color: var(--sklearn-color-fitted-level-2);\n",
              "}\n",
              "\n",
              "/* Specification for estimator info (e.g. \"i\" and \"?\") */\n",
              "\n",
              "/* Common style for \"i\" and \"?\" */\n",
              "\n",
              ".sk-estimator-doc-link,\n",
              "a:link.sk-estimator-doc-link,\n",
              "a:visited.sk-estimator-doc-link {\n",
              "  float: right;\n",
              "  font-size: smaller;\n",
              "  line-height: 1em;\n",
              "  font-family: monospace;\n",
              "  background-color: var(--sklearn-color-background);\n",
              "  border-radius: 1em;\n",
              "  height: 1em;\n",
              "  width: 1em;\n",
              "  text-decoration: none !important;\n",
              "  margin-left: 0.5em;\n",
              "  text-align: center;\n",
              "  /* unfitted */\n",
              "  border: var(--sklearn-color-unfitted-level-1) 1pt solid;\n",
              "  color: var(--sklearn-color-unfitted-level-1);\n",
              "}\n",
              "\n",
              ".sk-estimator-doc-link.fitted,\n",
              "a:link.sk-estimator-doc-link.fitted,\n",
              "a:visited.sk-estimator-doc-link.fitted {\n",
              "  /* fitted */\n",
              "  border: var(--sklearn-color-fitted-level-1) 1pt solid;\n",
              "  color: var(--sklearn-color-fitted-level-1);\n",
              "}\n",
              "\n",
              "/* On hover */\n",
              "div.sk-estimator:hover .sk-estimator-doc-link:hover,\n",
              ".sk-estimator-doc-link:hover,\n",
              "div.sk-label-container:hover .sk-estimator-doc-link:hover,\n",
              ".sk-estimator-doc-link:hover {\n",
              "  /* unfitted */\n",
              "  background-color: var(--sklearn-color-unfitted-level-3);\n",
              "  color: var(--sklearn-color-background);\n",
              "  text-decoration: none;\n",
              "}\n",
              "\n",
              "div.sk-estimator.fitted:hover .sk-estimator-doc-link.fitted:hover,\n",
              ".sk-estimator-doc-link.fitted:hover,\n",
              "div.sk-label-container:hover .sk-estimator-doc-link.fitted:hover,\n",
              ".sk-estimator-doc-link.fitted:hover {\n",
              "  /* fitted */\n",
              "  background-color: var(--sklearn-color-fitted-level-3);\n",
              "  color: var(--sklearn-color-background);\n",
              "  text-decoration: none;\n",
              "}\n",
              "\n",
              "/* Span, style for the box shown on hovering the info icon */\n",
              ".sk-estimator-doc-link span {\n",
              "  display: none;\n",
              "  z-index: 9999;\n",
              "  position: relative;\n",
              "  font-weight: normal;\n",
              "  right: .2ex;\n",
              "  padding: .5ex;\n",
              "  margin: .5ex;\n",
              "  width: min-content;\n",
              "  min-width: 20ex;\n",
              "  max-width: 50ex;\n",
              "  color: var(--sklearn-color-text);\n",
              "  box-shadow: 2pt 2pt 4pt #999;\n",
              "  /* unfitted */\n",
              "  background: var(--sklearn-color-unfitted-level-0);\n",
              "  border: .5pt solid var(--sklearn-color-unfitted-level-3);\n",
              "}\n",
              "\n",
              ".sk-estimator-doc-link.fitted span {\n",
              "  /* fitted */\n",
              "  background: var(--sklearn-color-fitted-level-0);\n",
              "  border: var(--sklearn-color-fitted-level-3);\n",
              "}\n",
              "\n",
              ".sk-estimator-doc-link:hover span {\n",
              "  display: block;\n",
              "}\n",
              "\n",
              "/* \"?\"-specific style due to the `<a>` HTML tag */\n",
              "\n",
              "#sk-container-id-4 a.estimator_doc_link {\n",
              "  float: right;\n",
              "  font-size: 1rem;\n",
              "  line-height: 1em;\n",
              "  font-family: monospace;\n",
              "  background-color: var(--sklearn-color-background);\n",
              "  border-radius: 1rem;\n",
              "  height: 1rem;\n",
              "  width: 1rem;\n",
              "  text-decoration: none;\n",
              "  /* unfitted */\n",
              "  color: var(--sklearn-color-unfitted-level-1);\n",
              "  border: var(--sklearn-color-unfitted-level-1) 1pt solid;\n",
              "}\n",
              "\n",
              "#sk-container-id-4 a.estimator_doc_link.fitted {\n",
              "  /* fitted */\n",
              "  border: var(--sklearn-color-fitted-level-1) 1pt solid;\n",
              "  color: var(--sklearn-color-fitted-level-1);\n",
              "}\n",
              "\n",
              "/* On hover */\n",
              "#sk-container-id-4 a.estimator_doc_link:hover {\n",
              "  /* unfitted */\n",
              "  background-color: var(--sklearn-color-unfitted-level-3);\n",
              "  color: var(--sklearn-color-background);\n",
              "  text-decoration: none;\n",
              "}\n",
              "\n",
              "#sk-container-id-4 a.estimator_doc_link.fitted:hover {\n",
              "  /* fitted */\n",
              "  background-color: var(--sklearn-color-fitted-level-3);\n",
              "}\n",
              "</style><div id=\"sk-container-id-4\" class=\"sk-top-container\"><div class=\"sk-text-repr-fallback\"><pre>XGBClassifier(base_score=None, booster=None, callbacks=None,\n",
              "              colsample_bylevel=None, colsample_bynode=None,\n",
              "              colsample_bytree=None, device=None, early_stopping_rounds=None,\n",
              "              enable_categorical=False, eval_metric=&#x27;logloss&#x27;,\n",
              "              feature_types=None, feature_weights=None, gamma=None,\n",
              "              grow_policy=None, importance_type=None,\n",
              "              interaction_constraints=None, learning_rate=None, max_bin=None,\n",
              "              max_cat_threshold=None, max_cat_to_onehot=None,\n",
              "              max_delta_step=None, max_depth=None, max_leaves=None,\n",
              "              min_child_weight=None, missing=nan, monotone_constraints=None,\n",
              "              multi_strategy=None, n_estimators=None, n_jobs=None,\n",
              "              num_parallel_tree=None, ...)</pre><b>In a Jupyter environment, please rerun this cell to show the HTML representation or trust the notebook. <br />On GitHub, the HTML representation is unable to render, please try loading this page with nbviewer.org.</b></div><div class=\"sk-container\" hidden><div class=\"sk-item\"><div class=\"sk-estimator fitted sk-toggleable\"><input class=\"sk-toggleable__control sk-hidden--visually\" id=\"sk-estimator-id-4\" type=\"checkbox\" checked><label for=\"sk-estimator-id-4\" class=\"sk-toggleable__label fitted sk-toggleable__label-arrow\"><div><div>XGBClassifier</div></div><div><a class=\"sk-estimator-doc-link fitted\" rel=\"noreferrer\" target=\"_blank\" href=\"https://xgboost.readthedocs.io/en/release_3.0.0/python/python_api.html#xgboost.XGBClassifier\">?<span>Documentation for XGBClassifier</span></a><span class=\"sk-estimator-doc-link fitted\">i<span>Fitted</span></span></div></label><div class=\"sk-toggleable__content fitted\"><pre>XGBClassifier(base_score=None, booster=None, callbacks=None,\n",
              "              colsample_bylevel=None, colsample_bynode=None,\n",
              "              colsample_bytree=None, device=None, early_stopping_rounds=None,\n",
              "              enable_categorical=False, eval_metric=&#x27;logloss&#x27;,\n",
              "              feature_types=None, feature_weights=None, gamma=None,\n",
              "              grow_policy=None, importance_type=None,\n",
              "              interaction_constraints=None, learning_rate=None, max_bin=None,\n",
              "              max_cat_threshold=None, max_cat_to_onehot=None,\n",
              "              max_delta_step=None, max_depth=None, max_leaves=None,\n",
              "              min_child_weight=None, missing=nan, monotone_constraints=None,\n",
              "              multi_strategy=None, n_estimators=None, n_jobs=None,\n",
              "              num_parallel_tree=None, ...)</pre></div> </div></div></div></div>"
            ]
          },
          "metadata": {},
          "execution_count": 41
        }
      ],
      "source": [
        "xgb_classifier_cons = XGBClassifier(eval_metric='logloss', random_state=42) # 'logloss' for binary classification\n",
        "xgb_classifier_cons.fit(X_train_cons, y_train_cons)"
      ]
    },
    {
      "cell_type": "code",
      "execution_count": null,
      "metadata": {
        "id": "5ntegAm3CNzg"
      },
      "outputs": [],
      "source": [
        "y_pred_xgb_cons = xgb_classifier_cons.predict(X_test_cons)"
      ]
    },
    {
      "cell_type": "code",
      "execution_count": null,
      "metadata": {
        "colab": {
          "base_uri": "https://localhost:8080/"
        },
        "id": "gTUL33IDCNzh",
        "outputId": "a52c2840-f21a-478f-f22e-0944202f828a"
      },
      "outputs": [
        {
          "output_type": "stream",
          "name": "stdout",
          "text": [
            "ROC-AUC Score: 0.8791\n"
          ]
        }
      ],
      "source": [
        "calculate_roc_auc(y_test_cons, y_pred_xgb_cons)"
      ]
    },
    {
      "cell_type": "markdown",
      "metadata": {
        "id": "7MmEuhNwx6XQ"
      },
      "source": [
        "**The following table summarizes the performance of the XGBoost model using different feature selection strategies, highlighting the empirical impact of each step.**"
      ]
    },
    {
      "cell_type": "markdown",
      "metadata": {
        "id": "5iwqNG9Wx5Yh"
      },
      "source": [
        "Table: Model Performance (XGBoost ROC AUC) Across Feature Selection Strategies\n",
        "\n",
        "```\n",
        "Feature Set.....              Number of Features---- Average ROC AUC (5-Fold CV)\n",
        "Baseline (Full Dataset)                    37                         0.9922\n",
        "After Quasi-Constant Removal               26                         0.9941\n",
        "Top 14 Features (Consolidated)             14                         0.9941\n"
      ]
    },
    {
      "cell_type": "markdown",
      "metadata": {
        "id": "eQL0Y9P7FMEc"
      },
      "source": [
        "# **4. Feature Extraction: Deriving New Informative Features**"
      ]
    },
    {
      "cell_type": "code",
      "execution_count": null,
      "metadata": {
        "colab": {
          "base_uri": "https://localhost:8080/"
        },
        "id": "i5YpZsjWIYtT",
        "outputId": "4028b908-817b-4812-e291-a90a344bb783"
      },
      "outputs": [
        {
          "output_type": "stream",
          "name": "stdout",
          "text": [
            "\n",
            "New features created:\n",
            "Index(['Age_Group_AGE 60-80_OP_Interaction', 'BMI_square',\n",
            "       'CST_Gait_Speed_Interaction', 'Gait_Speed_Exercise_Interaction'],\n",
            "      dtype='object')\n",
            "\n",
            "Correlation of new features with Sarcopenia (Training Data):\n",
            "CST_Gait_Speed_Interaction            0.044989\n",
            "BMI_square                            0.002074\n",
            "Gait_Speed_Exercise_Interaction       0.000988\n",
            "Age_Group_AGE 60-80_OP_Interaction    0.000334\n",
            "dtype: float64\n"
          ]
        }
      ],
      "source": [
        "from sklearn.preprocessing import PolynomialFeatures\n",
        "\n",
        "# Use the consolidated 14 features for feature extraction\n",
        "# Re-define optimal_features_sfs based on the RFE selection for consistency, as SFS yielded only 1 feature for DT.\n",
        "optimal_features_sfs = ['AT', 'Age_Group_AGE 60-80', 'BMI', 'CST', 'DM_Type2',\n",
        "       'Exercise_Status_3-4/week', 'Gait_Speed', 'Gender_M', 'OP', 'Total_Number_of_Chronic_Diseases',\n",
        "       'Waist_Hip_Ratio', 'Work_Status_working']\n",
        "\n",
        "X_train_extracted = X_train_filtered[optimal_features_sfs].copy()\n",
        "X_test_extracted = X_test_filtered[optimal_features_sfs].copy()\n",
        "\n",
        "# 1. Create Interaction Term: Gait_Speed * Exercise_Interaction\n",
        "# Rationale: This interaction could capture the combined effect of CST and Exercise.\n",
        "X_train_extracted['Gait_Speed_Exercise_Interaction'] = X_train_extracted['Gait_Speed'] * X_train_extracted['Exercise_Status_3-4/week']\n",
        "X_test_extracted['Gait_Speed_Exercise_Interaction'] = X_test_extracted['Gait_Speed'] * X_test_extracted['Exercise_Status_3-4/week']\n",
        "\n",
        "# 2. Create Interaction Term: CST * Gait_Speed\n",
        "# Rationale: How CST is affected by the spesific age group.\n",
        "X_train_extracted['CST_Gait_Speed_Interaction'] = X_train_extracted['CST'] * X_train_extracted['Gait_Speed']\n",
        "X_test_extracted['CST_Gait_Speed_Interaction'] = X_test_extracted['CST'] * X_test_extracted['Gait_Speed']\n",
        "\n",
        "# 3. Create Interaction Term: Age_Group_AGE 60-80 * OP\n",
        "# Rationale: This interaction could capture the combined effect of age and OP.\n",
        "X_train_extracted['Age_Group_AGE 60-80_OP_Interaction'] = X_train_extracted['Age_Group_AGE 60-80'] * X_train_extracted['OP']\n",
        "X_test_extracted['Age_Group_AGE 60-80_OP_Interaction'] = X_test_extracted['Age_Group_AGE 60-80'] * X_test_extracted['OP']\n",
        "\n",
        "# 4. Create a simple polynomial feature: BMI^2\n",
        "# Rationale: To capture potential non-linear effects of BMI on sarcopenia risk.\n",
        "X_train_extracted['BMI_square'] = X_train_extracted['BMI']**2\n",
        "X_test_extracted['BMI_square'] = X_test_extracted['BMI']**2\n",
        "\n",
        "# Display the new features and their initial correlation with the target\n",
        "print(\"\\nNew features created:\")\n",
        "print(X_train_extracted.columns.difference(X_train_filtered[optimal_features_sfs].columns))\n",
        "\n",
        "print(\"\\nCorrelation of new features with Sarcopenia (Training Data):\")\n",
        "new_features_corr = X_train_extracted[X_train_extracted.columns.difference(X_train_filtered[optimal_features_sfs].columns)].corrwith(y_train_full).abs().sort_values(ascending=False)\n",
        "print(new_features_corr)"
      ]
    },
    {
      "cell_type": "markdown",
      "metadata": {
        "id": "Cb6pqFnZdDZ3"
      },
      "source": [
        "5 new features were engineered: AT_Grip_Str_Interaction, Gait_Speed_Exercise_Interaction, CST_Gait_Speed_Interaction, Age_Group_AGE 60-80_OP_Interaction and BMI_sq. The Age_Group_AGE 60-80_OP_Interaction aims to capture the combined effect of aging and osteoporosis, which are both effective indicators in sarcopenia. The AT_Grip_Str_Interaction explores how Grip_Str might be modulated by AT. CST_Gait_Speed_Interaction aims to capture how CST is affected by the Gait_speed. The BMI_sq feature introduces a non-linear component for BMI, acknowledging that its relationship with sarcopenia might not be strictly linear. The initial correlation analysis indicates that CST_Gait_Speed_Interaction, AT_Grip_Str_Interaction and BMI_sq show notable absolute correlations with sarcopenia, suggesting their potential utility in improving model performance. First 3 of these new features will be incorporated into the feature set for subsequent model training."
      ]
    },
    {
      "cell_type": "markdown",
      "metadata": {
        "id": "wiwHSzv8FfK-"
      },
      "source": [
        "# **5. Model Optimization and Performance Evaluation**"
      ]
    },
    {
      "cell_type": "markdown",
      "metadata": {
        "id": "W0-4e6blFnsc"
      },
      "source": [
        "**5.1 Baseline Model Performance (Decision Tree, XGBoost on initial features)**"
      ]
    },
    {
      "cell_type": "code",
      "execution_count": null,
      "metadata": {
        "colab": {
          "base_uri": "https://localhost:8080/"
        },
        "id": "9cVsHmrSINgU",
        "outputId": "a794db30-af9f-43e8-c732-b40052ae306b"
      },
      "outputs": [
        {
          "output_type": "stream",
          "name": "stdout",
          "text": [
            "\n",
            "--- Decision Tree Performance ---\n",
            "Average ROC AUC (5-Fold CV on Train): 0.8470\n",
            "Average Accuracy (5-Fold CV on Train): 0.8977\n",
            "Average Precision (5-Fold CV on Train): 0.7419\n",
            "Average Recall (5-Fold CV on Train): 0.7618\n",
            "Average F1-Score (5-Fold CV on Train): 0.7514\n",
            "\n",
            "Performance Metrics (on Held-out Test Set):\n",
            "ROC AUC: 0.8591\n",
            "Accuracy: 0.9011\n",
            "Precision: 0.7417\n",
            "Recall: 0.7882\n",
            "F1-Score: 0.7643\n",
            "\n",
            "Classification Report (on Held-out Test Set):\n",
            "              precision    recall  f1-score   support\n",
            "\n",
            "           0       0.95      0.93      0.94       999\n",
            "           1       0.74      0.79      0.76       255\n",
            "\n",
            "    accuracy                           0.90      1254\n",
            "   macro avg       0.84      0.86      0.85      1254\n",
            "weighted avg       0.90      0.90      0.90      1254\n",
            "\n",
            "\n",
            "Confusion Matrix (on Held-out Test Set):\n",
            "[[929  70]\n",
            " [ 54 201]]\n",
            "\n",
            "--- XGBoost Performance ---\n",
            "Average ROC AUC (5-Fold CV on Train): 0.9648\n",
            "Average Accuracy (5-Fold CV on Train): 0.9359\n",
            "Average Precision (5-Fold CV on Train): 0.9011\n",
            "Average Recall (5-Fold CV on Train): 0.7696\n",
            "Average F1-Score (5-Fold CV on Train): 0.8301\n",
            "\n",
            "Performance Metrics (on Held-out Test Set):\n",
            "ROC AUC: 0.9635\n",
            "Accuracy: 0.9258\n",
            "Precision: 0.8553\n",
            "Recall: 0.7647\n",
            "F1-Score: 0.8075\n",
            "\n",
            "Classification Report (on Held-out Test Set):\n",
            "              precision    recall  f1-score   support\n",
            "\n",
            "           0       0.94      0.97      0.95       999\n",
            "           1       0.86      0.76      0.81       255\n",
            "\n",
            "    accuracy                           0.93      1254\n",
            "   macro avg       0.90      0.87      0.88      1254\n",
            "weighted avg       0.92      0.93      0.92      1254\n",
            "\n",
            "\n",
            "Confusion Matrix (on Held-out Test Set):\n",
            "[[966  33]\n",
            " [ 60 195]]\n"
          ]
        }
      ],
      "source": [
        "from sklearn.tree import DecisionTreeClassifier\n",
        "from xgboost import XGBClassifier\n",
        "from sklearn.metrics import roc_auc_score, accuracy_score, precision_score, recall_score, f1_score, classification_report, confusion_matrix\n",
        "from sklearn.model_selection import StratifiedKFold, cross_val_score\n",
        "\n",
        "# Define models\n",
        "dt_baseline = DecisionTreeClassifier(random_state=42)\n",
        "xgb_baseline = XGBClassifier(random_state=42, eval_metric='logloss')\n",
        "\n",
        "# Use the original full preprocessed X_train, X_test\n",
        "X_train_baseline = X_train_full\n",
        "X_test_baseline = X_test_full\n",
        "y_test_baseline = y_test_full\n",
        "\n",
        "# Stratified K-Fold for robust evaluation\n",
        "cv_splitter = StratifiedKFold(n_splits=5, shuffle=True, random_state=42)\n",
        "\n",
        "def evaluate_model_cv(model, X_train, y_train, X_test, y_test, name=\"Model\"):\n",
        "    print(f\"\\n--- {name} Performance ---\")\n",
        "\n",
        "    # Stratified K-Fold for robust evaluation on the training data\n",
        "    cv_splitter = StratifiedKFold(n_splits=5, shuffle=True, random_state=42)\n",
        "\n",
        "    roc_auc_scores = cross_val_score(model, X_train_baseline, y_train_full, cv=cv_splitter, scoring='roc_auc', n_jobs=-1)\n",
        "    accuracy_scores = cross_val_score(model, X_train_baseline, y_train_full, cv=cv_splitter, scoring='accuracy', n_jobs=-1)\n",
        "    precision_scores = cross_val_score(model, X_train_baseline, y_train_full, cv=cv_splitter, scoring='precision', n_jobs=-1)\n",
        "    recall_scores = cross_val_score(model, X_train_baseline, y_train_full, cv=cv_splitter, scoring='recall', n_jobs=-1)\n",
        "    f1_scores = cross_val_score(model, X_train_baseline, y_train_full, cv=cv_splitter, scoring='f1', n_jobs=-1)\n",
        "\n",
        "    print(f\"Average ROC AUC (5-Fold CV on Train): {np.mean(roc_auc_scores):.4f}\")\n",
        "    print(f\"Average Accuracy (5-Fold CV on Train): {np.mean(accuracy_scores):.4f}\")\n",
        "    print(f\"Average Precision (5-Fold CV on Train): {np.mean(precision_scores):.4f}\")\n",
        "    print(f\"Average Recall (5-Fold CV on Train): {np.mean(recall_scores):.4f}\")\n",
        "    print(f\"Average F1-Score (5-Fold CV on Train): {np.mean(f1_scores):.4f}\")\n",
        "\n",
        "    # Train on full training set and evaluate on the held-out test set\n",
        "    model.fit(X_train_baseline, y_train_full)\n",
        "    y_pred = model.predict(X_test_baseline) # Predict on the passed-in test set\n",
        "    y_prob = model.predict_proba(X_test_baseline)[:, 1] # Get probabilities for ROC AUC on test set\n",
        "\n",
        "    print(\"\\nPerformance Metrics (on Held-out Test Set):\")\n",
        "    print(f\"ROC AUC: {roc_auc_score(y_test_baseline, y_prob):.4f}\")\n",
        "    print(f\"Accuracy: {accuracy_score(y_test_baseline, y_pred):.4f}\")\n",
        "    print(f\"Precision: {precision_score(y_test_baseline, y_pred):.4f}\")\n",
        "    print(f\"Recall: {recall_score(y_test_baseline, y_pred):.4f}\")\n",
        "    print(f\"F1-Score: {f1_score(y_test_baseline, y_pred):.4f}\")\n",
        "\n",
        "    print(\"\\nClassification Report (on Held-out Test Set):\")\n",
        "    print(classification_report(y_test_baseline, y_pred))\n",
        "    print(\"\\nConfusion Matrix (on Held-out Test Set):\")\n",
        "    print(confusion_matrix(y_test_baseline, y_pred))\n",
        "\n",
        "# Evaluate Decision Tree Baseline\n",
        "evaluate_model_cv(dt_baseline, X_train_baseline, y_train_full, X_test_baseline, y_test_baseline, name=\"Decision Tree\")\n",
        "\n",
        "# Evaluate XGBoost Baseline\n",
        "evaluate_model_cv(xgb_baseline, X_train_baseline, y_train_full, X_test_baseline, y_test_baseline, name=\"XGBoost\")"
      ]
    },
    {
      "cell_type": "markdown",
      "metadata": {
        "id": "smAFSmavKwLQ"
      },
      "source": [
        "The baseline performance evaluation reveals distinct capabilities of the two models. The Decision Tree Classifier, without hyperparameter tuning, shows an average ROC AUC of approximately 0.9936, an accuracy of 0.9944 and recall for the positive class (sarcopenia) of 0.9922. In contrast, the XGBoost Classifier demonstrates a stronger baseline, achieving an average ROC AUC of 1, an accuracy of 0.9968 and recall of 0.9843. XGBoost's overall performance is superior, making it a more promising candidate for further optimization. These metrics will serve as the benchmark against which the impact of feature optimization and hyperparameter tuning will be measured."
      ]
    },
    {
      "cell_type": "markdown",
      "metadata": {
        "id": "NvRQUsTgFs3N"
      },
      "source": [
        "**5.2 Optimized Model Training (Decision Tree, XGBoost on selected/extracted features)**"
      ]
    },
    {
      "cell_type": "markdown",
      "metadata": {
        "id": "AiMnQLlcL8ke"
      },
      "source": [
        "*With the consolidated set of 14 features from feature selection and the 3 newly extracted features, the models are now trained on this optimized feature set. This step aims to demonstrate the direct impact of feature optimization on model performance before any hyperparameter tuning.*"
      ]
    },
    {
      "cell_type": "code",
      "execution_count": null,
      "metadata": {
        "id": "sIjDIlw9RgHv"
      },
      "outputs": [],
      "source": [
        "optimal_features_sfs"
      ]
    },
    {
      "cell_type": "code",
      "execution_count": null,
      "metadata": {
        "colab": {
          "base_uri": "https://localhost:8080/"
        },
        "id": "VacyvPB2PA5F",
        "outputId": "f0f38c36-bcab-43be-f5e8-329811df2aa1"
      },
      "outputs": [
        {
          "output_type": "stream",
          "name": "stdout",
          "text": [
            "\n",
            "--- Decision Tree Optimized Performance ---\n",
            "Average ROC AUC (5-Fold CV on Train): 0.8470\n",
            "Average Accuracy (5-Fold CV on Train): 0.8977\n",
            "Average Precision (5-Fold CV on Train): 0.7419\n",
            "Average Recall (5-Fold CV on Train): 0.7618\n",
            "Average F1-Score (5-Fold CV on Train): 0.7514\n",
            "\n",
            "Performance Metrics (on Held-out Test Set):\n",
            "ROC AUC: 0.8591\n",
            "Accuracy: 0.9011\n",
            "Precision: 0.7417\n",
            "Recall: 0.7882\n",
            "F1-Score: 0.7643\n",
            "\n",
            "Classification Report (on Held-out Test Set):\n",
            "              precision    recall  f1-score   support\n",
            "\n",
            "           0       0.95      0.93      0.94       999\n",
            "           1       0.74      0.79      0.76       255\n",
            "\n",
            "    accuracy                           0.90      1254\n",
            "   macro avg       0.84      0.86      0.85      1254\n",
            "weighted avg       0.90      0.90      0.90      1254\n",
            "\n",
            "\n",
            "Confusion Matrix (on Held-out Test Set):\n",
            "[[929  70]\n",
            " [ 54 201]]\n",
            "\n",
            "--- XGBoost Optimized Performance ---\n",
            "Average ROC AUC (5-Fold CV on Train): 0.9648\n",
            "Average Accuracy (5-Fold CV on Train): 0.9359\n",
            "Average Precision (5-Fold CV on Train): 0.9011\n",
            "Average Recall (5-Fold CV on Train): 0.7696\n",
            "Average F1-Score (5-Fold CV on Train): 0.8301\n",
            "\n",
            "Performance Metrics (on Held-out Test Set):\n",
            "ROC AUC: 0.9635\n",
            "Accuracy: 0.9258\n",
            "Precision: 0.8553\n",
            "Recall: 0.7647\n",
            "F1-Score: 0.8075\n",
            "\n",
            "Classification Report (on Held-out Test Set):\n",
            "              precision    recall  f1-score   support\n",
            "\n",
            "           0       0.94      0.97      0.95       999\n",
            "           1       0.86      0.76      0.81       255\n",
            "\n",
            "    accuracy                           0.93      1254\n",
            "   macro avg       0.90      0.87      0.88      1254\n",
            "weighted avg       0.92      0.93      0.92      1254\n",
            "\n",
            "\n",
            "Confusion Matrix (on Held-out Test Set):\n",
            "[[966  33]\n",
            " [ 60 195]]\n"
          ]
        }
      ],
      "source": [
        "# Define the optimized feature set\n",
        "# Combine the 14 selected features and the 3 extracted features\n",
        "optimized_features_set = optimal_features_sfs + ['CST_Gait_Speed_Interaction', 'BMI_square', 'Gait_Speed_Exercise_Interaction']\n",
        "\n",
        "X_train_optimized = X_train_extracted[optimized_features_set] # X_train_extracted already has new features\n",
        "X_test_optimized = X_test_extracted[optimized_features_set]\n",
        "\n",
        "# Re-initialize models for a clean comparison\n",
        "dt_optimized = DecisionTreeClassifier(random_state=42)\n",
        "xgb_optimized = XGBClassifier(random_state=42, eval_metric='logloss')\n",
        "\n",
        "# Evaluate Decision Tree on Optimized Features\n",
        "evaluate_model_cv(dt_optimized, X_train_optimized, y_train_full, X_test_optimized, y_test_full, name=\"Decision Tree Optimized\")\n",
        "\n",
        "# Evaluate XGBoost on Optimized Features\n",
        "evaluate_model_cv(xgb_optimized, X_train_optimized, y_train_full, X_test_optimized, y_test_full, name=\"XGBoost Optimized\")"
      ]
    },
    {
      "cell_type": "markdown",
      "metadata": {
        "id": "o_89b8wlYDdl"
      },
      "source": [
        "Training the models on the optimized feature set yielded a slight improvement over the baseline. The Decision Tree Classifier's average ROC AUC stayed the same as before (0.9936), and its accuracy stayed the same as before (0.9944). The XGBoost Classifier's average ROC AUC and accuracy values did not increase either (1, 0.9968). Since there is no improvement in the values, they indicate that the selected and extracted features doesn't provide even a slightly small contribution to the models."
      ]
    },
    {
      "cell_type": "markdown",
      "metadata": {
        "id": "WMLXjaixFzKl"
      },
      "source": [
        "**5.3 Hyperparameter Tuning for Optimized Models**"
      ]
    },
    {
      "cell_type": "code",
      "execution_count": null,
      "metadata": {
        "id": "hvv_paZaIcFj",
        "colab": {
          "base_uri": "https://localhost:8080/"
        },
        "outputId": "f8d9b467-a575-486b-b40c-839ae91c3ceb"
      },
      "outputs": [
        {
          "output_type": "stream",
          "name": "stdout",
          "text": [
            "Fitting 5 folds for each of 972 candidates, totalling 4860 fits\n",
            "\n",
            "Best parameters for XGBoost: {'colsample_bytree': 0.9, 'gamma': 0.1, 'learning_rate': 0.05, 'max_depth': 5, 'n_estimators': 200, 'reg_alpha': 0.001, 'subsample': 0.9}\n",
            "Best ROC AUC score for XGBoost: 0.9683\n"
          ]
        }
      ],
      "source": [
        "from sklearn.model_selection import GridSearchCV\n",
        "from xgboost import XGBClassifier\n",
        "\n",
        "# Use the optimized feature set\n",
        "X_train_tuned = X_train_optimized\n",
        "y_train_tuned = y_train_full\n",
        "\n",
        "# Define parameter grid for XGBoost\n",
        "param_grid_xgb = {\n",
        "    'n_estimators': [100, 200, 300],\n",
        "    'learning_rate': [0.01, 0.05, 0.1],\n",
        "    'max_depth': [3, 5, 7],\n",
        "    'subsample': [0.7, 0.9],\n",
        "    'colsample_bytree': [0.7, 0.9],\n",
        "    'gamma': [0, 0.1, 0.2],\n",
        "    'reg_alpha': [0, 0.001, 0.01] # L1 regularization\n",
        "}\n",
        "\n",
        "# Initialize XGBoost Classifier\n",
        "xgb_tuned = XGBClassifier(random_state=42, eval_metric='logloss')\n",
        "\n",
        "# Perform GridSearchCV\n",
        "grid_search_xgb = GridSearchCV(\n",
        "    estimator=xgb_tuned,\n",
        "    param_grid=param_grid_xgb,\n",
        "    scoring='roc_auc',\n",
        "    cv=cv_splitter, # Use the same stratified k-fold splitter\n",
        "    n_jobs=-1,\n",
        "    verbose=1\n",
        ")\n",
        "\n",
        "grid_search_xgb.fit(X_train_tuned, y_train_tuned)\n",
        "\n",
        "print(f\"\\nBest parameters for XGBoost: {grid_search_xgb.best_params_}\")\n",
        "print(f\"Best ROC AUC score for XGBoost: {grid_search_xgb.best_score_:.4f}\")\n",
        "\n",
        "# For final evaluation, use the best XGBoost estimator\n",
        "best_xgb_model = grid_search_xgb.best_estimator_"
      ]
    },
    {
      "cell_type": "markdown",
      "metadata": {
        "id": "_gR4ssdGljjO"
      },
      "source": [
        "The hyperparameter tuning process for XGBoost identified an optimal set of parameters that significantly improved its performance. The best ROC AUC score achieved through GridSearchCV on the training data was 0.9983, whic is slightly higher than the initial optimized model's 0.9982. The optimal parameters indicate a preference for a moderate learning rate (0.1), a balanced number of estimators (300), and a specific tree structure (max_depth=3) with some regularization (gamma=0, reg_alpha=0). These tuned parameters are expected to enhance the model's ability to capture complex patterns while mitigating overfitting."
      ]
    },
    {
      "cell_type": "markdown",
      "metadata": {
        "id": "ECimSP55F3kM"
      },
      "source": [
        "**5.4 Performance Comparison and Cross-Validation**"
      ]
    },
    {
      "cell_type": "code",
      "source": [
        "X_test_optimized.shape"
      ],
      "metadata": {
        "colab": {
          "base_uri": "https://localhost:8080/"
        },
        "id": "TQd-Mf9BYq2-",
        "outputId": "8b44b595-f91a-4e62-d9df-0757d2b3cbfb"
      },
      "execution_count": null,
      "outputs": [
        {
          "output_type": "execute_result",
          "data": {
            "text/plain": [
              "(1254, 15)"
            ]
          },
          "metadata": {},
          "execution_count": 51
        }
      ]
    },
    {
      "cell_type": "code",
      "source": [
        "y_test_full.shape"
      ],
      "metadata": {
        "colab": {
          "base_uri": "https://localhost:8080/"
        },
        "id": "dqxPWiv2YqYH",
        "outputId": "cda2ae81-d5ad-49ee-800f-f60cdffc84b9"
      },
      "execution_count": null,
      "outputs": [
        {
          "output_type": "execute_result",
          "data": {
            "text/plain": [
              "(1254,)"
            ]
          },
          "metadata": {},
          "execution_count": 52
        }
      ]
    },
    {
      "cell_type": "code",
      "execution_count": null,
      "metadata": {
        "id": "IEtr5sqnIgp8",
        "colab": {
          "base_uri": "https://localhost:8080/"
        },
        "outputId": "6ba90c82-8d26-4cfc-a273-89ece301fd9a"
      },
      "outputs": [
        {
          "output_type": "stream",
          "name": "stdout",
          "text": [
            "\n",
            "--- Final Optimized XGBoost Model Performance (on Test Set) ---\n",
            "ROC AUC: 0.9659\n",
            "Accuracy: 0.9306\n",
            "Precision: 0.8750\n",
            "Recall: 0.7686\n",
            "F1-Score: 0.8184\n",
            "\n",
            "Classification Report:\n",
            "              precision    recall  f1-score   support\n",
            "\n",
            "           0       0.94      0.97      0.96       999\n",
            "           1       0.88      0.77      0.82       255\n",
            "\n",
            "    accuracy                           0.93      1254\n",
            "   macro avg       0.91      0.87      0.89      1254\n",
            "weighted avg       0.93      0.93      0.93      1254\n",
            "\n",
            "\n",
            "Confusion Matrix:\n",
            "[[971  28]\n",
            " [ 59 196]]\n",
            "\n",
            "--- Baseline XGBoost Model Performance (on Test Set) ---\n",
            "ROC AUC: 0.9635\n",
            "Accuracy: 0.9258\n",
            "Precision: 0.8553\n",
            "Recall: 0.7647\n",
            "F1-Score: 0.8075\n"
          ]
        }
      ],
      "source": [
        "# Evaluate the best XGBoost model on the test set\n",
        "# Use X_test_optimized and y_test_full\n",
        "y_pred_best_xgb = best_xgb_model.predict(X_test_optimized)\n",
        "y_prob_best_xgb = best_xgb_model.predict_proba(X_test_optimized)[:, 1]\n",
        "\n",
        "print(\"\\n--- Final Optimized XGBoost Model Performance (on Test Set) ---\")\n",
        "print(f\"ROC AUC: {roc_auc_score(y_test_full, y_prob_best_xgb):.4f}\")\n",
        "print(f\"Accuracy: {accuracy_score(y_test_full, y_pred_best_xgb):.4f}\")\n",
        "print(f\"Precision: {precision_score(y_test_full, y_pred_best_xgb):.4f}\")\n",
        "print(f\"Recall: {recall_score(y_test_full, y_pred_best_xgb):.4f}\")\n",
        "print(f\"F1-Score: {f1_score(y_test_full, y_pred_best_xgb):.4f}\")\n",
        "print(\"\\nClassification Report:\")\n",
        "print(classification_report(y_test_full, y_pred_best_xgb))\n",
        "print(\"\\nConfusion Matrix:\")\n",
        "print(confusion_matrix(y_test_full, y_pred_best_xgb))\n",
        "\n",
        "# For comparison, re-evaluate the baseline XGBoost on the test set (trained on full train data)\n",
        "baseline_xgb_final = XGBClassifier(random_state=42, eval_metric='logloss')\n",
        "baseline_xgb_final.fit(X_train_full, y_train_full) # Use full train data\n",
        "y_pred_baseline_xgb = baseline_xgb_final.predict(X_test_full) # Use full test data\n",
        "y_prob_baseline_xgb = baseline_xgb_final.predict_proba(X_test_full)[:, 1]\n",
        "\n",
        "print(\"\\n--- Baseline XGBoost Model Performance (on Test Set) ---\")\n",
        "print(f\"ROC AUC: {roc_auc_score(y_test_full, y_prob_baseline_xgb):.4f}\")\n",
        "print(f\"Accuracy: {accuracy_score(y_test_full, y_pred_baseline_xgb):.4f}\")\n",
        "print(f\"Precision: {precision_score(y_test_full, y_pred_baseline_xgb):.4f}\")\n",
        "print(f\"Recall: {recall_score(y_test_full, y_pred_baseline_xgb):.4f}\")\n",
        "print(f\"F1-Score: {f1_score(y_test_full, y_pred_baseline_xgb):.4f}\")"
      ]
    },
    {
      "cell_type": "markdown",
      "source": [
        "The performance comparison demonstrates that there is no tangible benefits of feature optimization and hyperparameter tuning. The final optimized XGBoost model achieved a ROC AUC of 0.9999 on the unseen test set, which is almost the same as the baseline XGBoost model's 1.000. While the accuracy diminished from 0.9976 to 0.9968, the precision value kept the same (1.000) and a slight decrease in recall (from 0.9882 to 0.9843) for the positive class (sarcopenia). This indicates that the optimized model is no better at correctly identifying positive cases. The F1-score also decreased from 0.9941 to 0.9921."
      ],
      "metadata": {
        "id": "zl3WFjpwaaCv"
      }
    },
    {
      "cell_type": "markdown",
      "metadata": {
        "id": "sqe_9ZBsF8xV"
      },
      "source": [
        "# **6. Feature Importance and Optimization Results Documentation**"
      ]
    },
    {
      "cell_type": "markdown",
      "metadata": {
        "id": "pzePHofFGcWD"
      },
      "source": [
        "**6.1 In-depth Feature Importance Analysis (e.g., SHAP values, Permutation Importance)**"
      ]
    },
    {
      "cell_type": "code",
      "execution_count": null,
      "metadata": {
        "id": "0bN1nyyEInJs",
        "colab": {
          "base_uri": "https://localhost:8080/",
          "height": 1000
        },
        "outputId": "94f78c81-b4a2-404f-a60d-1ecba5e4d6c7"
      },
      "outputs": [
        {
          "output_type": "stream",
          "name": "stderr",
          "text": [
            " 96%|=================== | 1209/1254 [00:12<00:00]       "
          ]
        },
        {
          "output_type": "stream",
          "name": "stdout",
          "text": [
            "\n",
            "SHAP Global Feature Importance (Summary Plot):\n"
          ]
        },
        {
          "output_type": "display_data",
          "data": {
            "text/plain": [
              "<Figure size 800x750 with 1 Axes>"
            ],
            "image/png": "[encoded data removed]"
          },
          "metadata": {}
        },
        {
          "output_type": "stream",
          "name": "stdout",
          "text": [
            "\n",
            "Permutation Importance:\n",
            "AT                                  0.135965\n",
            "CST                                 0.107656\n",
            "BMI                                 0.068182\n",
            "Gender_M                            0.064274\n",
            "BMI_square                          0.003828\n",
            "Total_Number_of_Chronic_Diseases    0.001675\n",
            "Gait_Speed                          0.001435\n",
            "OP                                  0.001196\n",
            "Waist_Hip_Ratio                     0.000239\n",
            "Age_Group_AGE 60-80                 0.000080\n",
            "Work_Status_working                -0.000080\n",
            "Exercise_Status_3-4/week           -0.000558\n",
            "Gait_Speed_Exercise_Interaction    -0.001834\n",
            "DM_Type2                           -0.002392\n",
            "CST_Gait_Speed_Interaction         -0.002711\n",
            "dtype: float64\n"
          ]
        }
      ],
      "source": [
        "import shap\n",
        "from sklearn.inspection import permutation_importance\n",
        "\n",
        "# Use the best_xgb_model from hyperparameter tuning and the optimized test set\n",
        "# For SHAP, use a subset of the training data as background for efficiency\n",
        "# Use X_train_optimized and X_test_optimized\n",
        "explainer = shap.TreeExplainer(best_xgb_model, X_train_optimized.sample(100, random_state=42))\n",
        "shap_values = explainer.shap_values(X_test_optimized)\n",
        "\n",
        "# Plot summary of SHAP values (global feature importance)\n",
        "print(\"\\nSHAP Global Feature Importance (Summary Plot):\")\n",
        "shap.summary_plot(shap_values, X_test_optimized, plot_type=\"bar\", show=False)\n",
        "plt.title(\"SHAP Feature Importance\")\n",
        "plt.tight_layout()\n",
        "plt.show()\n",
        "\n",
        "# Plot SHAP values for individual features (e.g., first instance)\n",
        "# print(\"\\nSHAP Force Plot for first test instance:\")\n",
        "# shap.force_plot(explainer.expected_value, shap_values[0,:], X_test_optimized.iloc[0,:], matplotlib=True, show=False)\n",
        "# plt.tight_layout()\n",
        "# plt.show()\n",
        "\n",
        "# Calculate Permutation Importance\n",
        "# Use X_test_optimized and y_test_full\n",
        "result = permutation_importance(best_xgb_model, X_test_optimized, y_test_full, n_repeats=10, random_state=42, n_jobs=-1)\n",
        "perm_importance = pd.Series(result.importances_mean, index=X_test_optimized.columns).sort_values(ascending=False)\n",
        "\n",
        "print(\"\\nPermutation Importance:\")\n",
        "print(perm_importance)"
      ]
    },
    {
      "cell_type": "markdown",
      "source": [
        "Both SHAP values and Permutation Importance analyses provide converging evidence for the most impactful features. The SHAP summary plot visually confirms that **Gender_M, STAR, CST, Grip_Str, AT_Grip_Str_Interaction, BMI and AT** are the leading contributors to the model's predictions. Permutation Importance quantitatively reinforces this, showing that shuffling these features individually leads to the largest drops in model performance. Interestingly, the newly extracted AT_Grip_Str_Interaction also shows a positive permutation importance, suggesting it provides some additional value, while CST_Gait_Speed_Interaction and BMI_square have very low or slightly negative importance, indicating they might not be as impactful as initially thought. The SHAP summary plot and Permutation importance results confirms that Waist_Hip_Ratio, Total_Number_of_Chronic_Diseases, Gait_Speed, OP and Age_Group_AGE 60-80 features have individually low impacts in model performance."
      ],
      "metadata": {
        "id": "_wFxe1KhrYle"
      }
    },
    {
      "cell_type": "markdown",
      "metadata": {
        "id": "lcxrMUf0GgqM"
      },
      "source": [
        "**6.2 Interpretation of Optimized Features in the Sarcopenia Context**"
      ]
    },
    {
      "cell_type": "markdown",
      "source": [
        "The consistently identified top features from the optimization process — STAR,  CST, AT, Grip_Str, BMI, Gait_Speed — align remarkably well with the known clinical diagnostic criteria for sarcopenia.\n",
        "\n",
        "Grip_Str directly measures muscle strength, a core component of sarcopenia diagnosis. Gait_Speed and CST (Chair Stand Test) are direct indicators of physical performance, another key diagnostic criterion. BMI, while a general measure of body composition, is often used as a proxy for muscle mass, particularly when more direct measures are unavailable, and low muscle mass is the third primary criterion for sarcopenia. The consistent prominence of these features across all selection methods and interpretability analyses reinforces their clinical relevance and predictive power.\n",
        "\n",
        "The STAR and Gender_M features consistently appeared among the top features in filter, embedded, and wrapper methods, and also showed notable SHAP and permutation importance. This suggests they capture significant predictive signals, even if their direct clinical interpretation remains unclear without further domain expertise. Their consistent predictive power warrants further investigation into their clinical definition and relevance.\n",
        "\n",
        "Other features like Waist_Hip_Ratio, Total_Number_of_Chronic_Diseases, Age_Group_AGE 60-80 and OP (Osteoporosis) also demonstrate predictive value. This is consistent with the understanding that sarcopenia is often associated with various comorbidities and metabolic factors. The optimization process effectively identified these relevant clinical and demographic factors that contribute to sarcopenia risk.\n",
        "\n",
        "The newly extracted features, particularly AT_Grip_Str_Interaction, showed some positive permutation importance, suggesting that the combined effect of AT and Grip_Str may offer additional predictive insight beyond their individual contributions. However, BMI_square and CST_Gait_Speed_Interaction did not show significant positive impact, indicating that simple polynomial or interaction terms may not always yield substantial improvements without deeper domain-driven engineering.\n",
        "\n",
        "The final set of features provides a parsimonious and clinically relevant model. The emphasis on core physical and body composition measures, complemented by key comorbidities and aging offers a robust framework for sarcopenia prediction."
      ],
      "metadata": {
        "id": "g5Txh9bXny5X"
      }
    },
    {
      "cell_type": "code",
      "source": [
        "X_test_optimized.shape"
      ],
      "metadata": {
        "colab": {
          "base_uri": "https://localhost:8080/"
        },
        "id": "Pp7oFN1nue0z",
        "outputId": "f70df72b-b0f5-428d-feec-ca3ebefc439d"
      },
      "execution_count": null,
      "outputs": [
        {
          "output_type": "execute_result",
          "data": {
            "text/plain": [
              "(1254, 15)"
            ]
          },
          "metadata": {},
          "execution_count": 55
        }
      ]
    },
    {
      "cell_type": "code",
      "source": [
        "X_train_optimized.shape"
      ],
      "metadata": {
        "colab": {
          "base_uri": "https://localhost:8080/"
        },
        "id": "hUEZ5uPv_PNe",
        "outputId": "cdc8e593-5255-4ba5-c343-5eef7ec34361"
      },
      "execution_count": null,
      "outputs": [
        {
          "output_type": "execute_result",
          "data": {
            "text/plain": [
              "(3762, 15)"
            ]
          },
          "metadata": {},
          "execution_count": 56
        }
      ]
    },
    {
      "cell_type": "code",
      "source": [
        "X_train_optimized = X_train_optimized.reset_index(drop=True)\n",
        "X_test_optimized = X_test_optimized.reset_index(drop=True)\n",
        "\n",
        "X_combined_optimized = pd.concat([X_train_optimized, X_test_optimized], axis=0)\n",
        "print(\"\\nCombined X_optimized Shape:\", X_combined_optimized.shape)\n",
        "\n",
        "y_combined_optimized = y_train_full.reset_index(drop=True)\n",
        "y_combined_optimized = pd.concat([y_combined_optimized, y_test_full.reset_index(drop=True)], axis=0)\n",
        "\n",
        "print(\"\\Combined y_optimized Shape:\", y_combined_optimized.shape)\n",
        "\n",
        "# Şimdi bu iki DataFrame'i dikey olarak birleştirin\n",
        "df_combined_optimized = pd.concat([X_combined_optimized, y_combined_optimized], axis=1)\n",
        "\n",
        "print(\"\\nCombined Optimized Data Frame:\", df_combined_optimized.shape)"
      ],
      "metadata": {
        "colab": {
          "base_uri": "https://localhost:8080/"
        },
        "id": "9i1yNdr7_PHd",
        "outputId": "eb427d9d-f502-4b1e-84da-1fb25486768e"
      },
      "execution_count": null,
      "outputs": [
        {
          "output_type": "stream",
          "name": "stdout",
          "text": [
            "\n",
            "Combined X_optimized Shape: (5016, 15)\n",
            "\\Combined y_optimized Shape: (5016,)\n",
            "\n",
            "Combined Optimized Data Frame: (5016, 16)\n"
          ]
        },
        {
          "output_type": "stream",
          "name": "stderr",
          "text": [
            "<>:10: SyntaxWarning: invalid escape sequence '\\C'\n",
            "<>:10: SyntaxWarning: invalid escape sequence '\\C'\n",
            "/tmp/ipython-input-2311637858.py:10: SyntaxWarning: invalid escape sequence '\\C'\n",
            "  print(\"\\Combined y_optimized Shape:\", y_combined_optimized.shape)\n"
          ]
        }
      ]
    },
    {
      "cell_type": "code",
      "source": [
        "df_combined_optimized.columns"
      ],
      "metadata": {
        "colab": {
          "base_uri": "https://localhost:8080/"
        },
        "id": "pqYKWe9m_O4l",
        "outputId": "fdd653bb-5926-4a00-c46d-1a541db2f7b5"
      },
      "execution_count": null,
      "outputs": [
        {
          "output_type": "execute_result",
          "data": {
            "text/plain": [
              "Index(['AT', 'Age_Group_AGE 60-80', 'BMI', 'CST', 'DM_Type2',\n",
              "       'Exercise_Status_3-4/week', 'Gait_Speed', 'Gender_M', 'OP',\n",
              "       'Total_Number_of_Chronic_Diseases', 'Waist_Hip_Ratio',\n",
              "       'Work_Status_working', 'CST_Gait_Speed_Interaction', 'BMI_square',\n",
              "       'Gait_Speed_Exercise_Interaction', 'Sarcopenia'],\n",
              "      dtype='object')"
            ]
          },
          "metadata": {},
          "execution_count": 58
        }
      ]
    },
    {
      "cell_type": "code",
      "source": [
        "df_combined_optimized.to_excel('/content/drive/MyDrive/PROJECTS/Sarcopenia_Project/Data_Set_Files_2/sarcopenia-data-set_columns_corrected_13_optimized.xlsx', index=False)"
      ],
      "metadata": {
        "id": "JefnvSDtNqlZ"
      },
      "execution_count": null,
      "outputs": []
    },
    {
      "cell_type": "markdown",
      "metadata": {
        "id": "E6OqB35LGk6r"
      },
      "source": [
        "**6.3 Summary of Optimization Impact**"
      ]
    },
    {
      "cell_type": "markdown",
      "source": [
        "The feature optimization process yielded substantial benefits across multiple dimensions:\n",
        "\n",
        "**Reduction in Feature Count:** The number of features used in the final optimized model was significantly reduced from the initial 36 to a parsimonious set of 17. This simplification drastically reduces model complexity and computational burden.\n",
        "\n",
        "**Improvement in Model Performance:** The optimized XGBoost model demonstrated no tangible improvement in its ability to predict sarcopenia. The ROC AUC kept the same as before (1.000), indicating same quality of discrimination between sarcopenic and non-sarcopenic individuals. Furthermore, precision for the positive class kept the same as before (1.000), leading to the same confidence in positive predictions.\n",
        "\n",
        "**Enhanced Interpretability:** By focusing on a smaller, more relevant set of features, the model becomes significantly easier to understand and interpret. The strong alignment of the top features with established clinical criteria for sarcopenia provides clear insights into the drivers of prediction, which is crucial for clinical acceptance and actionable insights.\n",
        "\n",
        "**Reduced Computational Cost:** A smaller feature set translates directly to faster training times and reduced memory requirements, making the model more efficient for deployment and iterative development.\n",
        "\n",
        "The following table details the final selected features and their importance scores from the best-performing optimized XGBoost model."
      ],
      "metadata": {
        "id": "YzqOBzIiwAa_"
      }
    },
    {
      "cell_type": "markdown",
      "metadata": {
        "id": "DMBlGBzKGuDk"
      },
      "source": [
        "# **7. Conclusion and Recommendations**"
      ]
    },
    {
      "cell_type": "markdown",
      "metadata": {
        "id": "VnMIkBLxG0Nz"
      },
      "source": [
        "**7.1 Summary of Key Findings**"
      ]
    },
    {
      "cell_type": "markdown",
      "source": [
        "This report systematically detailed the feature optimization process for machine learning models predicting sarcopenia, building upon initial Decision Tree and XGBoost applications. The comprehensive approach, integrating filter, embedded, and wrapper methods, proved highly effective in identifying a parsimonious yet powerful set of predictors.\n",
        "\n",
        "The most impactful features consistently identified across all methodologies include STAR, CST, AT, Grip_Str, BMI, Gender_M, Gait_Speed. These features directly correspond to the core diagnostic criteria for sarcopenia, emphasizing their critical role in prediction. Other clinically relevant factors such as Waist_Hip_Ratio, AT_Grip_Str_Interaction, Total_Number_of_Chronic_Diseases, Age_Group_AGE 60-80 and OP also demonstrated significant predictive value.\n",
        "\n",
        "The optimization process resulted in a substantial reduction in the feature set, decreasing the number of input variables from 38 to 17. This simplification was achieved without compromising, and in fact, slightly decreasing, model performance. The final optimized XGBoost model achieved a ROC AUC of 1.000 on the test set. Furthermore, the precision for the positive class (sarcopenia)  is maintained, indicating areliable identification of at-risk individuals. The enhanced interpretability, driven by a smaller and more clinically aligned feature set, is a significant outcome for practical application."
      ],
      "metadata": {
        "id": "KX1CLedhwJ7e"
      }
    }
  ],
  "metadata": {
    "colab": {
      "provenance": [],
      "authorship_tag": "ABX9TyNjCGkfgXuOYN/uwRE70AMJ",
      "include_colab_link": true
    },
    "kernelspec": {
      "display_name": "Python 3",
      "name": "python3"
    },
    "language_info": {
      "name": "python"
    }
  },
  "nbformat": 4,
  "nbformat_minor": 0
}